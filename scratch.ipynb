{
 "cells": [
  {
   "cell_type": "code",
<<<<<<< HEAD
   "execution_count": 69,
=======
   "execution_count": 118,
>>>>>>> 27b6deaa522d9623aa415e58efe90daa932a6128
   "metadata": {},
   "outputs": [
    {
     "name": "stdout",
     "output_type": "stream",
     "text": [
<<<<<<< HEAD
      "(3561, 6)\n",
      "      ID  Release Year                 Title  \\\n",
      "0   5075          1950            Chain Gang   \n",
      "1  32149          2003                 Aithe   \n",
      "2   7154          1958         Wild Heritage   \n",
      "3   4259          1946       In Fast Company   \n",
      "4   7548          1961  Stop, Look and Laugh   \n",
      "\n",
      "                                                Plot  \\\n",
      "0  After a state senator's bill to abolish chain ...   \n",
      "1  Irfan Khan (Pavan Malhotra) is a key mafia aff...   \n",
      "2  The film tells the story of Emma Breslin (O'Su...   \n",
      "3  The boys are involved in an altercation with a...   \n",
      "4  Paul Winchell plays a father to Jerry Mahoney ...   \n",
      "\n",
      "                   Director                                     Cast  \n",
      "0               Lew Landers           Douglas Kennedy, Marjorie Lord  \n",
      "1      Chandrashekar Yeleti  Sashank, Sindhu Tolani, Abhishek, Mohit  \n",
      "2              Charles Haas     Will Rogers, Jr., Maureen O'Sullivan  \n",
      "3                  Del Lord           The Bowery Boys, Jane Randolph  \n",
      "4  Don Appell, Louis Brandt             Three Stooges, Paul Winchell  \n"
     ]
=======
      "(10682, 7)\n"
     ]
    },
    {
     "data": {
      "text/html": [
       "<div>\n",
       "<style scoped>\n",
       "    .dataframe tbody tr th:only-of-type {\n",
       "        vertical-align: middle;\n",
       "    }\n",
       "\n",
       "    .dataframe tbody tr th {\n",
       "        vertical-align: top;\n",
       "    }\n",
       "\n",
       "    .dataframe thead th {\n",
       "        text-align: right;\n",
       "    }\n",
       "</style>\n",
       "<table border=\"1\" class=\"dataframe\">\n",
       "  <thead>\n",
       "    <tr style=\"text-align: right;\">\n",
       "      <th></th>\n",
       "      <th>ID</th>\n",
       "      <th>Release Year</th>\n",
       "      <th>Title</th>\n",
       "      <th>Plot</th>\n",
       "      <th>Director</th>\n",
       "      <th>Cast</th>\n",
       "      <th>Genre</th>\n",
       "    </tr>\n",
       "  </thead>\n",
       "  <tbody>\n",
       "    <tr>\n",
       "      <td>0</td>\n",
       "      <td>10281</td>\n",
       "      <td>1984</td>\n",
       "      <td>Silent Madness</td>\n",
       "      <td>A computer error leads to the accidental relea...</td>\n",
       "      <td>Simon Nuchtern</td>\n",
       "      <td>Belinda Montgomery, Viveca Lindfors</td>\n",
       "      <td>horror</td>\n",
       "    </tr>\n",
       "    <tr>\n",
       "      <td>1</td>\n",
       "      <td>7341</td>\n",
       "      <td>1960</td>\n",
       "      <td>Desire in the Dust</td>\n",
       "      <td>Lonnie Wilson (Ken Scott), the son of a sharec...</td>\n",
       "      <td>Robert L. Lippert</td>\n",
       "      <td>Raymond Burr, Martha Hyer, Joan Bennett</td>\n",
       "      <td>drama</td>\n",
       "    </tr>\n",
       "    <tr>\n",
       "      <td>2</td>\n",
       "      <td>10587</td>\n",
       "      <td>1986</td>\n",
       "      <td>On the Edge</td>\n",
       "      <td>A gaunt, bushy-bearded, 44-year-old Wes Holman...</td>\n",
       "      <td>Rob Nilsson</td>\n",
       "      <td>Bruce Dern, Pam Grier</td>\n",
       "      <td>drama</td>\n",
       "    </tr>\n",
       "    <tr>\n",
       "      <td>3</td>\n",
       "      <td>25495</td>\n",
       "      <td>1988</td>\n",
       "      <td>Ram-Avtar</td>\n",
       "      <td>Ram and Avtar are both childhood best friends....</td>\n",
       "      <td>Sunil Hingorani</td>\n",
       "      <td>Sunny Deol, Anil Kapoor, Sridevi</td>\n",
       "      <td>drama</td>\n",
       "    </tr>\n",
       "    <tr>\n",
       "      <td>4</td>\n",
       "      <td>16607</td>\n",
       "      <td>2013</td>\n",
       "      <td>Machete Kills</td>\n",
       "      <td>Machete Cortez (Danny Trejo) and Sartana River...</td>\n",
       "      <td>Robert Rodriguez</td>\n",
       "      <td>Danny Trejo, Michelle Rodriguez, Sofía Vergara...</td>\n",
       "      <td>action</td>\n",
       "    </tr>\n",
       "  </tbody>\n",
       "</table>\n",
       "</div>"
      ],
      "text/plain": [
       "      ID  Release Year               Title  \\\n",
       "0  10281          1984      Silent Madness   \n",
       "1   7341          1960  Desire in the Dust   \n",
       "2  10587          1986         On the Edge   \n",
       "3  25495          1988           Ram-Avtar   \n",
       "4  16607          2013       Machete Kills   \n",
       "\n",
       "                                                Plot           Director  \\\n",
       "0  A computer error leads to the accidental relea...     Simon Nuchtern   \n",
       "1  Lonnie Wilson (Ken Scott), the son of a sharec...  Robert L. Lippert   \n",
       "2  A gaunt, bushy-bearded, 44-year-old Wes Holman...        Rob Nilsson   \n",
       "3  Ram and Avtar are both childhood best friends....    Sunil Hingorani   \n",
       "4  Machete Cortez (Danny Trejo) and Sartana River...   Robert Rodriguez   \n",
       "\n",
       "                                                Cast   Genre  \n",
       "0                Belinda Montgomery, Viveca Lindfors  horror  \n",
       "1            Raymond Burr, Martha Hyer, Joan Bennett   drama  \n",
       "2                              Bruce Dern, Pam Grier   drama  \n",
       "3                   Sunny Deol, Anil Kapoor, Sridevi   drama  \n",
       "4  Danny Trejo, Michelle Rodriguez, Sofía Vergara...  action  "
      ]
     },
     "execution_count": 118,
     "metadata": {},
     "output_type": "execute_result"
>>>>>>> 27b6deaa522d9623aa415e58efe90daa932a6128
    }
   ],
   "source": [
    "import pandas as pd\n",
    "import text_processing as text\n",
    "from sklearn import metrics\n",
    "from sklearn.metrics import precision_score, accuracy_score, recall_score, f1_score\n",
    "from sklearn.model_selection import StratifiedKFold, cross_val_predict, cross_val_score\n",
    "from sklearn.feature_extraction.text import CountVectorizer, TfidfTransformer, TfidfVectorizer\n",
    "from sklearn.pipeline import Pipeline\n",
    "from sklearn.linear_model import SGDClassifier\n",
    "import numpy as np\n",
    "import matplotlib.pyplot as plt\n",
    "from sklearn.model_selection import GridSearchCV\n",
<<<<<<< HEAD
    "from sklearn.model_selection import train_test_split\n",
    "\n",
    "import imblearn.pipeline as balance_pipe\n",
    "from imblearn.over_sampling import ADASYN, SMOTE, RandomOverSampler\n",
    "scorer = metrics.make_scorer(metrics.f1_score, average = 'weighted')\n",
    "\n",
    "def load_csv(filename):\n",
    "    df = pd.read_csv(filename,index_col=0,)\n",
    "\n",
    "    df.reset_index(drop=False,inplace=True)\n",
    "    df.rename(mapper={'index':'ID'},axis=1,inplace=True)\n",
    "\n",
    "    print(df.shape)\n",
    "\n",
    "    print(df.head())\n",
    "    \n",
    "    return df\n",
    "\n",
    "df = load_csv(\"movie_test.csv\")\n"
   ]
  },
  {
   "cell_type": "markdown",
   "metadata": {},
   "source": [
    "Begin Modeling"
=======
    "\n",
    "\n",
    "df = pd.read_csv(\"movie_train.csv\",index_col=0,)\n",
    "\n",
    "df.reset_index(drop=False,inplace=True)\n",
    "df.rename(mapper={'index':'ID'},axis=1,inplace=True)\n",
    "\n",
    "print(df.shape)\n",
    "\n",
    "df.head()\n",
    "\n",
    "\n"
>>>>>>> 27b6deaa522d9623aa415e58efe90daa932a6128
   ]
  },
  {
   "cell_type": "code",
<<<<<<< HEAD
   "execution_count": 2,
   "metadata": {},
   "outputs": [],
   "source": [
    "X = df['Plot']\n",
    "y = df['Genre']\n",
    "\n",
    "X_train, X_test, y_train, y_test = train_test_split(X, y, test_size=0.3, random_state=0)\n",
    "\n",
    "# skf = StratifiedKFold(n_splits=3)\n",
    "# for train_index, test_index in skf.split(X, y):\n",
    "#     X_train, X_test = X[train_index], X[test_index]\n",
    "#     y_train, y_test = y[train_index], y[test_index]"
=======
   "execution_count": 5,
   "metadata": {},
   "outputs": [],
   "source": [
    "skf = StratifiedKFold(n_splits=3)\n",
    "\n",
    "X = df['Plot']\n",
    "y = df['Genre']\n",
    "\n",
    "for train_index, test_index in skf.split(X, y):\n",
    "    X_train, X_test = X[train_index], X[test_index]\n",
    "    y_train, y_test = y[train_index], y[test_index]"
>>>>>>> 27b6deaa522d9623aa415e58efe90daa932a6128
   ]
  },
  {
   "cell_type": "code",
<<<<<<< HEAD
   "execution_count": 3,
=======
   "execution_count": 7,
>>>>>>> 27b6deaa522d9623aa415e58efe90daa932a6128
   "metadata": {},
   "outputs": [],
   "source": [
    "text_clf = Pipeline([\n",
    "     ('vect', CountVectorizer()),\n",
    "     ('tfidf', TfidfTransformer()),\n",
    "     ('clf', SGDClassifier(loss='hinge',penalty='l2',\n",
    "                           alpha=1e-3, random_state=42,\n",
    "                           n_jobs=-1)),\n",
    " ])"
   ]
  },
  {
   "cell_type": "code",
<<<<<<< HEAD
   "execution_count": 4,
=======
   "execution_count": 8,
>>>>>>> 27b6deaa522d9623aa415e58efe90daa932a6128
   "metadata": {},
   "outputs": [
    {
     "name": "stdout",
     "output_type": "stream",
     "text": [
<<<<<<< HEAD
      "0.5778471138845553\n"
=======
      "0.5657303370786517\n"
>>>>>>> 27b6deaa522d9623aa415e58efe90daa932a6128
     ]
    }
   ],
   "source": [
    "text_clf.fit(X_train, y_train)\n",
    "predicted = text_clf.predict(X_test)\n",
    "print(np.mean(predicted == y_test))"
   ]
  },
  {
   "cell_type": "code",
<<<<<<< HEAD
   "execution_count": 5,
=======
   "execution_count": 9,
>>>>>>> 27b6deaa522d9623aa415e58efe90daa932a6128
   "metadata": {},
   "outputs": [],
   "source": [
    "parameters = {\n",
    "     'vect__ngram_range': [(1, 1), (1, 2)],\n",
    "     'tfidf__use_idf': (True, False),\n",
    "     'clf__alpha': (1e-2, 1e-3),\n",
    " }"
   ]
  },
  {
   "cell_type": "code",
<<<<<<< HEAD
   "execution_count": 8,
=======
   "execution_count": 10,
>>>>>>> 27b6deaa522d9623aa415e58efe90daa932a6128
   "metadata": {},
   "outputs": [],
   "source": [
    "# Create grid search \n",
    "scorer = metrics.make_scorer(metrics.f1_score, average = 'weighted')\n",
<<<<<<< HEAD
    "#gs_clf = GridSearchCV(text_clf, parameters, cv=5, n_jobs=-1,scoring=scorer)"
   ]
  },
  {
   "cell_type": "code",
   "execution_count": 7,
   "metadata": {},
   "outputs": [
    {
     "ename": "KeyboardInterrupt",
     "evalue": "",
     "output_type": "error",
     "traceback": [
      "\u001b[0;31m---------------------------------------------------------------------------\u001b[0m",
      "\u001b[0;31mKeyboardInterrupt\u001b[0m                         Traceback (most recent call last)",
      "\u001b[0;32m<ipython-input-7-4c00caba1565>\u001b[0m in \u001b[0;36m<module>\u001b[0;34m\u001b[0m\n\u001b[0;32m----> 1\u001b[0;31m \u001b[0mgs_clf\u001b[0m \u001b[0;34m=\u001b[0m \u001b[0mgs_clf\u001b[0m\u001b[0;34m.\u001b[0m\u001b[0mfit\u001b[0m\u001b[0;34m(\u001b[0m\u001b[0mX_train\u001b[0m\u001b[0;34m,\u001b[0m \u001b[0my_train\u001b[0m\u001b[0;34m)\u001b[0m\u001b[0;34m\u001b[0m\u001b[0;34m\u001b[0m\u001b[0m\n\u001b[0m",
      "\u001b[0;32m//anaconda3/lib/python3.7/site-packages/sklearn/model_selection/_search.py\u001b[0m in \u001b[0;36mfit\u001b[0;34m(self, X, y, groups, **fit_params)\u001b[0m\n\u001b[1;32m    710\u001b[0m                 \u001b[0;32mreturn\u001b[0m \u001b[0mresults\u001b[0m\u001b[0;34m\u001b[0m\u001b[0;34m\u001b[0m\u001b[0m\n\u001b[1;32m    711\u001b[0m \u001b[0;34m\u001b[0m\u001b[0m\n\u001b[0;32m--> 712\u001b[0;31m             \u001b[0mself\u001b[0m\u001b[0;34m.\u001b[0m\u001b[0m_run_search\u001b[0m\u001b[0;34m(\u001b[0m\u001b[0mevaluate_candidates\u001b[0m\u001b[0;34m)\u001b[0m\u001b[0;34m\u001b[0m\u001b[0;34m\u001b[0m\u001b[0m\n\u001b[0m\u001b[1;32m    713\u001b[0m \u001b[0;34m\u001b[0m\u001b[0m\n\u001b[1;32m    714\u001b[0m         \u001b[0;31m# For multi-metric evaluation, store the best_index_, best_params_ and\u001b[0m\u001b[0;34m\u001b[0m\u001b[0;34m\u001b[0m\u001b[0;34m\u001b[0m\u001b[0m\n",
      "\u001b[0;32m//anaconda3/lib/python3.7/site-packages/sklearn/model_selection/_search.py\u001b[0m in \u001b[0;36m_run_search\u001b[0;34m(self, evaluate_candidates)\u001b[0m\n\u001b[1;32m   1151\u001b[0m     \u001b[0;32mdef\u001b[0m \u001b[0m_run_search\u001b[0m\u001b[0;34m(\u001b[0m\u001b[0mself\u001b[0m\u001b[0;34m,\u001b[0m \u001b[0mevaluate_candidates\u001b[0m\u001b[0;34m)\u001b[0m\u001b[0;34m:\u001b[0m\u001b[0;34m\u001b[0m\u001b[0;34m\u001b[0m\u001b[0m\n\u001b[1;32m   1152\u001b[0m         \u001b[0;34m\"\"\"Search all candidates in param_grid\"\"\"\u001b[0m\u001b[0;34m\u001b[0m\u001b[0;34m\u001b[0m\u001b[0m\n\u001b[0;32m-> 1153\u001b[0;31m         \u001b[0mevaluate_candidates\u001b[0m\u001b[0;34m(\u001b[0m\u001b[0mParameterGrid\u001b[0m\u001b[0;34m(\u001b[0m\u001b[0mself\u001b[0m\u001b[0;34m.\u001b[0m\u001b[0mparam_grid\u001b[0m\u001b[0;34m)\u001b[0m\u001b[0;34m)\u001b[0m\u001b[0;34m\u001b[0m\u001b[0;34m\u001b[0m\u001b[0m\n\u001b[0m\u001b[1;32m   1154\u001b[0m \u001b[0;34m\u001b[0m\u001b[0m\n\u001b[1;32m   1155\u001b[0m \u001b[0;34m\u001b[0m\u001b[0m\n",
      "\u001b[0;32m//anaconda3/lib/python3.7/site-packages/sklearn/model_selection/_search.py\u001b[0m in \u001b[0;36mevaluate_candidates\u001b[0;34m(candidate_params)\u001b[0m\n\u001b[1;32m    689\u001b[0m                                \u001b[0;32mfor\u001b[0m \u001b[0mparameters\u001b[0m\u001b[0;34m,\u001b[0m \u001b[0;34m(\u001b[0m\u001b[0mtrain\u001b[0m\u001b[0;34m,\u001b[0m \u001b[0mtest\u001b[0m\u001b[0;34m)\u001b[0m\u001b[0;34m\u001b[0m\u001b[0;34m\u001b[0m\u001b[0m\n\u001b[1;32m    690\u001b[0m                                in product(candidate_params,\n\u001b[0;32m--> 691\u001b[0;31m                                           cv.split(X, y, groups)))\n\u001b[0m\u001b[1;32m    692\u001b[0m \u001b[0;34m\u001b[0m\u001b[0m\n\u001b[1;32m    693\u001b[0m                 \u001b[0;32mif\u001b[0m \u001b[0mlen\u001b[0m\u001b[0;34m(\u001b[0m\u001b[0mout\u001b[0m\u001b[0;34m)\u001b[0m \u001b[0;34m<\u001b[0m \u001b[0;36m1\u001b[0m\u001b[0;34m:\u001b[0m\u001b[0;34m\u001b[0m\u001b[0;34m\u001b[0m\u001b[0m\n",
      "\u001b[0;32m//anaconda3/lib/python3.7/site-packages/joblib/parallel.py\u001b[0m in \u001b[0;36m__call__\u001b[0;34m(self, iterable)\u001b[0m\n\u001b[1;32m    932\u001b[0m \u001b[0;34m\u001b[0m\u001b[0m\n\u001b[1;32m    933\u001b[0m             \u001b[0;32mwith\u001b[0m \u001b[0mself\u001b[0m\u001b[0;34m.\u001b[0m\u001b[0m_backend\u001b[0m\u001b[0;34m.\u001b[0m\u001b[0mretrieval_context\u001b[0m\u001b[0;34m(\u001b[0m\u001b[0;34m)\u001b[0m\u001b[0;34m:\u001b[0m\u001b[0;34m\u001b[0m\u001b[0;34m\u001b[0m\u001b[0m\n\u001b[0;32m--> 934\u001b[0;31m                 \u001b[0mself\u001b[0m\u001b[0;34m.\u001b[0m\u001b[0mretrieve\u001b[0m\u001b[0;34m(\u001b[0m\u001b[0;34m)\u001b[0m\u001b[0;34m\u001b[0m\u001b[0;34m\u001b[0m\u001b[0m\n\u001b[0m\u001b[1;32m    935\u001b[0m             \u001b[0;31m# Make sure that we get a last message telling us we are done\u001b[0m\u001b[0;34m\u001b[0m\u001b[0;34m\u001b[0m\u001b[0;34m\u001b[0m\u001b[0m\n\u001b[1;32m    936\u001b[0m             \u001b[0melapsed_time\u001b[0m \u001b[0;34m=\u001b[0m \u001b[0mtime\u001b[0m\u001b[0;34m.\u001b[0m\u001b[0mtime\u001b[0m\u001b[0;34m(\u001b[0m\u001b[0;34m)\u001b[0m \u001b[0;34m-\u001b[0m \u001b[0mself\u001b[0m\u001b[0;34m.\u001b[0m\u001b[0m_start_time\u001b[0m\u001b[0;34m\u001b[0m\u001b[0;34m\u001b[0m\u001b[0m\n",
      "\u001b[0;32m//anaconda3/lib/python3.7/site-packages/joblib/parallel.py\u001b[0m in \u001b[0;36mretrieve\u001b[0;34m(self)\u001b[0m\n\u001b[1;32m    831\u001b[0m             \u001b[0;32mtry\u001b[0m\u001b[0;34m:\u001b[0m\u001b[0;34m\u001b[0m\u001b[0;34m\u001b[0m\u001b[0m\n\u001b[1;32m    832\u001b[0m                 \u001b[0;32mif\u001b[0m \u001b[0mgetattr\u001b[0m\u001b[0;34m(\u001b[0m\u001b[0mself\u001b[0m\u001b[0;34m.\u001b[0m\u001b[0m_backend\u001b[0m\u001b[0;34m,\u001b[0m \u001b[0;34m'supports_timeout'\u001b[0m\u001b[0;34m,\u001b[0m \u001b[0;32mFalse\u001b[0m\u001b[0;34m)\u001b[0m\u001b[0;34m:\u001b[0m\u001b[0;34m\u001b[0m\u001b[0;34m\u001b[0m\u001b[0m\n\u001b[0;32m--> 833\u001b[0;31m                     \u001b[0mself\u001b[0m\u001b[0;34m.\u001b[0m\u001b[0m_output\u001b[0m\u001b[0;34m.\u001b[0m\u001b[0mextend\u001b[0m\u001b[0;34m(\u001b[0m\u001b[0mjob\u001b[0m\u001b[0;34m.\u001b[0m\u001b[0mget\u001b[0m\u001b[0;34m(\u001b[0m\u001b[0mtimeout\u001b[0m\u001b[0;34m=\u001b[0m\u001b[0mself\u001b[0m\u001b[0;34m.\u001b[0m\u001b[0mtimeout\u001b[0m\u001b[0;34m)\u001b[0m\u001b[0;34m)\u001b[0m\u001b[0;34m\u001b[0m\u001b[0;34m\u001b[0m\u001b[0m\n\u001b[0m\u001b[1;32m    834\u001b[0m                 \u001b[0;32melse\u001b[0m\u001b[0;34m:\u001b[0m\u001b[0;34m\u001b[0m\u001b[0;34m\u001b[0m\u001b[0m\n\u001b[1;32m    835\u001b[0m                     \u001b[0mself\u001b[0m\u001b[0;34m.\u001b[0m\u001b[0m_output\u001b[0m\u001b[0;34m.\u001b[0m\u001b[0mextend\u001b[0m\u001b[0;34m(\u001b[0m\u001b[0mjob\u001b[0m\u001b[0;34m.\u001b[0m\u001b[0mget\u001b[0m\u001b[0;34m(\u001b[0m\u001b[0;34m)\u001b[0m\u001b[0;34m)\u001b[0m\u001b[0;34m\u001b[0m\u001b[0;34m\u001b[0m\u001b[0m\n",
      "\u001b[0;32m//anaconda3/lib/python3.7/site-packages/joblib/_parallel_backends.py\u001b[0m in \u001b[0;36mwrap_future_result\u001b[0;34m(future, timeout)\u001b[0m\n\u001b[1;32m    519\u001b[0m         AsyncResults.get from multiprocessing.\"\"\"\n\u001b[1;32m    520\u001b[0m         \u001b[0;32mtry\u001b[0m\u001b[0;34m:\u001b[0m\u001b[0;34m\u001b[0m\u001b[0;34m\u001b[0m\u001b[0m\n\u001b[0;32m--> 521\u001b[0;31m             \u001b[0;32mreturn\u001b[0m \u001b[0mfuture\u001b[0m\u001b[0;34m.\u001b[0m\u001b[0mresult\u001b[0m\u001b[0;34m(\u001b[0m\u001b[0mtimeout\u001b[0m\u001b[0;34m=\u001b[0m\u001b[0mtimeout\u001b[0m\u001b[0;34m)\u001b[0m\u001b[0;34m\u001b[0m\u001b[0;34m\u001b[0m\u001b[0m\n\u001b[0m\u001b[1;32m    522\u001b[0m         \u001b[0;32mexcept\u001b[0m \u001b[0mLokyTimeoutError\u001b[0m\u001b[0;34m:\u001b[0m\u001b[0;34m\u001b[0m\u001b[0;34m\u001b[0m\u001b[0m\n\u001b[1;32m    523\u001b[0m             \u001b[0;32mraise\u001b[0m \u001b[0mTimeoutError\u001b[0m\u001b[0;34m(\u001b[0m\u001b[0;34m)\u001b[0m\u001b[0;34m\u001b[0m\u001b[0;34m\u001b[0m\u001b[0m\n",
      "\u001b[0;32m//anaconda3/lib/python3.7/concurrent/futures/_base.py\u001b[0m in \u001b[0;36mresult\u001b[0;34m(self, timeout)\u001b[0m\n\u001b[1;32m    425\u001b[0m                 \u001b[0;32mreturn\u001b[0m \u001b[0mself\u001b[0m\u001b[0;34m.\u001b[0m\u001b[0m__get_result\u001b[0m\u001b[0;34m(\u001b[0m\u001b[0;34m)\u001b[0m\u001b[0;34m\u001b[0m\u001b[0;34m\u001b[0m\u001b[0m\n\u001b[1;32m    426\u001b[0m \u001b[0;34m\u001b[0m\u001b[0m\n\u001b[0;32m--> 427\u001b[0;31m             \u001b[0mself\u001b[0m\u001b[0;34m.\u001b[0m\u001b[0m_condition\u001b[0m\u001b[0;34m.\u001b[0m\u001b[0mwait\u001b[0m\u001b[0;34m(\u001b[0m\u001b[0mtimeout\u001b[0m\u001b[0;34m)\u001b[0m\u001b[0;34m\u001b[0m\u001b[0;34m\u001b[0m\u001b[0m\n\u001b[0m\u001b[1;32m    428\u001b[0m \u001b[0;34m\u001b[0m\u001b[0m\n\u001b[1;32m    429\u001b[0m             \u001b[0;32mif\u001b[0m \u001b[0mself\u001b[0m\u001b[0;34m.\u001b[0m\u001b[0m_state\u001b[0m \u001b[0;32min\u001b[0m \u001b[0;34m[\u001b[0m\u001b[0mCANCELLED\u001b[0m\u001b[0;34m,\u001b[0m \u001b[0mCANCELLED_AND_NOTIFIED\u001b[0m\u001b[0;34m]\u001b[0m\u001b[0;34m:\u001b[0m\u001b[0;34m\u001b[0m\u001b[0;34m\u001b[0m\u001b[0m\n",
      "\u001b[0;32m//anaconda3/lib/python3.7/threading.py\u001b[0m in \u001b[0;36mwait\u001b[0;34m(self, timeout)\u001b[0m\n\u001b[1;32m    294\u001b[0m         \u001b[0;32mtry\u001b[0m\u001b[0;34m:\u001b[0m    \u001b[0;31m# restore state no matter what (e.g., KeyboardInterrupt)\u001b[0m\u001b[0;34m\u001b[0m\u001b[0;34m\u001b[0m\u001b[0m\n\u001b[1;32m    295\u001b[0m             \u001b[0;32mif\u001b[0m \u001b[0mtimeout\u001b[0m \u001b[0;32mis\u001b[0m \u001b[0;32mNone\u001b[0m\u001b[0;34m:\u001b[0m\u001b[0;34m\u001b[0m\u001b[0;34m\u001b[0m\u001b[0m\n\u001b[0;32m--> 296\u001b[0;31m                 \u001b[0mwaiter\u001b[0m\u001b[0;34m.\u001b[0m\u001b[0macquire\u001b[0m\u001b[0;34m(\u001b[0m\u001b[0;34m)\u001b[0m\u001b[0;34m\u001b[0m\u001b[0;34m\u001b[0m\u001b[0m\n\u001b[0m\u001b[1;32m    297\u001b[0m                 \u001b[0mgotit\u001b[0m \u001b[0;34m=\u001b[0m \u001b[0;32mTrue\u001b[0m\u001b[0;34m\u001b[0m\u001b[0;34m\u001b[0m\u001b[0m\n\u001b[1;32m    298\u001b[0m             \u001b[0;32melse\u001b[0m\u001b[0;34m:\u001b[0m\u001b[0;34m\u001b[0m\u001b[0;34m\u001b[0m\u001b[0m\n",
      "\u001b[0;31mKeyboardInterrupt\u001b[0m: "
     ]
    }
   ],
   "source": [
    "gs_clf = gs_clf.fit(X_train, y_train)"
   ]
  },
  {
   "cell_type": "code",
   "execution_count": null,
   "metadata": {},
   "outputs": [],
   "source": [
    "y_preds = gs_clf.predict(X_test)\n",
    "print(metrics.accuracy_score(y_test,y_preds))\n",
    "metrics.f1_score(y_test,y_preds,average='weighted')\n",
    "pd.DataFrame(metrics.classification_report(y_test,y_preds,output_dict=True))"
   ]
  },
  {
   "cell_type": "markdown",
   "metadata": {},
   "source": [
    "GridSearch"
=======
    "gs_clf = GridSearchCV(text_clf, parameters, cv=5, n_jobs=-1,scoring=scorer)"
>>>>>>> 27b6deaa522d9623aa415e58efe90daa932a6128
   ]
  },
  {
   "cell_type": "code",
<<<<<<< HEAD
   "execution_count": 28,
   "metadata": {},
   "outputs": [],
   "source": [
    "text_clf = Pipeline([\n",
    "    \n",
    "     ('vect', CountVectorizer()),\n",
    "     ('tfidf', TfidfTransformer()),\n",
    "     ('clf', SGDClassifier(loss='hinge',penalty='l2',\n",
    "                           alpha=1e-3, random_state=42,\n",
    "                           n_jobs=-1)),\n",
    " ])\n",
    "\n",
    "parameters = {\n",
    "     'vect__ngram_range': [(1, 1), (1, 2)],\n",
    "     'tfidf__use_idf': (True, False),\n",
    "     'clf__alpha': (1e-2, 1e-3),\n",
    " }\n",
    "\n",
    "gs_clf = GridSearchCV(text_clf, parameters, cv=5, n_jobs=-1,scoring=scorer)\n",
    "\n",
    "gs_clf = gs_clf.fit(X_train, y_train)\n",
    "\n",
    "y_preds = gs_clf.predict(X_test)"
=======
   "execution_count": 11,
   "metadata": {},
   "outputs": [],
   "source": [
    "gs_clf = gs_clf.fit(X_train, y_train)"
>>>>>>> 27b6deaa522d9623aa415e58efe90daa932a6128
   ]
  },
  {
   "cell_type": "code",
<<<<<<< HEAD
   "execution_count": 29,
=======
   "execution_count": 16,
>>>>>>> 27b6deaa522d9623aa415e58efe90daa932a6128
   "metadata": {},
   "outputs": [
    {
     "name": "stdout",
     "output_type": "stream",
     "text": [
<<<<<<< HEAD
      "0.5853354134165366\n"
=======
      "0.5783707865168539\n"
>>>>>>> 27b6deaa522d9623aa415e58efe90daa932a6128
     ]
    },
    {
     "data": {
      "text/html": [
       "<div>\n",
       "<style scoped>\n",
       "    .dataframe tbody tr th:only-of-type {\n",
       "        vertical-align: middle;\n",
       "    }\n",
       "\n",
       "    .dataframe tbody tr th {\n",
       "        vertical-align: top;\n",
       "    }\n",
       "\n",
       "    .dataframe thead th {\n",
       "        text-align: right;\n",
       "    }\n",
       "</style>\n",
       "<table border=\"1\" class=\"dataframe\">\n",
       "  <thead>\n",
       "    <tr style=\"text-align: right;\">\n",
       "      <th></th>\n",
       "      <th>action</th>\n",
       "      <th>adventure</th>\n",
       "      <th>comedy</th>\n",
       "      <th>crime</th>\n",
       "      <th>drama</th>\n",
       "      <th>horror</th>\n",
       "      <th>romance</th>\n",
       "      <th>thriller</th>\n",
       "      <th>western</th>\n",
       "      <th>accuracy</th>\n",
       "      <th>macro avg</th>\n",
       "      <th>weighted avg</th>\n",
       "    </tr>\n",
       "  </thead>\n",
       "  <tbody>\n",
       "    <tr>\n",
       "      <td>precision</td>\n",
<<<<<<< HEAD
       "      <td>0.613793</td>\n",
       "      <td>0.657143</td>\n",
       "      <td>0.614416</td>\n",
       "      <td>0.555556</td>\n",
       "      <td>0.544740</td>\n",
       "      <td>0.643411</td>\n",
       "      <td>0.436364</td>\n",
       "      <td>0.444444</td>\n",
       "      <td>0.783439</td>\n",
       "      <td>0.585335</td>\n",
       "      <td>0.588145</td>\n",
       "      <td>0.577703</td>\n",
       "    </tr>\n",
       "    <tr>\n",
       "      <td>recall</td>\n",
       "      <td>0.364754</td>\n",
       "      <td>0.232323</td>\n",
       "      <td>0.634002</td>\n",
       "      <td>0.053763</td>\n",
       "      <td>0.789658</td>\n",
       "      <td>0.685950</td>\n",
       "      <td>0.116505</td>\n",
       "      <td>0.042781</td>\n",
       "      <td>0.842466</td>\n",
       "      <td>0.585335</td>\n",
       "      <td>0.418023</td>\n",
       "      <td>0.585335</td>\n",
       "    </tr>\n",
       "    <tr>\n",
       "      <td>f1-score</td>\n",
       "      <td>0.457584</td>\n",
       "      <td>0.343284</td>\n",
       "      <td>0.624056</td>\n",
       "      <td>0.098039</td>\n",
       "      <td>0.644723</td>\n",
       "      <td>0.664000</td>\n",
       "      <td>0.183908</td>\n",
       "      <td>0.078049</td>\n",
       "      <td>0.811881</td>\n",
       "      <td>0.585335</td>\n",
       "      <td>0.433947</td>\n",
       "      <td>0.546228</td>\n",
       "    </tr>\n",
       "    <tr>\n",
       "      <td>support</td>\n",
       "      <td>244.000000</td>\n",
       "      <td>99.000000</td>\n",
       "      <td>847.000000</td>\n",
       "      <td>93.000000</td>\n",
       "      <td>1141.000000</td>\n",
       "      <td>242.000000</td>\n",
       "      <td>206.000000</td>\n",
       "      <td>187.000000</td>\n",
       "      <td>146.000000</td>\n",
       "      <td>0.585335</td>\n",
       "      <td>3205.000000</td>\n",
       "      <td>3205.000000</td>\n",
=======
       "      <td>0.581921</td>\n",
       "      <td>0.680000</td>\n",
       "      <td>0.590147</td>\n",
       "      <td>0.500000</td>\n",
       "      <td>0.536506</td>\n",
       "      <td>0.705263</td>\n",
       "      <td>0.447761</td>\n",
       "      <td>0.500000</td>\n",
       "      <td>0.801170</td>\n",
       "      <td>0.578371</td>\n",
       "      <td>0.593641</td>\n",
       "      <td>0.575588</td>\n",
       "    </tr>\n",
       "    <tr>\n",
       "      <td>recall</td>\n",
       "      <td>0.371841</td>\n",
       "      <td>0.154545</td>\n",
       "      <td>0.620044</td>\n",
       "      <td>0.036697</td>\n",
       "      <td>0.789809</td>\n",
       "      <td>0.717857</td>\n",
       "      <td>0.138889</td>\n",
       "      <td>0.052402</td>\n",
       "      <td>0.782857</td>\n",
       "      <td>0.578371</td>\n",
       "      <td>0.407216</td>\n",
       "      <td>0.578371</td>\n",
       "    </tr>\n",
       "    <tr>\n",
       "      <td>f1-score</td>\n",
       "      <td>0.453744</td>\n",
       "      <td>0.251852</td>\n",
       "      <td>0.604726</td>\n",
       "      <td>0.068376</td>\n",
       "      <td>0.638969</td>\n",
       "      <td>0.711504</td>\n",
       "      <td>0.212014</td>\n",
       "      <td>0.094862</td>\n",
       "      <td>0.791908</td>\n",
       "      <td>0.578371</td>\n",
       "      <td>0.425328</td>\n",
       "      <td>0.538709</td>\n",
       "    </tr>\n",
       "    <tr>\n",
       "      <td>support</td>\n",
       "      <td>277.000000</td>\n",
       "      <td>110.000000</td>\n",
       "      <td>908.000000</td>\n",
       "      <td>109.000000</td>\n",
       "      <td>1256.000000</td>\n",
       "      <td>280.000000</td>\n",
       "      <td>216.000000</td>\n",
       "      <td>229.000000</td>\n",
       "      <td>175.000000</td>\n",
       "      <td>0.578371</td>\n",
       "      <td>3560.000000</td>\n",
       "      <td>3560.000000</td>\n",
>>>>>>> 27b6deaa522d9623aa415e58efe90daa932a6128
       "    </tr>\n",
       "  </tbody>\n",
       "</table>\n",
       "</div>"
      ],
      "text/plain": [
<<<<<<< HEAD
       "               action  adventure      comedy      crime        drama  \\\n",
       "precision    0.613793   0.657143    0.614416   0.555556     0.544740   \n",
       "recall       0.364754   0.232323    0.634002   0.053763     0.789658   \n",
       "f1-score     0.457584   0.343284    0.624056   0.098039     0.644723   \n",
       "support    244.000000  99.000000  847.000000  93.000000  1141.000000   \n",
       "\n",
       "               horror     romance    thriller     western  accuracy  \\\n",
       "precision    0.643411    0.436364    0.444444    0.783439  0.585335   \n",
       "recall       0.685950    0.116505    0.042781    0.842466  0.585335   \n",
       "f1-score     0.664000    0.183908    0.078049    0.811881  0.585335   \n",
       "support    242.000000  206.000000  187.000000  146.000000  0.585335   \n",
       "\n",
       "             macro avg  weighted avg  \n",
       "precision     0.588145      0.577703  \n",
       "recall        0.418023      0.585335  \n",
       "f1-score      0.433947      0.546228  \n",
       "support    3205.000000   3205.000000  "
      ]
     },
     "execution_count": 29,
=======
       "               action   adventure      comedy       crime        drama  \\\n",
       "precision    0.581921    0.680000    0.590147    0.500000     0.536506   \n",
       "recall       0.371841    0.154545    0.620044    0.036697     0.789809   \n",
       "f1-score     0.453744    0.251852    0.604726    0.068376     0.638969   \n",
       "support    277.000000  110.000000  908.000000  109.000000  1256.000000   \n",
       "\n",
       "               horror     romance    thriller     western  accuracy  \\\n",
       "precision    0.705263    0.447761    0.500000    0.801170  0.578371   \n",
       "recall       0.717857    0.138889    0.052402    0.782857  0.578371   \n",
       "f1-score     0.711504    0.212014    0.094862    0.791908  0.578371   \n",
       "support    280.000000  216.000000  229.000000  175.000000  0.578371   \n",
       "\n",
       "             macro avg  weighted avg  \n",
       "precision     0.593641      0.575588  \n",
       "recall        0.407216      0.578371  \n",
       "f1-score      0.425328      0.538709  \n",
       "support    3560.000000   3560.000000  "
      ]
     },
     "execution_count": 16,
>>>>>>> 27b6deaa522d9623aa415e58efe90daa932a6128
     "metadata": {},
     "output_type": "execute_result"
    }
   ],
   "source": [
    "y_preds = gs_clf.predict(X_test)\n",
    "print(metrics.accuracy_score(y_test,y_preds))\n",
    "metrics.f1_score(y_test,y_preds,average='weighted')\n",
    "pd.DataFrame(metrics.classification_report(y_test,y_preds,output_dict=True))"
   ]
  },
  {
   "cell_type": "code",
<<<<<<< HEAD
   "execution_count": 23,
=======
   "execution_count": 18,
   "metadata": {},
   "outputs": [],
   "source": [
    "y_train_pred = cross_val_predict(gs_clf,X_train,y_train,cv=3)\n",
    "conf_matrix = metrics.confusion_matrix(y_train,y_train_pred)\n",
    "\n"
   ]
  },
  {
   "cell_type": "code",
   "execution_count": 19,
   "metadata": {},
   "outputs": [
    {
     "data": {
      "image/png": "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\n",
      "text/plain": [
       "<Figure size 288x288 with 1 Axes>"
      ]
     },
     "metadata": {
      "needs_background": "light"
     },
     "output_type": "display_data"
    }
   ],
   "source": [
    "plt.matshow(conf_matrix,cmap=plt.cm.Blues)\n",
    "\n",
    "plt.show()"
   ]
  },
  {
   "cell_type": "code",
   "execution_count": 20,
>>>>>>> 27b6deaa522d9623aa415e58efe90daa932a6128
   "metadata": {},
   "outputs": [],
   "source": [
    "import re, nltk, spacy, gensim"
   ]
  },
  {
   "cell_type": "code",
<<<<<<< HEAD
   "execution_count": 24,
=======
   "execution_count": 21,
>>>>>>> 27b6deaa522d9623aa415e58efe90daa932a6128
   "metadata": {},
   "outputs": [],
   "source": [
    "# def doc_to_words(docs):\n",
    "#     for doc in docs:\n",
    "#         yield(gensim.utils.simple_preprocess(str(doc), deacc=True))\n",
    "        \n",
    "# def lemmatization(texts, allowed_postags=['NOUN', 'ADJ', 'VERB', 'ADV']):\n",
    "#     \"\"\"https://spacy.io/api/annotation\"\"\"\n",
    "#     texts_out = []\n",
    "#     nlp = spacy.load('en_core_web_sm', disable=['parser', 'ner'])\n",
    "#     for sent in texts:\n",
    "#         doc = nlp(\" \".join(sent)) \n",
    "#         texts_out.append(\" \".join([token.lemma_ if token.lemma_ not in ['-PRON-'] else '' for token in doc if token.pos_ in allowed_postags]))\n",
    "#     return texts_out\n",
    "\n",
    "# def pre_process(documents):\n",
    "#     return lemmatization(doc_to_words(documents))"
   ]
  },
  {
   "cell_type": "code",
<<<<<<< HEAD
   "execution_count": 3,
   "metadata": {},
   "outputs": [],
   "source": [
    "df['Processed_Plot'] = text.pre_process(df['Plot'])"
   ]
  },
  {
   "cell_type": "code",
   "execution_count": 4,
   "metadata": {},
   "outputs": [],
   "source": [
    "X_processed = df['Processed_Plot']"
=======
   "execution_count": null,
   "metadata": {},
   "outputs": [],
   "source": []
  },
  {
   "cell_type": "code",
   "execution_count": 22,
   "metadata": {},
   "outputs": [],
   "source": [
    "df['Processed_Plot'] = pre_process(df['Plot'])"
>>>>>>> 27b6deaa522d9623aa415e58efe90daa932a6128
   ]
  },
  {
   "cell_type": "code",
<<<<<<< HEAD
   "execution_count": null,
=======
   "execution_count": 23,
>>>>>>> 27b6deaa522d9623aa415e58efe90daa932a6128
   "metadata": {},
   "outputs": [],
   "source": [
    "## Trying the same thing again with a pre-processed corpus\n",
    "\n",
    "X = df['Processed_Plot']\n",
<<<<<<< HEAD
=======
    "y = df['Genre']\n",
>>>>>>> 27b6deaa522d9623aa415e58efe90daa932a6128
    "\n",
    "for train_index, test_index in skf.split(X, y):\n",
    "    X_train, X_test = X[train_index], X[test_index]\n",
    "    y_train, y_test = y[train_index], y[test_index]\n",
    "    \n",
    "text_clf = Pipeline([\n",
<<<<<<< HEAD
    "    \n",
=======
>>>>>>> 27b6deaa522d9623aa415e58efe90daa932a6128
    "     ('vect', CountVectorizer()),\n",
    "     ('tfidf', TfidfTransformer()),\n",
    "     ('clf', SGDClassifier(loss='hinge',penalty='l2',\n",
    "                           alpha=1e-3, random_state=42,\n",
    "                           n_jobs=-1)),\n",
    " ])\n",
    "\n",
    "parameters = {\n",
    "     'vect__ngram_range': [(1, 1), (1, 2)],\n",
    "     'tfidf__use_idf': (True, False),\n",
    "     'clf__alpha': (1e-2, 1e-3),\n",
    " }\n",
    "\n",
    "gs_clf = GridSearchCV(text_clf, parameters, cv=5, n_jobs=-1,scoring=scorer)\n",
    "\n",
    "gs_clf = gs_clf.fit(X_train, y_train)\n",
    "\n",
    "y_preds = gs_clf.predict(X_test)"
   ]
  },
  {
   "cell_type": "code",
<<<<<<< HEAD
   "execution_count": 30,
   "metadata": {},
   "outputs": [
    {
     "name": "stdout",
     "output_type": "stream",
     "text": [
      "0.5462277097245963\n"
     ]
    },
    {
     "data": {
      "text/plain": [
       "{'clf__alpha': 0.001, 'tfidf__use_idf': True, 'vect__ngram_range': (1, 2)}"
      ]
     },
     "execution_count": 30,
=======
   "execution_count": 24,
   "metadata": {},
   "outputs": [
    {
     "data": {
      "text/plain": [
       "0.5571440313931317"
      ]
     },
     "execution_count": 24,
>>>>>>> 27b6deaa522d9623aa415e58efe90daa932a6128
     "metadata": {},
     "output_type": "execute_result"
    }
   ],
   "source": [
<<<<<<< HEAD
    "print(metrics.f1_score(y_test,y_preds,average='weighted'))\n",
    "gs_clf.best_params_"
   ]
  },
  {
   "cell_type": "code",
   "execution_count": 24,
   "metadata": {},
   "outputs": [],
   "source": [
    "X_lemmitized = df['Processed_Plot'].map(lambda x: spacy_tokenizer(x))"
=======
    "metrics.f1_score(y_test,y_preds,average='weighted')"
>>>>>>> 27b6deaa522d9623aa415e58efe90daa932a6128
   ]
  },
  {
   "cell_type": "code",
<<<<<<< HEAD
   "execution_count": 27,
=======
   "execution_count": 25,
>>>>>>> 27b6deaa522d9623aa415e58efe90daa932a6128
   "metadata": {},
   "outputs": [
    {
     "data": {
      "text/plain": [
<<<<<<< HEAD
       "0        ['computer', 'error', 'lead', 'accidental', 'r...\n",
       "1        ['return', 'small', 'southern', 'hometown', 's...\n",
       "2        ['return', 'northern', 'root', 'year', 'absenc...\n",
       "3        ['childhood', 'good', 'friend', 'difference', ...\n",
       "4        ['machete', 'attempt', 'capture', 'weapon', 'd...\n",
       "                               ...                        \n",
       "10677    ['sander', 'come', 'home', 'war', 'need', 'job...\n",
       "10678    ['film', 'cover', 'half', 'novel', 'end', 'tru...\n",
       "10679    ['gold', 'mild', 'mannere', 'year', 'old', 'or...\n",
       "10680    ['lawyer', 'fall', 'love', 'gay', 'ninety', 'a...\n",
       "10681    ['somewhat', 'fictionalized', 'account', 'dest...\n",
       "Name: Processed_Plot, Length: 10682, dtype: object"
      ]
     },
     "execution_count": 27,
=======
       "{'clf__alpha': 0.01, 'tfidf__use_idf': True, 'vect__ngram_range': (1, 2)}"
      ]
     },
     "execution_count": 25,
>>>>>>> 27b6deaa522d9623aa415e58efe90daa932a6128
     "metadata": {},
     "output_type": "execute_result"
    }
   ],
   "source": [
<<<<<<< HEAD
    "X_lemmitized.astype(str)"
=======
    "gs_clf.best_params_"
>>>>>>> 27b6deaa522d9623aa415e58efe90daa932a6128
   ]
  },
  {
   "cell_type": "code",
<<<<<<< HEAD
   "execution_count": 21,
   "metadata": {},
   "outputs": [],
   "source": [
    "import string\n",
    "import spacy\n",
    "from spacy.lang.en.stop_words import STOP_WORDS\n",
    "from spacy.lang.en import English\n",
    "\n",
    "# Create our list of punctuation marks\n",
    "punctuations = string.punctuation\n",
    "\n",
    "# Create our list of stopwords\n",
    "nlp = spacy.load('en_core_web_sm')\n",
    "stop_words = spacy.lang.en.stop_words.STOP_WORDS\n",
    "\n",
    "# Load English tokenizer, tagger, parser, NER and word vectors\n",
    "# parser = English()\n",
    "# parser = nlp(disable=['parser', 'ner'])\n",
    "# Creating our tokenizer function\n",
    "def spacy_tokenizer(text):\n",
    "\n",
    "    # Creating our token object, which is used to create documents with linguistic annotations.\n",
    "    mytokens = nlp(text)\n",
    "\n",
    "    # Lemmatizing each token and converting each token into lowercase\n",
    "    mytokens = [ word.lemma_.lower().strip() if word.lemma_ != \"-PRON-\" else word.lower_ for word in mytokens ]\n",
    "\n",
    "    # Removing stop words\n",
    "    mytokens = [ word for word in mytokens if word not in stop_words and word not in punctuations ]\n",
    "\n",
    "    # return preprocessed list of tokens\n",
    "    return mytokens"
=======
   "execution_count": 67,
   "metadata": {},
   "outputs": [],
   "source": [
    "from imblearn.pipeline import make_pipeline\n",
    "from imblearn.over_sampling import ADASYN, SMOTE, RandomOverSampler"
>>>>>>> 27b6deaa522d9623aa415e58efe90daa932a6128
   ]
  },
  {
   "cell_type": "code",
<<<<<<< HEAD
   "execution_count": 6,
   "metadata": {},
   "outputs": [],
   "source": [
    "from imblearn.pipeline import make_pipeline\n",
    "from imblearn.over_sampling import ADASYN, SMOTE, RandomOverSampler"
=======
   "execution_count": 99,
   "metadata": {},
   "outputs": [],
   "source": [
    "sm_pipeline = make_pipeline(CountVectorizer(),\n",
    "                            TfidfTransformer(),\n",
    "                            SMOTE(n_jobs=-1,random_state=42),\n",
    "                            SGDClassifier(n_jobs=-1,verbose=-1,random_state=42))"
>>>>>>> 27b6deaa522d9623aa415e58efe90daa932a6128
   ]
  },
  {
   "cell_type": "code",
<<<<<<< HEAD
   "execution_count": 7,
=======
   "execution_count": 100,
>>>>>>> 27b6deaa522d9623aa415e58efe90daa932a6128
   "metadata": {},
   "outputs": [
    {
     "data": {
      "text/plain": [
       "{'countvectorizer': CountVectorizer(analyzer='word', binary=False, decode_error='strict',\n",
       "                 dtype=<class 'numpy.int64'>, encoding='utf-8', input='content',\n",
       "                 lowercase=True, max_df=1.0, max_features=None, min_df=1,\n",
       "                 ngram_range=(1, 1), preprocessor=None, stop_words=None,\n",
       "                 strip_accents=None, token_pattern='(?u)\\\\b\\\\w\\\\w+\\\\b',\n",
       "                 tokenizer=None, vocabulary=None),\n",
       " 'tfidftransformer': TfidfTransformer(norm='l2', smooth_idf=True, sublinear_tf=False, use_idf=True),\n",
<<<<<<< HEAD
       " 'adasyn': ADASYN(n_jobs=-1, n_neighbors=5, random_state=42, sampling_strategy='auto'),\n",
=======
       " 'smote': SMOTE(k_neighbors=5, n_jobs=-1, random_state=42, sampling_strategy='auto'),\n",
>>>>>>> 27b6deaa522d9623aa415e58efe90daa932a6128
       " 'sgdclassifier': SGDClassifier(alpha=0.0001, average=False, class_weight=None,\n",
       "               early_stopping=False, epsilon=0.1, eta0=0.0, fit_intercept=True,\n",
       "               l1_ratio=0.15, learning_rate='optimal', loss='hinge',\n",
       "               max_iter=1000, n_iter_no_change=5, n_jobs=-1, penalty='l2',\n",
       "               power_t=0.5, random_state=42, shuffle=True, tol=0.001,\n",
       "               validation_fraction=0.1, verbose=-1, warm_start=False)}"
      ]
     },
<<<<<<< HEAD
     "execution_count": 7,
=======
     "execution_count": 100,
>>>>>>> 27b6deaa522d9623aa415e58efe90daa932a6128
     "metadata": {},
     "output_type": "execute_result"
    }
   ],
   "source": [
<<<<<<< HEAD
    "sm_pipeline = make_pipeline(CountVectorizer(),\n",
    "                            TfidfTransformer(),\n",
    "                            ADASYN(n_jobs=-1,random_state=42),\n",
    "                            SGDClassifier(n_jobs=-1,verbose=-1,random_state=42))\n",
    "\n",
=======
>>>>>>> 27b6deaa522d9623aa415e58efe90daa932a6128
    "sm_pipeline.named_steps"
   ]
  },
  {
   "cell_type": "code",
<<<<<<< HEAD
   "execution_count": 16,
   "metadata": {},
   "outputs": [],
   "source": [
    "def identity(x):\n",
    "    return x"
   ]
  },
  {
   "cell_type": "code",
   "execution_count": 33,
=======
   "execution_count": 105,
>>>>>>> 27b6deaa522d9623aa415e58efe90daa932a6128
   "metadata": {},
   "outputs": [],
   "source": [
    "sm_params = {\n",
<<<<<<< HEAD
    "    'countvectorizer__ngram_range':[(1,2)],\n",
    "    'countvectorizer__strip_accents':['unicode'],\n",
    "    'countvectorizer__stop_words':[None],\n",
    "    'countvectorizer__preprocessor':[identity],\n",
    "    'countvectorizer__tokenizer':[identity],\n",
    "    'countvectorizer__max_df':[.75,.85],\n",
    "    'countvectorizer__min_df':[1,2],\n",
    "    'tfidftransformer__use_idf':[True],\n",
    "    'tfidftransformer__smooth_idf':[True],\n",
    "    'tfidftransformer__norm':['l2'],\n",
    "    'adasyn__n_neighbors':[6],\n",
    "    'sgdclassifier__alpha':[.0001],\n",
    "    'sgdclassifier__loss':['modified_huber'],\n",
    "    'sgdclassifier__max_iter':[50],\n",
    "    'sgdclassifier__early_stopping':[True],\n",
    "    'sgdclassifier__n_iter_no_change':[6],\n",
    "    'sgdclassifier__validation_fraction':[.1],\n",
    "    'sgdclassifier__class_weight':[None],\n",
    "    'sgdclassifier__average':[False]\n",
=======
    "    'countvectorizer__ngram_range':[(1,1),(1,2)],\n",
    "    'countvectorizer__max_df':[1,.9],\n",
    "    'countvectorizer__min_df':[1,.9],\n",
    "    'tfidftransformer__use_idf':[True,False],\n",
    "    'tfidftransformer__smooth_idf':[True,False],\n",
    "    'sgdclassifier__alpha':[.0001,.001],\n",
    "    'sgdclassifier__loss':['hinge','log']\n",
>>>>>>> 27b6deaa522d9623aa415e58efe90daa932a6128
    "}"
   ]
  },
  {
   "cell_type": "code",
<<<<<<< HEAD
   "execution_count": 34,
   "metadata": {},
   "outputs": [],
   "source": [
    "sm_search = GridSearchCV(sm_pipeline,sm_params,cv=3,n_jobs=-1,scoring=scorer,verbose=3)"
=======
   "execution_count": 106,
   "metadata": {},
   "outputs": [],
   "source": [
    "sm_search = GridSearchCV(sm_pipeline,sm_params,cv=5,n_jobs=-1,scoring=scorer,verbose=3)"
>>>>>>> 27b6deaa522d9623aa415e58efe90daa932a6128
   ]
  },
  {
   "cell_type": "code",
<<<<<<< HEAD
   "execution_count": 35,
=======
   "execution_count": 107,
>>>>>>> 27b6deaa522d9623aa415e58efe90daa932a6128
   "metadata": {},
   "outputs": [],
   "source": [
    "def pipeline_cv(splits, X, Y, pipeline, average_method):\n",
    "    \n",
    "    kfold = StratifiedKFold(n_splits=splits, shuffle=True, random_state=777)\n",
    "    accuracy = []\n",
    "    precision = []\n",
    "    recall = []\n",
    "    f1 = []\n",
    "    for train, test in kfold.split(X, Y):\n",
    "        lr_fit = pipeline.fit(X[train], Y[train])\n",
    "        prediction = lr_fit.predict(X[test])\n",
    "        scores = lr_fit.score(X[test],Y[test])\n",
    "        \n",
    "        accuracy.append(scores * 100)\n",
    "        precision.append(precision_score(Y[test], prediction, average=average_method)*100)\n",
    "        #print('              negative    neutral     positive')\n",
<<<<<<< HEAD
    "        #print('precision:',precision_score(Y[test], prediction, average=None))\n",
    "        recall.append(recall_score(Y[test], prediction, average=average_method)*100)\n",
    "        #print('recall:   ',recall_score(Y[test], prediction, average=None))\n",
    "        f1.append(f1_score(Y[test], prediction, average=average_method)*100)\n",
    "        #print('f1 score: ',f1_score(Y[test], prediction, average=None))\n",
    "        #print('-'*50)\n",
    "        \n",
    "        display(pd.DataFrame(metrics.classification_report(Y[test],prediction,output_dict=True)))\n",
    "        print(lr_fit.best_params_)\n",
    "        \n",
=======
    "        print('precision:',precision_score(Y[test], prediction, average=None))\n",
    "        recall.append(recall_score(Y[test], prediction, average=average_method)*100)\n",
    "        print('recall:   ',recall_score(Y[test], prediction, average=None))\n",
    "        f1.append(f1_score(Y[test], prediction, average=average_method)*100)\n",
    "        print('f1 score: ',f1_score(Y[test], prediction, average=None))\n",
    "        print('-'*50)\n",
>>>>>>> 27b6deaa522d9623aa415e58efe90daa932a6128
    "\n",
    "    print(\"accuracy: %.2f%% (+/- %.2f%%)\" % (np.mean(accuracy), np.std(accuracy)))\n",
    "    print(\"precision: %.2f%% (+/- %.2f%%)\" % (np.mean(precision), np.std(precision)))\n",
    "    print(\"recall: %.2f%% (+/- %.2f%%)\" % (np.mean(recall), np.std(recall)))\n",
    "    print(\"f1 score: %.2f%% (+/- %.2f%%)\" % (np.mean(f1), np.std(f1)))"
   ]
  },
  {
   "cell_type": "code",
<<<<<<< HEAD
   "execution_count": 36,
   "metadata": {
    "scrolled": false
   },
=======
   "execution_count": 108,
   "metadata": {},
>>>>>>> 27b6deaa522d9623aa415e58efe90daa932a6128
   "outputs": [
    {
     "name": "stdout",
     "output_type": "stream",
     "text": [
<<<<<<< HEAD
      "Fitting 3 folds for each of 4 candidates, totalling 12 fits\n"
=======
      "Fitting 5 folds for each of 128 candidates, totalling 640 fits\n"
>>>>>>> 27b6deaa522d9623aa415e58efe90daa932a6128
     ]
    },
    {
     "name": "stderr",
     "output_type": "stream",
     "text": [
      "[Parallel(n_jobs=-1)]: Using backend LokyBackend with 12 concurrent workers.\n",
<<<<<<< HEAD
      "[Parallel(n_jobs=-1)]: Done   4 out of  12 | elapsed:   18.9s remaining:   37.8s\n",
      "[Parallel(n_jobs=-1)]: Done   9 out of  12 | elapsed:   27.3s remaining:    9.1s\n",
      "[Parallel(n_jobs=-1)]: Done  12 out of  12 | elapsed:   28.7s finished\n",
=======
      "[Parallel(n_jobs=-1)]: Done   8 tasks      | elapsed:    4.0s\n",
      "[Parallel(n_jobs=-1)]: Done 104 tasks      | elapsed:   59.9s\n",
      "//anaconda3/lib/python3.7/site-packages/joblib/externals/loky/process_executor.py:706: UserWarning: A worker stopped while some jobs were given to the executor. This can be caused by a too short worker timeout or by a memory leak.\n",
      "  \"timeout or by a memory leak.\", UserWarning\n",
      "[Parallel(n_jobs=-1)]: Done 264 tasks      | elapsed:  2.8min\n",
      "[Parallel(n_jobs=-1)]: Done 488 tasks      | elapsed: 10.1min\n",
      "[Parallel(n_jobs=-1)]: Done 640 out of 640 | elapsed: 11.4min finished\n",
>>>>>>> 27b6deaa522d9623aa415e58efe90daa932a6128
      "[Parallel(n_jobs=-1)]: Using backend ThreadingBackend with 12 concurrent workers.\n"
     ]
    },
    {
     "name": "stdout",
     "output_type": "stream",
     "text": [
<<<<<<< HEAD
      "Convergence after 7 epochs took 2.40 seconds\n",
      "Convergence after 7 epochs took 2.42 seconds\n",
      "Convergence after 7 epochs took 2.39 seconds\n",
      "Convergence after 7 epochs took 2.45 seconds\n",
      "Convergence after 7 epochs took 2.45 seconds\n",
      "Convergence after 7 epochs took 2.45 seconds\n",
      "Convergence after 7 epochs took 2.45 seconds\n",
      "Convergence after 7 epochs took 2.47 seconds\n",
      "Convergence after 7 epochs took 2.49 seconds\n"
=======
      "Convergence after 8 epochs took 3.24 seconds\n",
      "Convergence after 9 epochs took 3.60 seconds\n",
      "Convergence after 9 epochs took 3.69 seconds\n"
>>>>>>> 27b6deaa522d9623aa415e58efe90daa932a6128
     ]
    },
    {
     "name": "stderr",
     "output_type": "stream",
     "text": [
<<<<<<< HEAD
      "[Parallel(n_jobs=-1)]: Done   2 out of   9 | elapsed:    2.5s remaining:    8.6s\n",
      "[Parallel(n_jobs=-1)]: Done   9 out of   9 | elapsed:    2.5s finished\n"
     ]
    },
    {
     "data": {
      "text/html": [
       "<div>\n",
       "<style scoped>\n",
       "    .dataframe tbody tr th:only-of-type {\n",
       "        vertical-align: middle;\n",
       "    }\n",
       "\n",
       "    .dataframe tbody tr th {\n",
       "        vertical-align: top;\n",
       "    }\n",
       "\n",
       "    .dataframe thead th {\n",
       "        text-align: right;\n",
       "    }\n",
       "</style>\n",
       "<table border=\"1\" class=\"dataframe\">\n",
       "  <thead>\n",
       "    <tr style=\"text-align: right;\">\n",
       "      <th></th>\n",
       "      <th>action</th>\n",
       "      <th>adventure</th>\n",
       "      <th>comedy</th>\n",
       "      <th>crime</th>\n",
       "      <th>drama</th>\n",
       "      <th>horror</th>\n",
       "      <th>romance</th>\n",
       "      <th>thriller</th>\n",
       "      <th>western</th>\n",
       "      <th>accuracy</th>\n",
       "      <th>macro avg</th>\n",
       "      <th>weighted avg</th>\n",
       "    </tr>\n",
       "  </thead>\n",
       "  <tbody>\n",
       "    <tr>\n",
       "      <td>precision</td>\n",
       "      <td>0.478006</td>\n",
       "      <td>0.530612</td>\n",
       "      <td>0.660562</td>\n",
       "      <td>0.414286</td>\n",
       "      <td>0.629790</td>\n",
       "      <td>0.686957</td>\n",
       "      <td>0.442708</td>\n",
       "      <td>0.422018</td>\n",
       "      <td>0.725490</td>\n",
       "      <td>0.609941</td>\n",
       "      <td>0.554492</td>\n",
       "      <td>0.600656</td>\n",
       "    </tr>\n",
       "    <tr>\n",
       "      <td>recall</td>\n",
       "      <td>0.588448</td>\n",
       "      <td>0.472727</td>\n",
       "      <td>0.595815</td>\n",
       "      <td>0.263636</td>\n",
       "      <td>0.692920</td>\n",
       "      <td>0.846429</td>\n",
       "      <td>0.393519</td>\n",
       "      <td>0.201754</td>\n",
       "      <td>0.845714</td>\n",
       "      <td>0.609941</td>\n",
       "      <td>0.544551</td>\n",
       "      <td>0.609941</td>\n",
       "    </tr>\n",
       "    <tr>\n",
       "      <td>f1-score</td>\n",
       "      <td>0.527508</td>\n",
       "      <td>0.500000</td>\n",
       "      <td>0.626520</td>\n",
       "      <td>0.322222</td>\n",
       "      <td>0.659848</td>\n",
       "      <td>0.758400</td>\n",
       "      <td>0.416667</td>\n",
       "      <td>0.272997</td>\n",
       "      <td>0.781003</td>\n",
       "      <td>0.609941</td>\n",
       "      <td>0.540574</td>\n",
       "      <td>0.599872</td>\n",
       "    </tr>\n",
       "    <tr>\n",
       "      <td>support</td>\n",
       "      <td>277.000000</td>\n",
       "      <td>110.000000</td>\n",
       "      <td>908.000000</td>\n",
       "      <td>110.000000</td>\n",
       "      <td>1257.000000</td>\n",
       "      <td>280.000000</td>\n",
       "      <td>216.000000</td>\n",
       "      <td>228.000000</td>\n",
       "      <td>175.000000</td>\n",
       "      <td>0.609941</td>\n",
       "      <td>3561.000000</td>\n",
       "      <td>3561.000000</td>\n",
       "    </tr>\n",
       "  </tbody>\n",
       "</table>\n",
       "</div>"
      ],
      "text/plain": [
       "               action   adventure      comedy       crime        drama  \\\n",
       "precision    0.478006    0.530612    0.660562    0.414286     0.629790   \n",
       "recall       0.588448    0.472727    0.595815    0.263636     0.692920   \n",
       "f1-score     0.527508    0.500000    0.626520    0.322222     0.659848   \n",
       "support    277.000000  110.000000  908.000000  110.000000  1257.000000   \n",
       "\n",
       "               horror     romance    thriller     western  accuracy  \\\n",
       "precision    0.686957    0.442708    0.422018    0.725490  0.609941   \n",
       "recall       0.846429    0.393519    0.201754    0.845714  0.609941   \n",
       "f1-score     0.758400    0.416667    0.272997    0.781003  0.609941   \n",
       "support    280.000000  216.000000  228.000000  175.000000  0.609941   \n",
       "\n",
       "             macro avg  weighted avg  \n",
       "precision     0.554492      0.600656  \n",
       "recall        0.544551      0.609941  \n",
       "f1-score      0.540574      0.599872  \n",
       "support    3561.000000   3561.000000  "
      ]
     },
     "metadata": {},
     "output_type": "display_data"
=======
      "[Parallel(n_jobs=-1)]: Done   2 out of   9 | elapsed:    3.6s remaining:   12.6s\n"
     ]
    },
    {
     "name": "stdout",
     "output_type": "stream",
     "text": [
      "Convergence after 10 epochs took 3.86 seconds\n",
      "Convergence after 10 epochs took 3.93 seconds\n",
      "Convergence after 11 epochs took 4.05 seconds\n",
      "Convergence after 11 epochs took 4.07 seconds\n",
      "Convergence after 12 epochs took 4.13 seconds\n",
      "Convergence after 13 epochs took 4.19 seconds\n"
     ]
    },
    {
     "name": "stderr",
     "output_type": "stream",
     "text": [
      "[Parallel(n_jobs=-1)]: Done   9 out of   9 | elapsed:    4.2s finished\n"
     ]
>>>>>>> 27b6deaa522d9623aa415e58efe90daa932a6128
    },
    {
     "name": "stdout",
     "output_type": "stream",
     "text": [
<<<<<<< HEAD
      "{'adasyn__n_neighbors': 6, 'countvectorizer__max_df': 0.75, 'countvectorizer__min_df': 1, 'countvectorizer__ngram_range': (1, 2), 'countvectorizer__preprocessor': <function identity at 0x1a32cadd08>, 'countvectorizer__stop_words': None, 'countvectorizer__strip_accents': 'unicode', 'countvectorizer__tokenizer': <function identity at 0x1a32cadd08>, 'sgdclassifier__alpha': 0.0001, 'sgdclassifier__average': False, 'sgdclassifier__class_weight': None, 'sgdclassifier__early_stopping': True, 'sgdclassifier__loss': 'modified_huber', 'sgdclassifier__max_iter': 50, 'sgdclassifier__n_iter_no_change': 6, 'sgdclassifier__validation_fraction': 0.1, 'tfidftransformer__norm': 'l2', 'tfidftransformer__smooth_idf': True, 'tfidftransformer__use_idf': True}\n",
      "Fitting 3 folds for each of 4 candidates, totalling 12 fits\n"
=======
      "precision: [0.45308311 0.47663551 0.62628337 0.39285714 0.69858871 0.61460957\n",
      " 0.41111111 0.37142857 0.69642857]\n",
      "recall:    [0.6101083  0.46363636 0.67180617 0.3        0.55131265 0.87142857\n",
      " 0.51388889 0.22807018 0.89142857]\n",
      "f1 score:  [0.52       0.47004608 0.64824655 0.34020619 0.6162739  0.72082718\n",
      " 0.45679012 0.2826087  0.78195489]\n",
      "--------------------------------------------------\n",
      "Fitting 5 folds for each of 128 candidates, totalling 640 fits\n"
>>>>>>> 27b6deaa522d9623aa415e58efe90daa932a6128
     ]
    },
    {
     "name": "stderr",
     "output_type": "stream",
     "text": [
      "[Parallel(n_jobs=-1)]: Using backend LokyBackend with 12 concurrent workers.\n",
<<<<<<< HEAD
      "[Parallel(n_jobs=-1)]: Done   4 out of  12 | elapsed:   20.1s remaining:   40.2s\n",
      "[Parallel(n_jobs=-1)]: Done   9 out of  12 | elapsed:   28.2s remaining:    9.4s\n",
      "[Parallel(n_jobs=-1)]: Done  12 out of  12 | elapsed:   28.6s finished\n",
=======
      "[Parallel(n_jobs=-1)]: Done   8 tasks      | elapsed:    2.7s\n",
      "[Parallel(n_jobs=-1)]: Done 104 tasks      | elapsed:   59.9s\n",
      "//anaconda3/lib/python3.7/site-packages/joblib/externals/loky/process_executor.py:706: UserWarning: A worker stopped while some jobs were given to the executor. This can be caused by a too short worker timeout or by a memory leak.\n",
      "  \"timeout or by a memory leak.\", UserWarning\n",
      "[Parallel(n_jobs=-1)]: Done 264 tasks      | elapsed:  2.8min\n",
      "[Parallel(n_jobs=-1)]: Done 488 tasks      | elapsed: 10.5min\n",
      "[Parallel(n_jobs=-1)]: Done 640 out of 640 | elapsed: 12.0min finished\n",
>>>>>>> 27b6deaa522d9623aa415e58efe90daa932a6128
      "[Parallel(n_jobs=-1)]: Using backend ThreadingBackend with 12 concurrent workers.\n"
     ]
    },
    {
     "name": "stdout",
     "output_type": "stream",
     "text": [
<<<<<<< HEAD
      "Convergence after 7 epochs took 2.46 seconds\n",
      "Convergence after 7 epochs took 2.49 seconds\n",
      "Convergence after 7 epochs took 2.52 seconds\n",
      "Convergence after 7 epochs took 2.52 seconds\n",
      "Convergence after 7 epochs took 2.54 seconds\n",
      "Convergence after 7 epochs took 2.57 seconds\n",
      "Convergence after 7 epochs took 2.57 seconds\n",
      "Convergence after 7 epochs took 2.55 seconds\n",
      "Convergence after 7 epochs took 2.57 seconds\n"
=======
      "Convergence after 8 epochs took 3.39 seconds\n",
      "Convergence after 9 epochs took 3.78 seconds\n",
      "Convergence after 9 epochs took 3.83 seconds\n"
>>>>>>> 27b6deaa522d9623aa415e58efe90daa932a6128
     ]
    },
    {
     "name": "stderr",
     "output_type": "stream",
     "text": [
<<<<<<< HEAD
      "[Parallel(n_jobs=-1)]: Done   2 out of   9 | elapsed:    2.5s remaining:    8.9s\n",
      "[Parallel(n_jobs=-1)]: Done   9 out of   9 | elapsed:    2.6s finished\n"
     ]
    },
    {
     "data": {
      "text/html": [
       "<div>\n",
       "<style scoped>\n",
       "    .dataframe tbody tr th:only-of-type {\n",
       "        vertical-align: middle;\n",
       "    }\n",
       "\n",
       "    .dataframe tbody tr th {\n",
       "        vertical-align: top;\n",
       "    }\n",
       "\n",
       "    .dataframe thead th {\n",
       "        text-align: right;\n",
       "    }\n",
       "</style>\n",
       "<table border=\"1\" class=\"dataframe\">\n",
       "  <thead>\n",
       "    <tr style=\"text-align: right;\">\n",
       "      <th></th>\n",
       "      <th>action</th>\n",
       "      <th>adventure</th>\n",
       "      <th>comedy</th>\n",
       "      <th>crime</th>\n",
       "      <th>drama</th>\n",
       "      <th>horror</th>\n",
       "      <th>romance</th>\n",
       "      <th>thriller</th>\n",
       "      <th>western</th>\n",
       "      <th>accuracy</th>\n",
       "      <th>macro avg</th>\n",
       "      <th>weighted avg</th>\n",
       "    </tr>\n",
       "  </thead>\n",
       "  <tbody>\n",
       "    <tr>\n",
       "      <td>precision</td>\n",
       "      <td>0.471875</td>\n",
       "      <td>0.468750</td>\n",
       "      <td>0.672414</td>\n",
       "      <td>0.409091</td>\n",
       "      <td>0.637471</td>\n",
       "      <td>0.665706</td>\n",
       "      <td>0.383178</td>\n",
       "      <td>0.305556</td>\n",
       "      <td>0.764398</td>\n",
       "      <td>0.603201</td>\n",
       "      <td>0.530938</td>\n",
       "      <td>0.593007</td>\n",
       "    </tr>\n",
       "    <tr>\n",
       "      <td>recall</td>\n",
       "      <td>0.547101</td>\n",
       "      <td>0.405405</td>\n",
       "      <td>0.644273</td>\n",
       "      <td>0.247706</td>\n",
       "      <td>0.665871</td>\n",
       "      <td>0.825000</td>\n",
       "      <td>0.377880</td>\n",
       "      <td>0.192982</td>\n",
       "      <td>0.834286</td>\n",
       "      <td>0.603201</td>\n",
       "      <td>0.526723</td>\n",
       "      <td>0.603201</td>\n",
       "    </tr>\n",
       "    <tr>\n",
       "      <td>f1-score</td>\n",
       "      <td>0.506711</td>\n",
       "      <td>0.434783</td>\n",
       "      <td>0.658043</td>\n",
       "      <td>0.308571</td>\n",
       "      <td>0.651362</td>\n",
       "      <td>0.736842</td>\n",
       "      <td>0.380510</td>\n",
       "      <td>0.236559</td>\n",
       "      <td>0.797814</td>\n",
       "      <td>0.603201</td>\n",
       "      <td>0.523466</td>\n",
       "      <td>0.595465</td>\n",
       "    </tr>\n",
       "    <tr>\n",
       "      <td>support</td>\n",
       "      <td>276.000000</td>\n",
       "      <td>111.000000</td>\n",
       "      <td>908.000000</td>\n",
       "      <td>109.000000</td>\n",
       "      <td>1257.000000</td>\n",
       "      <td>280.000000</td>\n",
       "      <td>217.000000</td>\n",
       "      <td>228.000000</td>\n",
       "      <td>175.000000</td>\n",
       "      <td>0.603201</td>\n",
       "      <td>3561.000000</td>\n",
       "      <td>3561.000000</td>\n",
       "    </tr>\n",
       "  </tbody>\n",
       "</table>\n",
       "</div>"
      ],
      "text/plain": [
       "               action   adventure      comedy       crime        drama  \\\n",
       "precision    0.471875    0.468750    0.672414    0.409091     0.637471   \n",
       "recall       0.547101    0.405405    0.644273    0.247706     0.665871   \n",
       "f1-score     0.506711    0.434783    0.658043    0.308571     0.651362   \n",
       "support    276.000000  111.000000  908.000000  109.000000  1257.000000   \n",
       "\n",
       "               horror     romance    thriller     western  accuracy  \\\n",
       "precision    0.665706    0.383178    0.305556    0.764398  0.603201   \n",
       "recall       0.825000    0.377880    0.192982    0.834286  0.603201   \n",
       "f1-score     0.736842    0.380510    0.236559    0.797814  0.603201   \n",
       "support    280.000000  217.000000  228.000000  175.000000  0.603201   \n",
       "\n",
       "             macro avg  weighted avg  \n",
       "precision     0.530938      0.593007  \n",
       "recall        0.526723      0.603201  \n",
       "f1-score      0.523466      0.595465  \n",
       "support    3561.000000   3561.000000  "
      ]
     },
     "metadata": {},
     "output_type": "display_data"
=======
      "[Parallel(n_jobs=-1)]: Done   2 out of   9 | elapsed:    3.8s remaining:   13.4s\n"
     ]
    },
    {
     "name": "stdout",
     "output_type": "stream",
     "text": [
      "Convergence after 10 epochs took 4.12 seconds\n",
      "Convergence after 11 epochs took 4.21 seconds\n",
      "Convergence after 11 epochs took 4.20 seconds\n",
      "Convergence after 11 epochs took 4.30 seconds\n",
      "Convergence after 12 epochs took 4.33 seconds\n",
      "Convergence after 13 epochs took 4.39 seconds\n"
     ]
    },
    {
     "name": "stderr",
     "output_type": "stream",
     "text": [
      "[Parallel(n_jobs=-1)]: Done   9 out of   9 | elapsed:    4.4s finished\n"
     ]
>>>>>>> 27b6deaa522d9623aa415e58efe90daa932a6128
    },
    {
     "name": "stdout",
     "output_type": "stream",
     "text": [
<<<<<<< HEAD
      "{'adasyn__n_neighbors': 6, 'countvectorizer__max_df': 0.75, 'countvectorizer__min_df': 1, 'countvectorizer__ngram_range': (1, 2), 'countvectorizer__preprocessor': <function identity at 0x1a32cadd08>, 'countvectorizer__stop_words': None, 'countvectorizer__strip_accents': 'unicode', 'countvectorizer__tokenizer': <function identity at 0x1a32cadd08>, 'sgdclassifier__alpha': 0.0001, 'sgdclassifier__average': False, 'sgdclassifier__class_weight': None, 'sgdclassifier__early_stopping': True, 'sgdclassifier__loss': 'modified_huber', 'sgdclassifier__max_iter': 50, 'sgdclassifier__n_iter_no_change': 6, 'sgdclassifier__validation_fraction': 0.1, 'tfidftransformer__norm': 'l2', 'tfidftransformer__smooth_idf': True, 'tfidftransformer__use_idf': True}\n",
      "Fitting 3 folds for each of 4 candidates, totalling 12 fits\n"
=======
      "precision: [0.46991404 0.47272727 0.64912281 0.37179487 0.69223206 0.63002681\n",
      " 0.3465704  0.32544379 0.68949772]\n",
      "recall:    [0.5942029  0.46846847 0.69273128 0.26605505 0.56006364 0.83928571\n",
      " 0.44239631 0.24122807 0.86285714]\n",
      "f1 score:  [0.5248     0.47058824 0.67021843 0.31016043 0.61917326 0.71975498\n",
      " 0.38866397 0.27707809 0.76649746]\n",
      "--------------------------------------------------\n",
      "Fitting 5 folds for each of 128 candidates, totalling 640 fits\n"
>>>>>>> 27b6deaa522d9623aa415e58efe90daa932a6128
     ]
    },
    {
     "name": "stderr",
     "output_type": "stream",
     "text": [
      "[Parallel(n_jobs=-1)]: Using backend LokyBackend with 12 concurrent workers.\n",
<<<<<<< HEAD
      "[Parallel(n_jobs=-1)]: Done   4 out of  12 | elapsed:   18.6s remaining:   37.3s\n",
      "[Parallel(n_jobs=-1)]: Done   9 out of  12 | elapsed:   26.7s remaining:    8.9s\n",
      "[Parallel(n_jobs=-1)]: Done  12 out of  12 | elapsed:   27.1s finished\n",
=======
      "[Parallel(n_jobs=-1)]: Done   8 tasks      | elapsed:    2.6s\n",
      "[Parallel(n_jobs=-1)]: Done 104 tasks      | elapsed:   57.8s\n",
      "//anaconda3/lib/python3.7/site-packages/joblib/externals/loky/process_executor.py:706: UserWarning: A worker stopped while some jobs were given to the executor. This can be caused by a too short worker timeout or by a memory leak.\n",
      "  \"timeout or by a memory leak.\", UserWarning\n",
      "[Parallel(n_jobs=-1)]: Done 264 tasks      | elapsed:  2.8min\n",
      "[Parallel(n_jobs=-1)]: Done 488 tasks      | elapsed: 10.1min\n",
      "[Parallel(n_jobs=-1)]: Done 640 out of 640 | elapsed: 11.5min finished\n",
>>>>>>> 27b6deaa522d9623aa415e58efe90daa932a6128
      "[Parallel(n_jobs=-1)]: Using backend ThreadingBackend with 12 concurrent workers.\n"
     ]
    },
    {
     "name": "stdout",
     "output_type": "stream",
     "text": [
<<<<<<< HEAD
      "Convergence after 7 epochs took 2.27 seconds\n",
      "Convergence after 7 epochs took 2.39 seconds\n",
      "Convergence after 7 epochs took 2.38 seconds\n",
      "Convergence after 7 epochs took 2.42 seconds\n",
      "Convergence after 7 epochs took 2.45 seconds\n",
      "Convergence after 7 epochs took 2.46 seconds\n",
      "Convergence after 7 epochs took 2.45 seconds\n"
=======
      "Convergence after 8 epochs took 3.30 seconds\n",
      "Convergence after 9 epochs took 3.79 seconds\n",
      "Convergence after 9 epochs took 3.85 seconds\n"
>>>>>>> 27b6deaa522d9623aa415e58efe90daa932a6128
     ]
    },
    {
     "name": "stderr",
     "output_type": "stream",
     "text": [
<<<<<<< HEAD
      "[Parallel(n_jobs=-1)]: Done   2 out of   9 | elapsed:    2.4s remaining:    8.5s\n",
      "[Parallel(n_jobs=-1)]: Done   9 out of   9 | elapsed:    2.5s finished\n"
=======
      "[Parallel(n_jobs=-1)]: Done   2 out of   9 | elapsed:    3.8s remaining:   13.3s\n"
>>>>>>> 27b6deaa522d9623aa415e58efe90daa932a6128
     ]
    },
    {
     "name": "stdout",
     "output_type": "stream",
     "text": [
<<<<<<< HEAD
      "Convergence after 7 epochs took 2.47 seconds\n",
      "Convergence after 7 epochs took 2.47 seconds\n"
     ]
    },
    {
     "data": {
      "text/html": [
       "<div>\n",
       "<style scoped>\n",
       "    .dataframe tbody tr th:only-of-type {\n",
       "        vertical-align: middle;\n",
       "    }\n",
       "\n",
       "    .dataframe tbody tr th {\n",
       "        vertical-align: top;\n",
       "    }\n",
       "\n",
       "    .dataframe thead th {\n",
       "        text-align: right;\n",
       "    }\n",
       "</style>\n",
       "<table border=\"1\" class=\"dataframe\">\n",
       "  <thead>\n",
       "    <tr style=\"text-align: right;\">\n",
       "      <th></th>\n",
       "      <th>action</th>\n",
       "      <th>adventure</th>\n",
       "      <th>comedy</th>\n",
       "      <th>crime</th>\n",
       "      <th>drama</th>\n",
       "      <th>horror</th>\n",
       "      <th>romance</th>\n",
       "      <th>thriller</th>\n",
       "      <th>western</th>\n",
       "      <th>accuracy</th>\n",
       "      <th>macro avg</th>\n",
       "      <th>weighted avg</th>\n",
       "    </tr>\n",
       "  </thead>\n",
       "  <tbody>\n",
       "    <tr>\n",
       "      <td>precision</td>\n",
       "      <td>0.472934</td>\n",
       "      <td>0.500000</td>\n",
       "      <td>0.619469</td>\n",
       "      <td>0.476923</td>\n",
       "      <td>0.639967</td>\n",
       "      <td>0.621918</td>\n",
       "      <td>0.367769</td>\n",
       "      <td>0.359477</td>\n",
       "      <td>0.819209</td>\n",
       "      <td>0.588202</td>\n",
       "      <td>0.541963</td>\n",
       "      <td>0.585259</td>\n",
       "    </tr>\n",
       "    <tr>\n",
       "      <td>recall</td>\n",
       "      <td>0.599278</td>\n",
       "      <td>0.418182</td>\n",
       "      <td>0.616740</td>\n",
       "      <td>0.284404</td>\n",
       "      <td>0.617038</td>\n",
       "      <td>0.810714</td>\n",
       "      <td>0.412037</td>\n",
       "      <td>0.240175</td>\n",
       "      <td>0.828571</td>\n",
       "      <td>0.588202</td>\n",
       "      <td>0.536349</td>\n",
       "      <td>0.588202</td>\n",
       "    </tr>\n",
       "    <tr>\n",
       "      <td>f1-score</td>\n",
       "      <td>0.528662</td>\n",
       "      <td>0.455446</td>\n",
       "      <td>0.618102</td>\n",
       "      <td>0.356322</td>\n",
       "      <td>0.628293</td>\n",
       "      <td>0.703876</td>\n",
       "      <td>0.388646</td>\n",
       "      <td>0.287958</td>\n",
       "      <td>0.823864</td>\n",
       "      <td>0.588202</td>\n",
       "      <td>0.532352</td>\n",
       "      <td>0.583399</td>\n",
       "    </tr>\n",
       "    <tr>\n",
       "      <td>support</td>\n",
       "      <td>277.000000</td>\n",
       "      <td>110.000000</td>\n",
       "      <td>908.000000</td>\n",
       "      <td>109.000000</td>\n",
       "      <td>1256.000000</td>\n",
       "      <td>280.000000</td>\n",
       "      <td>216.000000</td>\n",
       "      <td>229.000000</td>\n",
       "      <td>175.000000</td>\n",
       "      <td>0.588202</td>\n",
       "      <td>3560.000000</td>\n",
       "      <td>3560.000000</td>\n",
       "    </tr>\n",
       "  </tbody>\n",
       "</table>\n",
       "</div>"
      ],
      "text/plain": [
       "               action   adventure      comedy       crime        drama  \\\n",
       "precision    0.472934    0.500000    0.619469    0.476923     0.639967   \n",
       "recall       0.599278    0.418182    0.616740    0.284404     0.617038   \n",
       "f1-score     0.528662    0.455446    0.618102    0.356322     0.628293   \n",
       "support    277.000000  110.000000  908.000000  109.000000  1256.000000   \n",
       "\n",
       "               horror     romance    thriller     western  accuracy  \\\n",
       "precision    0.621918    0.367769    0.359477    0.819209  0.588202   \n",
       "recall       0.810714    0.412037    0.240175    0.828571  0.588202   \n",
       "f1-score     0.703876    0.388646    0.287958    0.823864  0.588202   \n",
       "support    280.000000  216.000000  229.000000  175.000000  0.588202   \n",
       "\n",
       "             macro avg  weighted avg  \n",
       "precision     0.541963      0.585259  \n",
       "recall        0.536349      0.588202  \n",
       "f1-score      0.532352      0.583399  \n",
       "support    3560.000000   3560.000000  "
      ]
     },
     "metadata": {},
     "output_type": "display_data"
=======
      "Convergence after 10 epochs took 4.10 seconds\n",
      "Convergence after 10 epochs took 4.19 seconds\n",
      "Convergence after 11 epochs took 4.35 seconds\n",
      "Convergence after 12 epochs took 4.40 seconds\n",
      "Convergence after 12 epochs took 4.44 seconds\n",
      "Convergence after 13 epochs took 4.48 seconds\n"
     ]
    },
    {
     "name": "stderr",
     "output_type": "stream",
     "text": [
      "[Parallel(n_jobs=-1)]: Done   9 out of   9 | elapsed:    4.5s finished\n"
     ]
>>>>>>> 27b6deaa522d9623aa415e58efe90daa932a6128
    },
    {
     "name": "stdout",
     "output_type": "stream",
     "text": [
<<<<<<< HEAD
      "{'adasyn__n_neighbors': 6, 'countvectorizer__max_df': 0.75, 'countvectorizer__min_df': 1, 'countvectorizer__ngram_range': (1, 2), 'countvectorizer__preprocessor': <function identity at 0x1a32cadd08>, 'countvectorizer__stop_words': None, 'countvectorizer__strip_accents': 'unicode', 'countvectorizer__tokenizer': <function identity at 0x1a32cadd08>, 'sgdclassifier__alpha': 0.0001, 'sgdclassifier__average': False, 'sgdclassifier__class_weight': None, 'sgdclassifier__early_stopping': True, 'sgdclassifier__loss': 'modified_huber', 'sgdclassifier__max_iter': 50, 'sgdclassifier__n_iter_no_change': 6, 'sgdclassifier__validation_fraction': 0.1, 'tfidftransformer__norm': 'l2', 'tfidftransformer__smooth_idf': True, 'tfidftransformer__use_idf': True}\n",
      "accuracy: 59.29% (+/- 0.70%)\n",
      "precision: 59.30% (+/- 0.63%)\n",
      "recall: 60.04% (+/- 0.91%)\n",
      "f1 score: 59.29% (+/- 0.70%)\n"
=======
      "precision: [0.45504087 0.45714286 0.60322256 0.4        0.69034995 0.60552764\n",
      " 0.35099338 0.31818182 0.75242718]\n",
      "recall:    [0.60288809 0.43636364 0.65969163 0.25688073 0.5183121  0.86071429\n",
      " 0.49074074 0.24454148 0.88571429]\n",
      "f1 score:  [0.51863354 0.44651163 0.63019463 0.31284916 0.59208731 0.71091445\n",
      " 0.40926641 0.27654321 0.81364829]\n",
      "--------------------------------------------------\n",
      "accuracy: 58.37% (+/- 0.84%)\n",
      "precision: 59.43% (+/- 0.62%)\n",
      "recall: 58.84% (+/- 0.87%)\n",
      "f1 score: 58.37% (+/- 0.84%)\n"
>>>>>>> 27b6deaa522d9623aa415e58efe90daa932a6128
     ]
    }
   ],
   "source": [
<<<<<<< HEAD
    "pipeline_cv(3,X_lemmitized,y,sm_search,'weighted')"
=======
    "pipeline_cv(3,X,y,sm_search,'weighted')"
>>>>>>> 27b6deaa522d9623aa415e58efe90daa932a6128
   ]
  },
  {
   "cell_type": "code",
<<<<<<< HEAD
   "execution_count": 37,
=======
   "execution_count": 117,
>>>>>>> 27b6deaa522d9623aa415e58efe90daa932a6128
   "metadata": {},
   "outputs": [
    {
     "data": {
      "text/plain": [
<<<<<<< HEAD
       "{'countvectorizer': CountVectorizer(analyzer='word', binary=False, decode_error='strict',\n",
       "                 dtype=<class 'numpy.int64'>, encoding='utf-8', input='content',\n",
       "                 lowercase=True, max_df=0.75, max_features=None, min_df=1,\n",
       "                 ngram_range=(1, 2),\n",
       "                 preprocessor=<function identity at 0x1a32cadd08>,\n",
       "                 stop_words=None, strip_accents='unicode',\n",
       "                 token_pattern='(?u)\\\\b\\\\w\\\\w+\\\\b',\n",
       "                 tokenizer=<function identity at 0x1a32cadd08>, vocabulary=None),\n",
       " 'tfidftransformer': TfidfTransformer(norm='l2', smooth_idf=True, sublinear_tf=False, use_idf=True),\n",
       " 'adasyn': ADASYN(n_jobs=-1, n_neighbors=6, random_state=42, sampling_strategy='auto'),\n",
       " 'sgdclassifier': SGDClassifier(alpha=0.0001, average=False, class_weight=None,\n",
       "               early_stopping=True, epsilon=0.1, eta0=0.0, fit_intercept=True,\n",
       "               l1_ratio=0.15, learning_rate='optimal', loss='modified_huber',\n",
       "               max_iter=50, n_iter_no_change=6, n_jobs=-1, penalty='l2',\n",
       "               power_t=0.5, random_state=42, shuffle=True, tol=0.001,\n",
       "               validation_fraction=0.1, verbose=-1, warm_start=False)}"
      ]
     },
     "execution_count": 37,
=======
       "['model_2.pkl']"
      ]
     },
     "execution_count": 117,
>>>>>>> 27b6deaa522d9623aa415e58efe90daa932a6128
     "metadata": {},
     "output_type": "execute_result"
    }
   ],
   "source": [
<<<<<<< HEAD
    "sm_search.best_estimator_.named_steps"
=======
    "joblib.dump(sm_search.best_estimator_,'model_2.pkl')"
>>>>>>> 27b6deaa522d9623aa415e58efe90daa932a6128
   ]
  },
  {
   "cell_type": "code",
<<<<<<< HEAD
   "execution_count": 61,
=======
   "execution_count": 122,
>>>>>>> 27b6deaa522d9623aa415e58efe90daa932a6128
   "metadata": {},
   "outputs": [
    {
     "data": {
<<<<<<< HEAD
      "text/plain": [
       "{'countvectorizer': CountVectorizer(analyzer='word', binary=False, decode_error='strict',\n",
       "                 dtype=<class 'numpy.int64'>, encoding='utf-8', input='content',\n",
       "                 lowercase=True, max_df=0.75, max_features=None, min_df=1,\n",
       "                 ngram_range=(1, 2),\n",
       "                 preprocessor=<function identity at 0x1a32cadd08>,\n",
       "                 stop_words=None, strip_accents=None,\n",
       "                 token_pattern='(?u)\\\\b\\\\w\\\\w+\\\\b',\n",
       "                 tokenizer=<function identity at 0x1a32cadd08>, vocabulary=None),\n",
       " 'tfidftransformer': TfidfTransformer(norm='l2', smooth_idf=True, sublinear_tf=False, use_idf=True),\n",
       " 'adasyn': ADASYN(n_jobs=-1, n_neighbors=5, random_state=42, sampling_strategy='auto'),\n",
       " 'multinomialnb': MultinomialNB(alpha=1.0, class_prior=None, fit_prior=True)}"
      ]
     },
     "execution_count": 61,
     "metadata": {},
     "output_type": "execute_result"
    }
   ],
   "source": [
    "from sklearn.naive_bayes import MultinomialNB\n",
    "\n",
    "nb_sm_pipeline = make_pipeline(CountVectorizer(ngram_range=(1,2),\n",
    "                                              max_df=.75,\n",
    "                                              preprocessor=identity,\n",
    "                                              tokenizer=identity),\n",
    "                            TfidfTransformer(),\n",
    "                            ADASYN(n_jobs=-1,random_state=42),\n",
    "                            MultinomialNB())\n",
    "\n",
    "nb_sm_pipeline.named_steps"
   ]
  },
  {
   "cell_type": "code",
   "execution_count": 66,
   "metadata": {},
   "outputs": [],
   "source": [
    "nb_sm_params = {\n",
    "    'countvectorizer__ngram_range':[(1,2)],\n",
    "    'countvectorizer__strip_accents':['unicode'],\n",
    "    'countvectorizer__stop_words':[None],\n",
    "    'countvectorizer__preprocessor':[None],\n",
    "    'countvectorizer__tokenizer':[None],\n",
    "    'countvectorizer__max_df':[.55],\n",
    "    'countvectorizer__min_df':[3],\n",
    "    'tfidftransformer__use_idf':[True],\n",
    "    'tfidftransformer__smooth_idf':[True],\n",
    "    'tfidftransformer__norm':['l2'],\n",
    "    'adasyn__n_neighbors':[6],\n",
    "    'multinomialnb__alpha':[.075]\n",
    "}\n",
    "nb_sm_search = GridSearchCV(nb_sm_pipeline,nb_sm_params,cv=3,n_jobs=-1,scoring=scorer,verbose=3)"
   ]
  },
  {
   "cell_type": "code",
   "execution_count": 67,
   "metadata": {
    "scrolled": true
   },
   "outputs": [
    {
     "name": "stdout",
     "output_type": "stream",
     "text": [
      "Fitting 3 folds for each of 1 candidates, totalling 3 fits\n"
     ]
    },
    {
     "name": "stderr",
     "output_type": "stream",
     "text": [
      "[Parallel(n_jobs=-1)]: Using backend LokyBackend with 12 concurrent workers.\n",
      "[Parallel(n_jobs=-1)]: Done   3 out of   3 | elapsed:   11.4s finished\n"
     ]
    },
    {
     "data": {
=======
>>>>>>> 27b6deaa522d9623aa415e58efe90daa932a6128
      "text/html": [
       "<div>\n",
       "<style scoped>\n",
       "    .dataframe tbody tr th:only-of-type {\n",
       "        vertical-align: middle;\n",
       "    }\n",
       "\n",
       "    .dataframe tbody tr th {\n",
       "        vertical-align: top;\n",
       "    }\n",
       "\n",
       "    .dataframe thead th {\n",
       "        text-align: right;\n",
       "    }\n",
       "</style>\n",
       "<table border=\"1\" class=\"dataframe\">\n",
       "  <thead>\n",
       "    <tr style=\"text-align: right;\">\n",
       "      <th></th>\n",
       "      <th>action</th>\n",
       "      <th>adventure</th>\n",
       "      <th>comedy</th>\n",
       "      <th>crime</th>\n",
       "      <th>drama</th>\n",
       "      <th>horror</th>\n",
       "      <th>romance</th>\n",
       "      <th>thriller</th>\n",
       "      <th>western</th>\n",
       "      <th>accuracy</th>\n",
       "      <th>macro avg</th>\n",
       "      <th>weighted avg</th>\n",
       "    </tr>\n",
       "  </thead>\n",
       "  <tbody>\n",
       "    <tr>\n",
       "      <td>precision</td>\n",
<<<<<<< HEAD
       "      <td>0.500000</td>\n",
       "      <td>0.552083</td>\n",
       "      <td>0.684625</td>\n",
       "      <td>0.489796</td>\n",
       "      <td>0.624365</td>\n",
       "      <td>0.655462</td>\n",
       "      <td>0.422442</td>\n",
       "      <td>0.396552</td>\n",
       "      <td>0.815789</td>\n",
       "      <td>0.611345</td>\n",
       "      <td>0.571235</td>\n",
       "      <td>0.608685</td>\n",
       "    </tr>\n",
       "    <tr>\n",
       "      <td>recall</td>\n",
       "      <td>0.559567</td>\n",
       "      <td>0.481818</td>\n",
       "      <td>0.573789</td>\n",
       "      <td>0.218182</td>\n",
       "      <td>0.684964</td>\n",
       "      <td>0.835714</td>\n",
       "      <td>0.592593</td>\n",
       "      <td>0.201754</td>\n",
       "      <td>0.885714</td>\n",
       "      <td>0.611345</td>\n",
       "      <td>0.559344</td>\n",
       "      <td>0.611345</td>\n",
       "    </tr>\n",
       "    <tr>\n",
       "      <td>f1-score</td>\n",
       "      <td>0.528109</td>\n",
       "      <td>0.514563</td>\n",
       "      <td>0.624326</td>\n",
       "      <td>0.301887</td>\n",
       "      <td>0.653263</td>\n",
       "      <td>0.734694</td>\n",
       "      <td>0.493256</td>\n",
       "      <td>0.267442</td>\n",
       "      <td>0.849315</td>\n",
       "      <td>0.611345</td>\n",
       "      <td>0.551873</td>\n",
       "      <td>0.602639</td>\n",
=======
       "      <td>0.725904</td>\n",
       "      <td>0.803571</td>\n",
       "      <td>0.834213</td>\n",
       "      <td>0.824742</td>\n",
       "      <td>0.908273</td>\n",
       "      <td>0.846154</td>\n",
       "      <td>0.700787</td>\n",
       "      <td>0.813725</td>\n",
       "      <td>0.884211</td>\n",
       "      <td>0.839045</td>\n",
       "      <td>0.815731</td>\n",
       "      <td>0.844662</td>\n",
       "    </tr>\n",
       "    <tr>\n",
       "      <td>recall</td>\n",
       "      <td>0.870036</td>\n",
       "      <td>0.818182</td>\n",
       "      <td>0.870044</td>\n",
       "      <td>0.733945</td>\n",
       "      <td>0.804140</td>\n",
       "      <td>0.942857</td>\n",
       "      <td>0.824074</td>\n",
       "      <td>0.724891</td>\n",
       "      <td>0.960000</td>\n",
       "      <td>0.839045</td>\n",
       "      <td>0.838685</td>\n",
       "      <td>0.839045</td>\n",
       "    </tr>\n",
       "    <tr>\n",
       "      <td>f1-score</td>\n",
       "      <td>0.791461</td>\n",
       "      <td>0.810811</td>\n",
       "      <td>0.851752</td>\n",
       "      <td>0.776699</td>\n",
       "      <td>0.853041</td>\n",
       "      <td>0.891892</td>\n",
       "      <td>0.757447</td>\n",
       "      <td>0.766744</td>\n",
       "      <td>0.920548</td>\n",
       "      <td>0.839045</td>\n",
       "      <td>0.824488</td>\n",
       "      <td>0.839301</td>\n",
>>>>>>> 27b6deaa522d9623aa415e58efe90daa932a6128
       "    </tr>\n",
       "    <tr>\n",
       "      <td>support</td>\n",
       "      <td>277.000000</td>\n",
       "      <td>110.000000</td>\n",
       "      <td>908.000000</td>\n",
<<<<<<< HEAD
       "      <td>110.000000</td>\n",
       "      <td>1257.000000</td>\n",
       "      <td>280.000000</td>\n",
       "      <td>216.000000</td>\n",
       "      <td>228.000000</td>\n",
       "      <td>175.000000</td>\n",
       "      <td>0.611345</td>\n",
       "      <td>3561.000000</td>\n",
       "      <td>3561.000000</td>\n",
=======
       "      <td>109.000000</td>\n",
       "      <td>1256.000000</td>\n",
       "      <td>280.000000</td>\n",
       "      <td>216.000000</td>\n",
       "      <td>229.000000</td>\n",
       "      <td>175.000000</td>\n",
       "      <td>0.839045</td>\n",
       "      <td>3560.000000</td>\n",
       "      <td>3560.000000</td>\n",
>>>>>>> 27b6deaa522d9623aa415e58efe90daa932a6128
       "    </tr>\n",
       "  </tbody>\n",
       "</table>\n",
       "</div>"
      ],
      "text/plain": [
       "               action   adventure      comedy       crime        drama  \\\n",
<<<<<<< HEAD
       "precision    0.500000    0.552083    0.684625    0.489796     0.624365   \n",
       "recall       0.559567    0.481818    0.573789    0.218182     0.684964   \n",
       "f1-score     0.528109    0.514563    0.624326    0.301887     0.653263   \n",
       "support    277.000000  110.000000  908.000000  110.000000  1257.000000   \n",
       "\n",
       "               horror     romance    thriller     western  accuracy  \\\n",
       "precision    0.655462    0.422442    0.396552    0.815789  0.611345   \n",
       "recall       0.835714    0.592593    0.201754    0.885714  0.611345   \n",
       "f1-score     0.734694    0.493256    0.267442    0.849315  0.611345   \n",
       "support    280.000000  216.000000  228.000000  175.000000  0.611345   \n",
       "\n",
       "             macro avg  weighted avg  \n",
       "precision     0.571235      0.608685  \n",
       "recall        0.559344      0.611345  \n",
       "f1-score      0.551873      0.602639  \n",
       "support    3561.000000   3561.000000  "
      ]
     },
     "metadata": {},
     "output_type": "display_data"
=======
       "precision    0.725904    0.803571    0.834213    0.824742     0.908273   \n",
       "recall       0.870036    0.818182    0.870044    0.733945     0.804140   \n",
       "f1-score     0.791461    0.810811    0.851752    0.776699     0.853041   \n",
       "support    277.000000  110.000000  908.000000  109.000000  1256.000000   \n",
       "\n",
       "               horror     romance    thriller     western  accuracy  \\\n",
       "precision    0.846154    0.700787    0.813725    0.884211  0.839045   \n",
       "recall       0.942857    0.824074    0.724891    0.960000  0.839045   \n",
       "f1-score     0.891892    0.757447    0.766744    0.920548  0.839045   \n",
       "support    280.000000  216.000000  229.000000  175.000000  0.839045   \n",
       "\n",
       "             macro avg  weighted avg  \n",
       "precision     0.815731      0.844662  \n",
       "recall        0.838685      0.839045  \n",
       "f1-score      0.824488      0.839301  \n",
       "support    3560.000000   3560.000000  "
      ]
     },
     "execution_count": 122,
     "metadata": {},
     "output_type": "execute_result"
    }
   ],
   "source": [
    "y_preds = sm_search.predict(X_test)\n",
    "pd.DataFrame(metrics.classification_report(y_test,y_preds,output_dict=True))"
   ]
  },
  {
   "cell_type": "code",
   "execution_count": 125,
   "metadata": {
    "scrolled": true
   },
   "outputs": [
    {
     "name": "stdout",
     "output_type": "stream",
     "text": [
      "Fitting 5 folds for each of 128 candidates, totalling 640 fits\n"
     ]
    },
    {
     "name": "stderr",
     "output_type": "stream",
     "text": [
      "[Parallel(n_jobs=-1)]: Using backend LokyBackend with 12 concurrent workers.\n",
      "[Parallel(n_jobs=-1)]: Done   8 tasks      | elapsed:    3.1s\n",
      "[Parallel(n_jobs=-1)]: Done 104 tasks      | elapsed:   34.4s\n",
      "[Parallel(n_jobs=-1)]: Done 264 tasks      | elapsed:  1.4min\n",
      "[Parallel(n_jobs=-1)]: Done 488 tasks      | elapsed:  4.2min\n",
      "[Parallel(n_jobs=-1)]: Done 640 out of 640 | elapsed:  4.6min finished\n",
      "[Parallel(n_jobs=-1)]: Using backend ThreadingBackend with 12 concurrent workers.\n",
      "[Parallel(n_jobs=-1)]: Done   2 out of   9 | elapsed:    0.1s remaining:    0.3s\n",
      "[Parallel(n_jobs=-1)]: Done   9 out of   9 | elapsed:    0.1s finished\n"
     ]
>>>>>>> 27b6deaa522d9623aa415e58efe90daa932a6128
    },
    {
     "name": "stdout",
     "output_type": "stream",
     "text": [
<<<<<<< HEAD
      "{'adasyn__n_neighbors': 6, 'countvectorizer__max_df': 0.55, 'countvectorizer__min_df': 3, 'countvectorizer__ngram_range': (1, 2), 'countvectorizer__preprocessor': None, 'countvectorizer__stop_words': None, 'countvectorizer__strip_accents': 'unicode', 'countvectorizer__tokenizer': None, 'multinomialnb__alpha': 0.075, 'tfidftransformer__norm': 'l2', 'tfidftransformer__smooth_idf': True, 'tfidftransformer__use_idf': True}\n",
      "Fitting 3 folds for each of 1 candidates, totalling 3 fits\n"
=======
      "Convergence after 7 epochs took 0.07 seconds\n",
      "Convergence after 7 epochs took 0.07 seconds\n",
      "Convergence after 8 epochs took 0.07 seconds\n",
      "Convergence after 8 epochs took 0.08 seconds\n",
      "Convergence after 8 epochs took 0.08 seconds\n",
      "Convergence after 8 epochs took 0.08 seconds\n",
      "Convergence after 8 epochs took 0.08 seconds\n",
      "Convergence after 9 epochs took 0.08 seconds\n",
      "Convergence after 10 epochs took 0.09 seconds\n",
      "Fitting 5 folds for each of 128 candidates, totalling 640 fits\n"
>>>>>>> 27b6deaa522d9623aa415e58efe90daa932a6128
     ]
    },
    {
     "name": "stderr",
     "output_type": "stream",
     "text": [
      "[Parallel(n_jobs=-1)]: Using backend LokyBackend with 12 concurrent workers.\n",
<<<<<<< HEAD
      "[Parallel(n_jobs=-1)]: Done   3 out of   3 | elapsed:   12.3s finished\n"
     ]
    },
    {
     "data": {
      "text/html": [
       "<div>\n",
       "<style scoped>\n",
       "    .dataframe tbody tr th:only-of-type {\n",
       "        vertical-align: middle;\n",
       "    }\n",
       "\n",
       "    .dataframe tbody tr th {\n",
       "        vertical-align: top;\n",
       "    }\n",
       "\n",
       "    .dataframe thead th {\n",
       "        text-align: right;\n",
       "    }\n",
       "</style>\n",
       "<table border=\"1\" class=\"dataframe\">\n",
       "  <thead>\n",
       "    <tr style=\"text-align: right;\">\n",
       "      <th></th>\n",
       "      <th>action</th>\n",
       "      <th>adventure</th>\n",
       "      <th>comedy</th>\n",
       "      <th>crime</th>\n",
       "      <th>drama</th>\n",
       "      <th>horror</th>\n",
       "      <th>romance</th>\n",
       "      <th>thriller</th>\n",
       "      <th>western</th>\n",
       "      <th>accuracy</th>\n",
       "      <th>macro avg</th>\n",
       "      <th>weighted avg</th>\n",
       "    </tr>\n",
       "  </thead>\n",
       "  <tbody>\n",
       "    <tr>\n",
       "      <td>precision</td>\n",
       "      <td>0.508591</td>\n",
       "      <td>0.561224</td>\n",
       "      <td>0.687906</td>\n",
       "      <td>0.450980</td>\n",
       "      <td>0.601574</td>\n",
       "      <td>0.699367</td>\n",
       "      <td>0.327273</td>\n",
       "      <td>0.280000</td>\n",
       "      <td>0.830601</td>\n",
       "      <td>0.593092</td>\n",
       "      <td>0.549724</td>\n",
       "      <td>0.592153</td>\n",
       "    </tr>\n",
       "    <tr>\n",
       "      <td>recall</td>\n",
       "      <td>0.536232</td>\n",
       "      <td>0.495495</td>\n",
       "      <td>0.582599</td>\n",
       "      <td>0.211009</td>\n",
       "      <td>0.669053</td>\n",
       "      <td>0.789286</td>\n",
       "      <td>0.497696</td>\n",
       "      <td>0.153509</td>\n",
       "      <td>0.868571</td>\n",
       "      <td>0.593092</td>\n",
       "      <td>0.533717</td>\n",
       "      <td>0.593092</td>\n",
       "    </tr>\n",
       "    <tr>\n",
       "      <td>f1-score</td>\n",
       "      <td>0.522046</td>\n",
       "      <td>0.526316</td>\n",
       "      <td>0.630888</td>\n",
       "      <td>0.287500</td>\n",
       "      <td>0.633522</td>\n",
       "      <td>0.741611</td>\n",
       "      <td>0.394881</td>\n",
       "      <td>0.198300</td>\n",
       "      <td>0.849162</td>\n",
       "      <td>0.593092</td>\n",
       "      <td>0.531581</td>\n",
       "      <td>0.586965</td>\n",
       "    </tr>\n",
       "    <tr>\n",
       "      <td>support</td>\n",
       "      <td>276.000000</td>\n",
       "      <td>111.000000</td>\n",
       "      <td>908.000000</td>\n",
       "      <td>109.000000</td>\n",
       "      <td>1257.000000</td>\n",
       "      <td>280.000000</td>\n",
       "      <td>217.000000</td>\n",
       "      <td>228.000000</td>\n",
       "      <td>175.000000</td>\n",
       "      <td>0.593092</td>\n",
       "      <td>3561.000000</td>\n",
       "      <td>3561.000000</td>\n",
       "    </tr>\n",
       "  </tbody>\n",
       "</table>\n",
       "</div>"
      ],
      "text/plain": [
       "               action   adventure      comedy       crime        drama  \\\n",
       "precision    0.508591    0.561224    0.687906    0.450980     0.601574   \n",
       "recall       0.536232    0.495495    0.582599    0.211009     0.669053   \n",
       "f1-score     0.522046    0.526316    0.630888    0.287500     0.633522   \n",
       "support    276.000000  111.000000  908.000000  109.000000  1257.000000   \n",
       "\n",
       "               horror     romance    thriller     western  accuracy  \\\n",
       "precision    0.699367    0.327273    0.280000    0.830601  0.593092   \n",
       "recall       0.789286    0.497696    0.153509    0.868571  0.593092   \n",
       "f1-score     0.741611    0.394881    0.198300    0.849162  0.593092   \n",
       "support    280.000000  217.000000  228.000000  175.000000  0.593092   \n",
       "\n",
       "             macro avg  weighted avg  \n",
       "precision     0.549724      0.592153  \n",
       "recall        0.533717      0.593092  \n",
       "f1-score      0.531581      0.586965  \n",
       "support    3561.000000   3561.000000  "
      ]
     },
     "metadata": {},
     "output_type": "display_data"
=======
      "[Parallel(n_jobs=-1)]: Done   8 tasks      | elapsed:    1.7s\n",
      "[Parallel(n_jobs=-1)]: Done 104 tasks      | elapsed:   32.7s\n",
      "[Parallel(n_jobs=-1)]: Done 264 tasks      | elapsed:  1.4min\n",
      "[Parallel(n_jobs=-1)]: Done 488 tasks      | elapsed:  4.2min\n",
      "[Parallel(n_jobs=-1)]: Done 640 out of 640 | elapsed:  4.6min finished\n",
      "[Parallel(n_jobs=-1)]: Using backend ThreadingBackend with 12 concurrent workers.\n",
      "[Parallel(n_jobs=-1)]: Done   2 out of   9 | elapsed:    0.1s remaining:    0.3s\n",
      "[Parallel(n_jobs=-1)]: Done   9 out of   9 | elapsed:    0.1s finished\n"
     ]
    },
    {
     "name": "stdout",
     "output_type": "stream",
     "text": [
      "Convergence after 7 epochs took 0.07 seconds\n",
      "Convergence after 8 epochs took 0.07 seconds\n",
      "Convergence after 8 epochs took 0.08 seconds\n",
      "Convergence after 8 epochs took 0.08 seconds\n",
      "Convergence after 8 epochs took 0.08 seconds\n",
      "Convergence after 8 epochs took 0.08 seconds\n",
      "Convergence after 8 epochs took 0.08 seconds\n",
      "Convergence after 9 epochs took 0.08 seconds\n",
      "Convergence after 9 epochs took 0.09 seconds\n",
      "Fitting 5 folds for each of 128 candidates, totalling 640 fits\n"
     ]
    },
    {
     "name": "stderr",
     "output_type": "stream",
     "text": [
      "[Parallel(n_jobs=-1)]: Using backend LokyBackend with 12 concurrent workers.\n",
      "[Parallel(n_jobs=-1)]: Done   8 tasks      | elapsed:    1.7s\n",
      "[Parallel(n_jobs=-1)]: Done 104 tasks      | elapsed:   32.6s\n",
      "[Parallel(n_jobs=-1)]: Done 264 tasks      | elapsed:  1.4min\n",
      "[Parallel(n_jobs=-1)]: Done 488 tasks      | elapsed:  4.2min\n",
      "[Parallel(n_jobs=-1)]: Done 640 out of 640 | elapsed:  4.6min finished\n",
      "[Parallel(n_jobs=-1)]: Using backend ThreadingBackend with 12 concurrent workers.\n",
      "[Parallel(n_jobs=-1)]: Done   2 out of   9 | elapsed:    0.1s remaining:    0.3s\n",
      "[Parallel(n_jobs=-1)]: Done   9 out of   9 | elapsed:    0.1s finished\n"
     ]
>>>>>>> 27b6deaa522d9623aa415e58efe90daa932a6128
    },
    {
     "name": "stdout",
     "output_type": "stream",
     "text": [
<<<<<<< HEAD
      "{'adasyn__n_neighbors': 6, 'countvectorizer__max_df': 0.55, 'countvectorizer__min_df': 3, 'countvectorizer__ngram_range': (1, 2), 'countvectorizer__preprocessor': None, 'countvectorizer__stop_words': None, 'countvectorizer__strip_accents': 'unicode', 'countvectorizer__tokenizer': None, 'multinomialnb__alpha': 0.075, 'tfidftransformer__norm': 'l2', 'tfidftransformer__smooth_idf': True, 'tfidftransformer__use_idf': True}\n",
      "Fitting 3 folds for each of 1 candidates, totalling 3 fits\n"
=======
      "Convergence after 7 epochs took 0.06 seconds\n",
      "Convergence after 7 epochs took 0.06 seconds\n",
      "Convergence after 8 epochs took 0.07 seconds\n",
      "Convergence after 8 epochs took 0.07 seconds\n",
      "Convergence after 8 epochs took 0.07 seconds\n",
      "Convergence after 8 epochs took 0.08 seconds\n",
      "Convergence after 8 epochs took 0.08 seconds\n",
      "Convergence after 9 epochs took 0.08 seconds\n",
      "Convergence after 10 epochs took 0.09 seconds\n",
      "Fitting 5 folds for each of 128 candidates, totalling 640 fits\n"
>>>>>>> 27b6deaa522d9623aa415e58efe90daa932a6128
     ]
    },
    {
     "name": "stderr",
     "output_type": "stream",
     "text": [
      "[Parallel(n_jobs=-1)]: Using backend LokyBackend with 12 concurrent workers.\n",
<<<<<<< HEAD
      "[Parallel(n_jobs=-1)]: Done   3 out of   3 | elapsed:   11.4s finished\n"
     ]
    },
    {
     "data": {
      "text/html": [
       "<div>\n",
       "<style scoped>\n",
       "    .dataframe tbody tr th:only-of-type {\n",
       "        vertical-align: middle;\n",
       "    }\n",
       "\n",
       "    .dataframe tbody tr th {\n",
       "        vertical-align: top;\n",
       "    }\n",
       "\n",
       "    .dataframe thead th {\n",
       "        text-align: right;\n",
       "    }\n",
       "</style>\n",
       "<table border=\"1\" class=\"dataframe\">\n",
       "  <thead>\n",
       "    <tr style=\"text-align: right;\">\n",
       "      <th></th>\n",
       "      <th>action</th>\n",
       "      <th>adventure</th>\n",
       "      <th>comedy</th>\n",
       "      <th>crime</th>\n",
       "      <th>drama</th>\n",
       "      <th>horror</th>\n",
       "      <th>romance</th>\n",
       "      <th>thriller</th>\n",
       "      <th>western</th>\n",
       "      <th>accuracy</th>\n",
       "      <th>macro avg</th>\n",
       "      <th>weighted avg</th>\n",
       "    </tr>\n",
       "  </thead>\n",
       "  <tbody>\n",
       "    <tr>\n",
       "      <td>precision</td>\n",
       "      <td>0.530405</td>\n",
       "      <td>0.545455</td>\n",
       "      <td>0.646986</td>\n",
       "      <td>0.475000</td>\n",
       "      <td>0.604461</td>\n",
       "      <td>0.657061</td>\n",
       "      <td>0.388889</td>\n",
       "      <td>0.421053</td>\n",
       "      <td>0.835165</td>\n",
       "      <td>0.596348</td>\n",
       "      <td>0.567164</td>\n",
       "      <td>0.594358</td>\n",
       "    </tr>\n",
       "    <tr>\n",
       "      <td>recall</td>\n",
       "      <td>0.566787</td>\n",
       "      <td>0.490909</td>\n",
       "      <td>0.579295</td>\n",
       "      <td>0.174312</td>\n",
       "      <td>0.647293</td>\n",
       "      <td>0.814286</td>\n",
       "      <td>0.583333</td>\n",
       "      <td>0.209607</td>\n",
       "      <td>0.868571</td>\n",
       "      <td>0.596348</td>\n",
       "      <td>0.548266</td>\n",
       "      <td>0.596348</td>\n",
       "    </tr>\n",
       "    <tr>\n",
       "      <td>f1-score</td>\n",
       "      <td>0.547993</td>\n",
       "      <td>0.516746</td>\n",
       "      <td>0.611273</td>\n",
       "      <td>0.255034</td>\n",
       "      <td>0.625144</td>\n",
       "      <td>0.727273</td>\n",
       "      <td>0.466667</td>\n",
       "      <td>0.279883</td>\n",
       "      <td>0.851541</td>\n",
       "      <td>0.596348</td>\n",
       "      <td>0.542395</td>\n",
       "      <td>0.588259</td>\n",
       "    </tr>\n",
       "    <tr>\n",
       "      <td>support</td>\n",
       "      <td>277.000000</td>\n",
       "      <td>110.000000</td>\n",
       "      <td>908.000000</td>\n",
       "      <td>109.000000</td>\n",
       "      <td>1256.000000</td>\n",
       "      <td>280.000000</td>\n",
       "      <td>216.000000</td>\n",
       "      <td>229.000000</td>\n",
       "      <td>175.000000</td>\n",
       "      <td>0.596348</td>\n",
       "      <td>3560.000000</td>\n",
       "      <td>3560.000000</td>\n",
       "    </tr>\n",
       "  </tbody>\n",
       "</table>\n",
       "</div>"
      ],
      "text/plain": [
       "               action   adventure      comedy       crime        drama  \\\n",
       "precision    0.530405    0.545455    0.646986    0.475000     0.604461   \n",
       "recall       0.566787    0.490909    0.579295    0.174312     0.647293   \n",
       "f1-score     0.547993    0.516746    0.611273    0.255034     0.625144   \n",
       "support    277.000000  110.000000  908.000000  109.000000  1256.000000   \n",
       "\n",
       "               horror     romance    thriller     western  accuracy  \\\n",
       "precision    0.657061    0.388889    0.421053    0.835165  0.596348   \n",
       "recall       0.814286    0.583333    0.209607    0.868571  0.596348   \n",
       "f1-score     0.727273    0.466667    0.279883    0.851541  0.596348   \n",
       "support    280.000000  216.000000  229.000000  175.000000  0.596348   \n",
       "\n",
       "             macro avg  weighted avg  \n",
       "precision     0.567164      0.594358  \n",
       "recall        0.548266      0.596348  \n",
       "f1-score      0.542395      0.588259  \n",
       "support    3560.000000   3560.000000  "
      ]
     },
     "metadata": {},
     "output_type": "display_data"
=======
      "[Parallel(n_jobs=-1)]: Done   8 tasks      | elapsed:    1.7s\n",
      "[Parallel(n_jobs=-1)]: Done 104 tasks      | elapsed:   32.3s\n",
      "[Parallel(n_jobs=-1)]: Done 264 tasks      | elapsed:  1.4min\n",
      "[Parallel(n_jobs=-1)]: Done 488 tasks      | elapsed:  4.2min\n",
      "[Parallel(n_jobs=-1)]: Done 640 out of 640 | elapsed:  4.6min finished\n",
      "[Parallel(n_jobs=-1)]: Using backend ThreadingBackend with 12 concurrent workers.\n",
      "[Parallel(n_jobs=-1)]: Done   2 out of   9 | elapsed:    0.1s remaining:    0.3s\n",
      "[Parallel(n_jobs=-1)]: Done   9 out of   9 | elapsed:    0.1s finished\n"
     ]
    },
    {
     "name": "stdout",
     "output_type": "stream",
     "text": [
      "Convergence after 7 epochs took 0.06 seconds\n",
      "Convergence after 7 epochs took 0.06 seconds\n",
      "Convergence after 7 epochs took 0.06 seconds\n",
      "Convergence after 8 epochs took 0.07 seconds\n",
      "Convergence after 8 epochs took 0.07 seconds\n",
      "Convergence after 8 epochs took 0.07 seconds\n",
      "Convergence after 8 epochs took 0.08 seconds\n",
      "Convergence after 9 epochs took 0.08 seconds\n",
      "Convergence after 9 epochs took 0.09 seconds\n",
      "Fitting 5 folds for each of 128 candidates, totalling 640 fits\n"
     ]
    },
    {
     "name": "stderr",
     "output_type": "stream",
     "text": [
      "[Parallel(n_jobs=-1)]: Using backend LokyBackend with 12 concurrent workers.\n",
      "[Parallel(n_jobs=-1)]: Done   8 tasks      | elapsed:    1.7s\n",
      "[Parallel(n_jobs=-1)]: Done 104 tasks      | elapsed:   33.0s\n",
      "[Parallel(n_jobs=-1)]: Done 264 tasks      | elapsed:  1.4min\n",
      "[Parallel(n_jobs=-1)]: Done 488 tasks      | elapsed:  4.2min\n",
      "[Parallel(n_jobs=-1)]: Done 640 out of 640 | elapsed:  4.6min finished\n",
      "[Parallel(n_jobs=-1)]: Using backend ThreadingBackend with 12 concurrent workers.\n",
      "[Parallel(n_jobs=-1)]: Done   2 out of   9 | elapsed:    0.1s remaining:    0.3s\n",
      "[Parallel(n_jobs=-1)]: Done   9 out of   9 | elapsed:    0.1s finished\n"
     ]
>>>>>>> 27b6deaa522d9623aa415e58efe90daa932a6128
    },
    {
     "name": "stdout",
     "output_type": "stream",
     "text": [
<<<<<<< HEAD
      "{'adasyn__n_neighbors': 6, 'countvectorizer__max_df': 0.55, 'countvectorizer__min_df': 3, 'countvectorizer__ngram_range': (1, 2), 'countvectorizer__preprocessor': None, 'countvectorizer__stop_words': None, 'countvectorizer__strip_accents': 'unicode', 'countvectorizer__tokenizer': None, 'multinomialnb__alpha': 0.075, 'tfidftransformer__norm': 'l2', 'tfidftransformer__smooth_idf': True, 'tfidftransformer__use_idf': True}\n",
      "accuracy: 59.26% (+/- 0.71%)\n",
      "precision: 59.84% (+/- 0.73%)\n",
      "recall: 60.03% (+/- 0.79%)\n",
      "f1 score: 59.26% (+/- 0.71%)\n"
     ]
    }
   ],
   "source": [
    "pipeline_cv(3,X,y,nb_sm_search,'weighted')"
   ]
  },
  {
   "cell_type": "code",
   "execution_count": 60,
   "metadata": {},
   "outputs": [
    {
     "data": {
      "text/plain": [
       "Pipeline(memory=None,\n",
       "         steps=[('countvectorizer',\n",
       "                 CountVectorizer(analyzer='word', binary=False,\n",
       "                                 decode_error='strict',\n",
       "                                 dtype=<class 'numpy.int64'>, encoding='utf-8',\n",
       "                                 input='content', lowercase=True, max_df=0.55,\n",
       "                                 max_features=None, min_df=3,\n",
       "                                 ngram_range=(1, 2),\n",
       "                                 preprocessor=<function identity at 0x1a32cadd08>,\n",
       "                                 stop_words=<function identity at 0x1a32cadd08>,\n",
       "                                 strip_accents='unicode',\n",
       "                                 token_pattern='(?u)\\\\b\\\\w\\\\w+\\\\b',\n",
       "                                 tokenizer=None, vocabulary=None)),\n",
       "                ('tfidftransformer',\n",
       "                 TfidfTransformer(norm='l2', smooth_idf=True,\n",
       "                                  sublinear_tf=False, use_idf=True)),\n",
       "                ('adasyn',\n",
       "                 ADASYN(n_jobs=-1, n_neighbors=6, random_state=42,\n",
       "                        sampling_strategy='auto')),\n",
       "                ('multinomialnb',\n",
       "                 MultinomialNB(alpha=0.075, class_prior=None, fit_prior=True))],\n",
       "         verbose=False)"
      ]
     },
     "execution_count": 60,
=======
      "Convergence after 7 epochs took 0.07 seconds\n",
      "Convergence after 7 epochs took 0.07 seconds\n",
      "Convergence after 7 epochs took 0.07 seconds\n",
      "Convergence after 8 epochs took 0.08 seconds\n",
      "Convergence after 8 epochs took 0.08 seconds\n",
      "Convergence after 8 epochs took 0.08 seconds\n",
      "Convergence after 8 epochs took 0.08 seconds\n",
      "Convergence after 9 epochs took 0.08 seconds\n",
      "Convergence after 10 epochs took 0.09 seconds\n"
     ]
    },
    {
     "data": {
      "text/plain": [
       "array([0.5704714 , 0.54829878, 0.57731173, 0.55489976, 0.55049717])"
      ]
     },
     "execution_count": 125,
>>>>>>> 27b6deaa522d9623aa415e58efe90daa932a6128
     "metadata": {},
     "output_type": "execute_result"
    }
   ],
   "source": [
<<<<<<< HEAD
    "nb_sm_search.best_estimator_"
=======
    "cross_val_score(sm_search,X_test,y_test)"
>>>>>>> 27b6deaa522d9623aa415e58efe90daa932a6128
   ]
  },
  {
   "cell_type": "code",
   "execution_count": null,
   "metadata": {},
   "outputs": [],
   "source": []
<<<<<<< HEAD
=======
  },
  {
   "cell_type": "code",
   "execution_count": null,
   "metadata": {},
   "outputs": [],
   "source": []
>>>>>>> 27b6deaa522d9623aa415e58efe90daa932a6128
  }
 ],
 "metadata": {
  "kernelspec": {
   "display_name": "Python 3",
   "language": "python",
   "name": "python3"
  },
  "language_info": {
   "codemirror_mode": {
    "name": "ipython",
    "version": 3
   },
   "file_extension": ".py",
   "mimetype": "text/x-python",
   "name": "python",
   "nbconvert_exporter": "python",
   "pygments_lexer": "ipython3",
   "version": "3.7.3"
  }
 },
 "nbformat": 4,
 "nbformat_minor": 2
}
