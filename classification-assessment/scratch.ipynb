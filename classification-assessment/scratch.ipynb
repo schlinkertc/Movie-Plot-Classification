{
 "cells": [
  {
   "cell_type": "code",
   "execution_count": 3,
   "metadata": {},
   "outputs": [],
   "source": [
    "import pandas as pd\n",
    "import text_processing as text\n",
    "from sklearn import metrics\n",
    "from sklearn.metrics import precision_score, accuracy_score, recall_score, f1_score, roc_auc_score\n",
    "from sklearn.model_selection import StratifiedKFold, cross_val_predict, cross_val_score\n",
    "from sklearn.feature_extraction.text import CountVectorizer, TfidfTransformer, TfidfVectorizer\n",
    "from sklearn.pipeline import Pipeline\n",
    "from sklearn.linear_model import SGDClassifier\n",
    "import numpy as np\n",
    "import matplotlib.pyplot as plt\n",
    "from sklearn.model_selection import GridSearchCV,RandomizedSearchCV\n",
    "from imblearn.pipeline import make_pipeline\n",
    "from imblearn.over_sampling import ADASYN, SMOTE, RandomOverSampler"
   ]
  },
  {
   "cell_type": "markdown",
   "metadata": {},
   "source": [
    "## Load the training data set"
   ]
  },
  {
   "cell_type": "code",
   "execution_count": 6,
   "metadata": {},
   "outputs": [
    {
     "name": "stdout",
     "output_type": "stream",
     "text": [
      "(10682, 7)\n"
     ]
    },
    {
     "data": {
      "text/html": [
       "<div>\n",
       "<style scoped>\n",
       "    .dataframe tbody tr th:only-of-type {\n",
       "        vertical-align: middle;\n",
       "    }\n",
       "\n",
       "    .dataframe tbody tr th {\n",
       "        vertical-align: top;\n",
       "    }\n",
       "\n",
       "    .dataframe thead th {\n",
       "        text-align: right;\n",
       "    }\n",
       "</style>\n",
       "<table border=\"1\" class=\"dataframe\">\n",
       "  <thead>\n",
       "    <tr style=\"text-align: right;\">\n",
       "      <th></th>\n",
       "      <th>ID</th>\n",
       "      <th>Release Year</th>\n",
       "      <th>Title</th>\n",
       "      <th>Plot</th>\n",
       "      <th>Director</th>\n",
       "      <th>Cast</th>\n",
       "      <th>Genre</th>\n",
       "    </tr>\n",
       "  </thead>\n",
       "  <tbody>\n",
       "    <tr>\n",
       "      <th>0</th>\n",
       "      <td>10281</td>\n",
       "      <td>1984</td>\n",
       "      <td>Silent Madness</td>\n",
       "      <td>A computer error leads to the accidental relea...</td>\n",
       "      <td>Simon Nuchtern</td>\n",
       "      <td>Belinda Montgomery, Viveca Lindfors</td>\n",
       "      <td>horror</td>\n",
       "    </tr>\n",
       "    <tr>\n",
       "      <th>1</th>\n",
       "      <td>7341</td>\n",
       "      <td>1960</td>\n",
       "      <td>Desire in the Dust</td>\n",
       "      <td>Lonnie Wilson (Ken Scott), the son of a sharec...</td>\n",
       "      <td>Robert L. Lippert</td>\n",
       "      <td>Raymond Burr, Martha Hyer, Joan Bennett</td>\n",
       "      <td>drama</td>\n",
       "    </tr>\n",
       "    <tr>\n",
       "      <th>2</th>\n",
       "      <td>10587</td>\n",
       "      <td>1986</td>\n",
       "      <td>On the Edge</td>\n",
       "      <td>A gaunt, bushy-bearded, 44-year-old Wes Holman...</td>\n",
       "      <td>Rob Nilsson</td>\n",
       "      <td>Bruce Dern, Pam Grier</td>\n",
       "      <td>drama</td>\n",
       "    </tr>\n",
       "    <tr>\n",
       "      <th>3</th>\n",
       "      <td>25495</td>\n",
       "      <td>1988</td>\n",
       "      <td>Ram-Avtar</td>\n",
       "      <td>Ram and Avtar are both childhood best friends....</td>\n",
       "      <td>Sunil Hingorani</td>\n",
       "      <td>Sunny Deol, Anil Kapoor, Sridevi</td>\n",
       "      <td>drama</td>\n",
       "    </tr>\n",
       "    <tr>\n",
       "      <th>4</th>\n",
       "      <td>16607</td>\n",
       "      <td>2013</td>\n",
       "      <td>Machete Kills</td>\n",
       "      <td>Machete Cortez (Danny Trejo) and Sartana River...</td>\n",
       "      <td>Robert Rodriguez</td>\n",
       "      <td>Danny Trejo, Michelle Rodriguez, Sofía Vergara...</td>\n",
       "      <td>action</td>\n",
       "    </tr>\n",
       "  </tbody>\n",
       "</table>\n",
       "</div>"
      ],
      "text/plain": [
       "      ID  Release Year               Title  \\\n",
       "0  10281          1984      Silent Madness   \n",
       "1   7341          1960  Desire in the Dust   \n",
       "2  10587          1986         On the Edge   \n",
       "3  25495          1988           Ram-Avtar   \n",
       "4  16607          2013       Machete Kills   \n",
       "\n",
       "                                                Plot           Director  \\\n",
       "0  A computer error leads to the accidental relea...     Simon Nuchtern   \n",
       "1  Lonnie Wilson (Ken Scott), the son of a sharec...  Robert L. Lippert   \n",
       "2  A gaunt, bushy-bearded, 44-year-old Wes Holman...        Rob Nilsson   \n",
       "3  Ram and Avtar are both childhood best friends....    Sunil Hingorani   \n",
       "4  Machete Cortez (Danny Trejo) and Sartana River...   Robert Rodriguez   \n",
       "\n",
       "                                                Cast   Genre  \n",
       "0                Belinda Montgomery, Viveca Lindfors  horror  \n",
       "1            Raymond Burr, Martha Hyer, Joan Bennett   drama  \n",
       "2                              Bruce Dern, Pam Grier   drama  \n",
       "3                   Sunny Deol, Anil Kapoor, Sridevi   drama  \n",
       "4  Danny Trejo, Michelle Rodriguez, Sofía Vergara...  action  "
      ]
     },
     "execution_count": 6,
     "metadata": {},
     "output_type": "execute_result"
    }
   ],
   "source": [
    "df = pd.read_csv(\"movie_train.csv\",index_col=0,)\n",
    "\n",
    "df.reset_index(drop=False,inplace=True)\n",
    "df.rename(mapper={'index':'ID'},axis=1,inplace=True)\n",
    "\n",
    "print(df.shape)\n",
    "df.head()"
   ]
  },
  {
   "cell_type": "code",
   "execution_count": 7,
   "metadata": {},
   "outputs": [],
   "source": [
    "X = df['Plot']\n",
    "y = df['Genre']"
   ]
  },
  {
   "cell_type": "code",
   "execution_count": 8,
   "metadata": {},
   "outputs": [],
   "source": [
    "# Create scorer\n",
    "scorer = metrics.make_scorer(metrics.f1_score, average = 'weighted')"
   ]
  },
  {
   "cell_type": "code",
   "execution_count": 6,
   "metadata": {},
   "outputs": [],
   "source": [
    "sm_pipeline = make_pipeline(CountVectorizer(),\n",
    "                            TfidfTransformer(),\n",
    "                            SMOTE(n_jobs=-1,random_state=42),\n",
    "                            SGDClassifier(n_jobs=-1,verbose=0,random_state=42))"
   ]
  },
  {
   "cell_type": "code",
   "execution_count": 7,
   "metadata": {},
   "outputs": [
    {
     "data": {
      "text/plain": [
       "{'countvectorizer': CountVectorizer(analyzer='word', binary=False, decode_error='strict',\n",
       "                 dtype=<class 'numpy.int64'>, encoding='utf-8', input='content',\n",
       "                 lowercase=True, max_df=1.0, max_features=None, min_df=1,\n",
       "                 ngram_range=(1, 1), preprocessor=None, stop_words=None,\n",
       "                 strip_accents=None, token_pattern='(?u)\\\\b\\\\w\\\\w+\\\\b',\n",
       "                 tokenizer=None, vocabulary=None),\n",
       " 'tfidftransformer': TfidfTransformer(norm='l2', smooth_idf=True, sublinear_tf=False, use_idf=True),\n",
       " 'smote': SMOTE(k_neighbors=5, n_jobs=-1, random_state=42, sampling_strategy='auto'),\n",
       " 'sgdclassifier': SGDClassifier(alpha=0.0001, average=False, class_weight=None,\n",
       "               early_stopping=False, epsilon=0.1, eta0=0.0, fit_intercept=True,\n",
       "               l1_ratio=0.15, learning_rate='optimal', loss='hinge',\n",
       "               max_iter=1000, n_iter_no_change=5, n_jobs=-1, penalty='l2',\n",
       "               power_t=0.5, random_state=42, shuffle=True, tol=0.001,\n",
       "               validation_fraction=0.1, verbose=0, warm_start=False)}"
      ]
     },
     "execution_count": 7,
     "metadata": {},
     "output_type": "execute_result"
    }
   ],
   "source": [
    "sm_pipeline.named_steps"
   ]
  },
  {
   "cell_type": "code",
   "execution_count": 8,
   "metadata": {},
   "outputs": [],
   "source": [
    "sm_params = {\n",
    "    'countvectorizer__ngram_range':[(1,2)],\n",
    "    'countvectorizer__max_df':[.75,.8],\n",
    "    'countvectorizer__min_df':[1,2],\n",
    "    'tfidftransformer__use_idf':[True],\n",
    "    'tfidftransformer__smooth_idf':[True],\n",
    "    'sgdclassifier__alpha':[.0001,.001],\n",
    "    'sgdclassifier__loss':['squared_hinge','modified_huber']\n",
    "}"
   ]
  },
  {
   "cell_type": "code",
   "execution_count": 9,
   "metadata": {},
   "outputs": [],
   "source": [
    "sm_search = GridSearchCV(sm_pipeline,sm_params,cv=5,n_jobs=-1,scoring=scorer,verbose=0)"
   ]
  },
  {
   "cell_type": "code",
   "execution_count": 13,
   "metadata": {},
   "outputs": [],
   "source": [
    "def pipeline_cv(splits, X, Y, pipeline):\n",
    "    \n",
    "    kfold = StratifiedKFold(n_splits=splits, shuffle=True, random_state=777)\n",
    "    \n",
    "    reports = []\n",
    "    for train, test in kfold.split(X, Y):\n",
    "        fit = pipeline.fit(X.iloc[train], Y.iloc[train])\n",
    "        prediction = fit.predict(X.iloc[test])\n",
    "        \n",
    "        reports.append(\n",
    "            pd.DataFrame(\n",
    "                metrics.classification_report(\n",
    "                    Y.iloc[test],prediction,output_dict=True\n",
    "                )\n",
    "            )\n",
    "        )\n",
    "\n",
    "    df_concat = pd.concat([x for x in reports])\n",
    "\n",
    "    by_row_index = df_concat.groupby(df_concat.index)\n",
    "    df_means = by_row_index.mean()\n",
    "\n",
    "    return df_means\n"
   ]
  },
  {
   "cell_type": "code",
   "execution_count": 15,
   "metadata": {},
   "outputs": [
    {
     "data": {
      "text/html": [
       "<div>\n",
       "<style scoped>\n",
       "    .dataframe tbody tr th:only-of-type {\n",
       "        vertical-align: middle;\n",
       "    }\n",
       "\n",
       "    .dataframe tbody tr th {\n",
       "        vertical-align: top;\n",
       "    }\n",
       "\n",
       "    .dataframe thead th {\n",
       "        text-align: right;\n",
       "    }\n",
       "</style>\n",
       "<table border=\"1\" class=\"dataframe\">\n",
       "  <thead>\n",
       "    <tr style=\"text-align: right;\">\n",
       "      <th></th>\n",
       "      <th>action</th>\n",
       "      <th>adventure</th>\n",
       "      <th>comedy</th>\n",
       "      <th>crime</th>\n",
       "      <th>drama</th>\n",
       "      <th>horror</th>\n",
       "      <th>romance</th>\n",
       "      <th>thriller</th>\n",
       "      <th>western</th>\n",
       "      <th>accuracy</th>\n",
       "      <th>macro avg</th>\n",
       "      <th>weighted avg</th>\n",
       "    </tr>\n",
       "  </thead>\n",
       "  <tbody>\n",
       "    <tr>\n",
       "      <th>f1-score</th>\n",
       "      <td>0.497990</td>\n",
       "      <td>0.503093</td>\n",
       "      <td>0.640436</td>\n",
       "      <td>0.316614</td>\n",
       "      <td>0.538737</td>\n",
       "      <td>0.691392</td>\n",
       "      <td>0.432284</td>\n",
       "      <td>0.286914</td>\n",
       "      <td>0.782693</td>\n",
       "      <td>0.555606</td>\n",
       "      <td>0.521128</td>\n",
       "      <td>0.554967</td>\n",
       "    </tr>\n",
       "    <tr>\n",
       "      <th>precision</th>\n",
       "      <td>0.439015</td>\n",
       "      <td>0.430871</td>\n",
       "      <td>0.626878</td>\n",
       "      <td>0.275486</td>\n",
       "      <td>0.716705</td>\n",
       "      <td>0.606792</td>\n",
       "      <td>0.356742</td>\n",
       "      <td>0.284662</td>\n",
       "      <td>0.678006</td>\n",
       "      <td>0.555606</td>\n",
       "      <td>0.490573</td>\n",
       "      <td>0.589712</td>\n",
       "    </tr>\n",
       "    <tr>\n",
       "      <th>recall</th>\n",
       "      <td>0.575904</td>\n",
       "      <td>0.607372</td>\n",
       "      <td>0.655660</td>\n",
       "      <td>0.374872</td>\n",
       "      <td>0.431830</td>\n",
       "      <td>0.804762</td>\n",
       "      <td>0.551628</td>\n",
       "      <td>0.290511</td>\n",
       "      <td>0.925714</td>\n",
       "      <td>0.555606</td>\n",
       "      <td>0.579806</td>\n",
       "      <td>0.555606</td>\n",
       "    </tr>\n",
       "    <tr>\n",
       "      <th>support</th>\n",
       "      <td>166.000000</td>\n",
       "      <td>66.200000</td>\n",
       "      <td>544.800000</td>\n",
       "      <td>65.600000</td>\n",
       "      <td>754.000000</td>\n",
       "      <td>168.000000</td>\n",
       "      <td>129.800000</td>\n",
       "      <td>137.000000</td>\n",
       "      <td>105.000000</td>\n",
       "      <td>0.555606</td>\n",
       "      <td>2136.400000</td>\n",
       "      <td>2136.400000</td>\n",
       "    </tr>\n",
       "  </tbody>\n",
       "</table>\n",
       "</div>"
      ],
      "text/plain": [
       "               action  adventure      comedy      crime       drama  \\\n",
       "f1-score     0.497990   0.503093    0.640436   0.316614    0.538737   \n",
       "precision    0.439015   0.430871    0.626878   0.275486    0.716705   \n",
       "recall       0.575904   0.607372    0.655660   0.374872    0.431830   \n",
       "support    166.000000  66.200000  544.800000  65.600000  754.000000   \n",
       "\n",
       "               horror     romance    thriller     western  accuracy  \\\n",
       "f1-score     0.691392    0.432284    0.286914    0.782693  0.555606   \n",
       "precision    0.606792    0.356742    0.284662    0.678006  0.555606   \n",
       "recall       0.804762    0.551628    0.290511    0.925714  0.555606   \n",
       "support    168.000000  129.800000  137.000000  105.000000  0.555606   \n",
       "\n",
       "             macro avg  weighted avg  \n",
       "f1-score      0.521128      0.554967  \n",
       "precision     0.490573      0.589712  \n",
       "recall        0.579806      0.555606  \n",
       "support    2136.400000   2136.400000  "
      ]
     },
     "execution_count": 15,
     "metadata": {},
     "output_type": "execute_result"
    }
   ],
   "source": [
    "pipeline_cv(5,X,y,sm_search)"
   ]
  },
  {
   "cell_type": "markdown",
   "metadata": {},
   "source": [
    "### Customize the vectorizer"
   ]
  },
  {
   "cell_type": "code",
   "execution_count": 9,
   "metadata": {},
   "outputs": [],
   "source": [
    "from text_processing import *"
   ]
  },
  {
   "cell_type": "code",
   "execution_count": 10,
   "metadata": {},
   "outputs": [],
   "source": [
    "sm_pipeline_customVect = make_pipeline(TextNormalizer(),\n",
    "                                       TfidfTransformer(),\n",
    "                                       SMOTE(n_jobs=-1,random_state=42),\n",
    "                                       SGDClassifier(n_jobs=-1,verbose=0,random_state=42))"
   ]
  },
  {
   "cell_type": "code",
   "execution_count": 11,
   "metadata": {},
   "outputs": [],
   "source": [
    "vect = TextNormalizer()"
   ]
  },
  {
   "cell_type": "code",
   "execution_count": null,
   "metadata": {},
   "outputs": [],
   "source": []
  }
 ],
 "metadata": {
  "kernelspec": {
   "display_name": "Python 3",
   "language": "python",
   "name": "python3"
  },
  "language_info": {
   "codemirror_mode": {
    "name": "ipython",
    "version": 3
   },
   "file_extension": ".py",
   "mimetype": "text/x-python",
   "name": "python",
   "nbconvert_exporter": "python",
   "pygments_lexer": "ipython3",
   "version": "3.7.3"
  }
 },
 "nbformat": 4,
 "nbformat_minor": 4
}
