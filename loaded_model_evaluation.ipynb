{
 "cells": [
  {
   "cell_type": "code",
<<<<<<< HEAD
   "execution_count": 29,
=======
   "execution_count": 1,
>>>>>>> 27b6deaa522d9623aa415e58efe90daa932a6128
   "metadata": {},
   "outputs": [
    {
     "name": "stdout",
     "output_type": "stream",
     "text": [
      "(10682, 7)\n"
     ]
    },
    {
     "data": {
      "text/html": [
       "<div>\n",
       "<style scoped>\n",
       "    .dataframe tbody tr th:only-of-type {\n",
       "        vertical-align: middle;\n",
       "    }\n",
       "\n",
       "    .dataframe tbody tr th {\n",
       "        vertical-align: top;\n",
       "    }\n",
       "\n",
       "    .dataframe thead th {\n",
       "        text-align: right;\n",
       "    }\n",
       "</style>\n",
       "<table border=\"1\" class=\"dataframe\">\n",
       "  <thead>\n",
       "    <tr style=\"text-align: right;\">\n",
       "      <th></th>\n",
       "      <th>ID</th>\n",
       "      <th>Release Year</th>\n",
       "      <th>Title</th>\n",
       "      <th>Plot</th>\n",
       "      <th>Director</th>\n",
       "      <th>Cast</th>\n",
       "      <th>Genre</th>\n",
       "    </tr>\n",
       "  </thead>\n",
       "  <tbody>\n",
       "    <tr>\n",
       "      <td>0</td>\n",
       "      <td>10281</td>\n",
       "      <td>1984</td>\n",
       "      <td>Silent Madness</td>\n",
       "      <td>A computer error leads to the accidental relea...</td>\n",
       "      <td>Simon Nuchtern</td>\n",
       "      <td>Belinda Montgomery, Viveca Lindfors</td>\n",
       "      <td>horror</td>\n",
       "    </tr>\n",
       "    <tr>\n",
       "      <td>1</td>\n",
       "      <td>7341</td>\n",
       "      <td>1960</td>\n",
       "      <td>Desire in the Dust</td>\n",
       "      <td>Lonnie Wilson (Ken Scott), the son of a sharec...</td>\n",
       "      <td>Robert L. Lippert</td>\n",
       "      <td>Raymond Burr, Martha Hyer, Joan Bennett</td>\n",
       "      <td>drama</td>\n",
       "    </tr>\n",
       "    <tr>\n",
       "      <td>2</td>\n",
       "      <td>10587</td>\n",
       "      <td>1986</td>\n",
       "      <td>On the Edge</td>\n",
       "      <td>A gaunt, bushy-bearded, 44-year-old Wes Holman...</td>\n",
       "      <td>Rob Nilsson</td>\n",
       "      <td>Bruce Dern, Pam Grier</td>\n",
       "      <td>drama</td>\n",
       "    </tr>\n",
       "    <tr>\n",
       "      <td>3</td>\n",
       "      <td>25495</td>\n",
       "      <td>1988</td>\n",
       "      <td>Ram-Avtar</td>\n",
       "      <td>Ram and Avtar are both childhood best friends....</td>\n",
       "      <td>Sunil Hingorani</td>\n",
       "      <td>Sunny Deol, Anil Kapoor, Sridevi</td>\n",
       "      <td>drama</td>\n",
       "    </tr>\n",
       "    <tr>\n",
       "      <td>4</td>\n",
       "      <td>16607</td>\n",
       "      <td>2013</td>\n",
       "      <td>Machete Kills</td>\n",
       "      <td>Machete Cortez (Danny Trejo) and Sartana River...</td>\n",
       "      <td>Robert Rodriguez</td>\n",
       "      <td>Danny Trejo, Michelle Rodriguez, Sofía Vergara...</td>\n",
       "      <td>action</td>\n",
       "    </tr>\n",
       "  </tbody>\n",
       "</table>\n",
       "</div>"
      ],
      "text/plain": [
       "      ID  Release Year               Title  \\\n",
       "0  10281          1984      Silent Madness   \n",
       "1   7341          1960  Desire in the Dust   \n",
       "2  10587          1986         On the Edge   \n",
       "3  25495          1988           Ram-Avtar   \n",
       "4  16607          2013       Machete Kills   \n",
       "\n",
       "                                                Plot           Director  \\\n",
       "0  A computer error leads to the accidental relea...     Simon Nuchtern   \n",
       "1  Lonnie Wilson (Ken Scott), the son of a sharec...  Robert L. Lippert   \n",
       "2  A gaunt, bushy-bearded, 44-year-old Wes Holman...        Rob Nilsson   \n",
       "3  Ram and Avtar are both childhood best friends....    Sunil Hingorani   \n",
       "4  Machete Cortez (Danny Trejo) and Sartana River...   Robert Rodriguez   \n",
       "\n",
       "                                                Cast   Genre  \n",
       "0                Belinda Montgomery, Viveca Lindfors  horror  \n",
       "1            Raymond Burr, Martha Hyer, Joan Bennett   drama  \n",
       "2                              Bruce Dern, Pam Grier   drama  \n",
       "3                   Sunny Deol, Anil Kapoor, Sridevi   drama  \n",
       "4  Danny Trejo, Michelle Rodriguez, Sofía Vergara...  action  "
      ]
     },
<<<<<<< HEAD
     "execution_count": 29,
=======
     "execution_count": 1,
>>>>>>> 27b6deaa522d9623aa415e58efe90daa932a6128
     "metadata": {},
     "output_type": "execute_result"
    }
   ],
   "source": [
    "import joblib\n",
    "import pandas as pd\n",
    "import text_processing as text\n",
    "from sklearn import metrics\n",
    "from sklearn.model_selection import StratifiedKFold, cross_val_predict, cross_val_score\n",
    "from sklearn.feature_extraction.text import CountVectorizer, TfidfTransformer, TfidfVectorizer\n",
    "from sklearn.pipeline import Pipeline\n",
    "from sklearn.linear_model import SGDClassifier\n",
    "import numpy as np\n",
    "import matplotlib.pyplot as plt\n",
<<<<<<< HEAD
    "from sklearn.metrics import confusion_matrix\n",
    "import itertools\n",
    "from sklearn.model_selection import train_test_split\n",
=======
>>>>>>> 27b6deaa522d9623aa415e58efe90daa932a6128
    "\n",
    "df = pd.read_csv(\"movie_train.csv\",index_col=0,)\n",
    "\n",
    "df.reset_index(drop=False,inplace=True)\n",
    "df.rename(mapper={'index':'ID'},axis=1,inplace=True)\n",
    "\n",
    "print(df.shape)\n",
    "\n",
    "df.head()\n",
    "\n",
    "\n",
    "\n"
   ]
  },
  {
   "cell_type": "code",
<<<<<<< HEAD
   "execution_count": 5,
=======
   "execution_count": 2,
>>>>>>> 27b6deaa522d9623aa415e58efe90daa932a6128
   "metadata": {},
   "outputs": [],
   "source": [
    "X = df['Plot']\n",
    "X_tokenized = text.pre_process(X)\n",
    "y = df['Genre']"
   ]
  },
  {
   "cell_type": "code",
<<<<<<< HEAD
   "execution_count": 42,
=======
   "execution_count": 15,
>>>>>>> 27b6deaa522d9623aa415e58efe90daa932a6128
   "metadata": {},
   "outputs": [],
   "source": [
    "# First model was trained on stratified Kfold split with k=3. \n",
    "# df['Plot'] was fed into the pipeline without preprocessing\n",
    "\n",
    "model_1_loaded = joblib.load(\"model_1.pkl\")\n",
    "\n",
    "## Model 2 was trained on SMOTE-sampled, pre-processed text data\n",
    "\n",
<<<<<<< HEAD
    "model_2_loaded = joblib.load(\"model_2.pkl\")\n",
    "\n",
    "model_3_loaded = joblib.load(\"model_3.pkl\")"
=======
    "model_2_loaded = joblib.load(\"model_2.pkl\")"
>>>>>>> 27b6deaa522d9623aa415e58efe90daa932a6128
   ]
  },
  {
   "cell_type": "code",
<<<<<<< HEAD
   "execution_count": 7,
=======
   "execution_count": 17,
>>>>>>> 27b6deaa522d9623aa415e58efe90daa932a6128
   "metadata": {},
   "outputs": [
    {
     "name": "stdout",
     "output_type": "stream",
     "text": [
      "0.8462834675154466\n"
     ]
    },
    {
     "data": {
      "text/html": [
       "<div>\n",
       "<style scoped>\n",
       "    .dataframe tbody tr th:only-of-type {\n",
       "        vertical-align: middle;\n",
       "    }\n",
       "\n",
       "    .dataframe tbody tr th {\n",
       "        vertical-align: top;\n",
       "    }\n",
       "\n",
       "    .dataframe thead th {\n",
       "        text-align: right;\n",
       "    }\n",
       "</style>\n",
       "<table border=\"1\" class=\"dataframe\">\n",
       "  <thead>\n",
       "    <tr style=\"text-align: right;\">\n",
       "      <th></th>\n",
       "      <th>action</th>\n",
       "      <th>adventure</th>\n",
       "      <th>comedy</th>\n",
       "      <th>crime</th>\n",
       "      <th>drama</th>\n",
       "      <th>horror</th>\n",
       "      <th>romance</th>\n",
       "      <th>thriller</th>\n",
       "      <th>western</th>\n",
       "      <th>accuracy</th>\n",
       "      <th>macro avg</th>\n",
       "      <th>weighted avg</th>\n",
       "    </tr>\n",
       "  </thead>\n",
       "  <tbody>\n",
       "    <tr>\n",
       "      <td>precision</td>\n",
       "      <td>0.898212</td>\n",
       "      <td>0.966245</td>\n",
       "      <td>0.852801</td>\n",
       "      <td>0.981982</td>\n",
       "      <td>0.781201</td>\n",
       "      <td>0.894550</td>\n",
       "      <td>0.919214</td>\n",
       "      <td>0.973970</td>\n",
       "      <td>0.931166</td>\n",
       "      <td>0.846283</td>\n",
       "      <td>0.911038</td>\n",
       "      <td>0.857481</td>\n",
       "    </tr>\n",
       "    <tr>\n",
       "      <td>recall</td>\n",
       "      <td>0.786747</td>\n",
       "      <td>0.691843</td>\n",
       "      <td>0.854993</td>\n",
       "      <td>0.664634</td>\n",
       "      <td>0.928117</td>\n",
       "      <td>0.898810</td>\n",
       "      <td>0.648690</td>\n",
       "      <td>0.655474</td>\n",
       "      <td>0.927619</td>\n",
       "      <td>0.846283</td>\n",
       "      <td>0.784103</td>\n",
       "      <td>0.846283</td>\n",
       "    </tr>\n",
       "    <tr>\n",
       "      <td>f1-score</td>\n",
       "      <td>0.838793</td>\n",
       "      <td>0.806338</td>\n",
       "      <td>0.853896</td>\n",
       "      <td>0.792727</td>\n",
       "      <td>0.848345</td>\n",
       "      <td>0.896675</td>\n",
       "      <td>0.760614</td>\n",
       "      <td>0.783595</td>\n",
       "      <td>0.929389</td>\n",
       "      <td>0.846283</td>\n",
       "      <td>0.834486</td>\n",
       "      <td>0.844310</td>\n",
       "    </tr>\n",
       "    <tr>\n",
       "      <td>support</td>\n",
       "      <td>830.000000</td>\n",
       "      <td>331.000000</td>\n",
       "      <td>2724.000000</td>\n",
       "      <td>328.000000</td>\n",
       "      <td>3770.000000</td>\n",
       "      <td>840.000000</td>\n",
       "      <td>649.000000</td>\n",
       "      <td>685.000000</td>\n",
       "      <td>525.000000</td>\n",
       "      <td>0.846283</td>\n",
       "      <td>10682.000000</td>\n",
       "      <td>10682.000000</td>\n",
       "    </tr>\n",
       "  </tbody>\n",
       "</table>\n",
       "</div>"
      ],
      "text/plain": [
       "               action   adventure       comedy       crime        drama  \\\n",
       "precision    0.898212    0.966245     0.852801    0.981982     0.781201   \n",
       "recall       0.786747    0.691843     0.854993    0.664634     0.928117   \n",
       "f1-score     0.838793    0.806338     0.853896    0.792727     0.848345   \n",
       "support    830.000000  331.000000  2724.000000  328.000000  3770.000000   \n",
       "\n",
       "               horror     romance    thriller     western  accuracy  \\\n",
       "precision    0.894550    0.919214    0.973970    0.931166  0.846283   \n",
       "recall       0.898810    0.648690    0.655474    0.927619  0.846283   \n",
       "f1-score     0.896675    0.760614    0.783595    0.929389  0.846283   \n",
       "support    840.000000  649.000000  685.000000  525.000000  0.846283   \n",
       "\n",
       "              macro avg  weighted avg  \n",
       "precision      0.911038      0.857481  \n",
       "recall         0.784103      0.846283  \n",
       "f1-score       0.834486      0.844310  \n",
       "support    10682.000000  10682.000000  "
      ]
     },
<<<<<<< HEAD
     "execution_count": 7,
=======
     "execution_count": 17,
>>>>>>> 27b6deaa522d9623aa415e58efe90daa932a6128
     "metadata": {},
     "output_type": "execute_result"
    }
   ],
   "source": [
    "y_preds = model_1_loaded.predict(X)\n",
    "print(metrics.accuracy_score(y,y_preds))\n",
    "metrics.f1_score(y,y_preds,average='weighted')\n",
    "pd.DataFrame(metrics.classification_report(y,y_preds,output_dict=True))"
   ]
  },
  {
   "cell_type": "code",
<<<<<<< HEAD
=======
   "execution_count": null,
   "metadata": {},
   "outputs": [],
   "source": [
    "X = text.pre_process(X)"
   ]
  },
  {
   "cell_type": "code",
>>>>>>> 27b6deaa522d9623aa415e58efe90daa932a6128
   "execution_count": 16,
   "metadata": {},
   "outputs": [
    {
     "name": "stdout",
     "output_type": "stream",
     "text": [
      "0.7475191911627036\n"
     ]
    },
    {
     "data": {
      "text/html": [
       "<div>\n",
       "<style scoped>\n",
       "    .dataframe tbody tr th:only-of-type {\n",
       "        vertical-align: middle;\n",
       "    }\n",
       "\n",
       "    .dataframe tbody tr th {\n",
       "        vertical-align: top;\n",
       "    }\n",
       "\n",
       "    .dataframe thead th {\n",
       "        text-align: right;\n",
       "    }\n",
       "</style>\n",
       "<table border=\"1\" class=\"dataframe\">\n",
       "  <thead>\n",
       "    <tr style=\"text-align: right;\">\n",
       "      <th></th>\n",
       "      <th>action</th>\n",
       "      <th>adventure</th>\n",
       "      <th>comedy</th>\n",
       "      <th>crime</th>\n",
       "      <th>drama</th>\n",
       "      <th>horror</th>\n",
       "      <th>romance</th>\n",
       "      <th>thriller</th>\n",
       "      <th>western</th>\n",
       "      <th>accuracy</th>\n",
       "      <th>macro avg</th>\n",
       "      <th>weighted avg</th>\n",
       "    </tr>\n",
       "  </thead>\n",
       "  <tbody>\n",
       "    <tr>\n",
       "      <td>precision</td>\n",
       "      <td>0.821975</td>\n",
       "      <td>0.813084</td>\n",
       "      <td>0.602517</td>\n",
       "      <td>0.757098</td>\n",
       "      <td>0.865336</td>\n",
       "      <td>0.910345</td>\n",
       "      <td>0.686854</td>\n",
       "      <td>0.850775</td>\n",
       "      <td>0.839733</td>\n",
       "      <td>0.747519</td>\n",
       "      <td>0.794191</td>\n",
       "      <td>0.780506</td>\n",
       "    </tr>\n",
       "    <tr>\n",
       "      <td>recall</td>\n",
       "      <td>0.712048</td>\n",
       "      <td>0.788520</td>\n",
       "      <td>0.896476</td>\n",
       "      <td>0.731707</td>\n",
       "      <td>0.632361</td>\n",
       "      <td>0.785714</td>\n",
       "      <td>0.716487</td>\n",
       "      <td>0.640876</td>\n",
       "      <td>0.958095</td>\n",
       "      <td>0.747519</td>\n",
       "      <td>0.762476</td>\n",
       "      <td>0.747519</td>\n",
       "    </tr>\n",
       "    <tr>\n",
       "      <td>f1-score</td>\n",
       "      <td>0.763073</td>\n",
       "      <td>0.800613</td>\n",
       "      <td>0.720673</td>\n",
       "      <td>0.744186</td>\n",
       "      <td>0.730728</td>\n",
       "      <td>0.843450</td>\n",
       "      <td>0.701357</td>\n",
       "      <td>0.731057</td>\n",
       "      <td>0.895018</td>\n",
       "      <td>0.747519</td>\n",
       "      <td>0.770017</td>\n",
       "      <td>0.748431</td>\n",
       "    </tr>\n",
       "    <tr>\n",
       "      <td>support</td>\n",
       "      <td>830.000000</td>\n",
       "      <td>331.000000</td>\n",
       "      <td>2724.000000</td>\n",
       "      <td>328.000000</td>\n",
       "      <td>3770.000000</td>\n",
       "      <td>840.000000</td>\n",
       "      <td>649.000000</td>\n",
       "      <td>685.000000</td>\n",
       "      <td>525.000000</td>\n",
       "      <td>0.747519</td>\n",
       "      <td>10682.000000</td>\n",
       "      <td>10682.000000</td>\n",
       "    </tr>\n",
       "  </tbody>\n",
       "</table>\n",
       "</div>"
      ],
      "text/plain": [
       "               action   adventure       comedy       crime        drama  \\\n",
       "precision    0.821975    0.813084     0.602517    0.757098     0.865336   \n",
       "recall       0.712048    0.788520     0.896476    0.731707     0.632361   \n",
       "f1-score     0.763073    0.800613     0.720673    0.744186     0.730728   \n",
       "support    830.000000  331.000000  2724.000000  328.000000  3770.000000   \n",
       "\n",
       "               horror     romance    thriller     western  accuracy  \\\n",
       "precision    0.910345    0.686854    0.850775    0.839733  0.747519   \n",
       "recall       0.785714    0.716487    0.640876    0.958095  0.747519   \n",
       "f1-score     0.843450    0.701357    0.731057    0.895018  0.747519   \n",
       "support    840.000000  649.000000  685.000000  525.000000  0.747519   \n",
       "\n",
       "              macro avg  weighted avg  \n",
       "precision      0.794191      0.780506  \n",
       "recall         0.762476      0.747519  \n",
       "f1-score       0.770017      0.748431  \n",
       "support    10682.000000  10682.000000  "
      ]
     },
     "execution_count": 16,
     "metadata": {},
     "output_type": "execute_result"
    }
   ],
   "source": [
    "y_preds = model_2_loaded.predict(X)\n",
    "print(metrics.accuracy_score(y,y_preds))\n",
    "metrics.f1_score(y,y_preds,average='weighted')\n",
    "pd.DataFrame(metrics.classification_report(y,y_preds,output_dict=True))"
   ]
  },
  {
   "cell_type": "code",
<<<<<<< HEAD
   "execution_count": 11,
   "metadata": {},
   "outputs": [
    {
     "name": "stderr",
     "output_type": "stream",
     "text": [
      "//anaconda3/lib/python3.7/site-packages/joblib/externals/loky/process_executor.py:706: UserWarning: A worker stopped while some jobs were given to the executor. This can be caused by a too short worker timeout or by a memory leak.\n",
      "  \"timeout or by a memory leak.\", UserWarning\n"
     ]
    },
    {
     "ename": "TypeError",
     "evalue": "iteration over a 0-d array",
     "output_type": "error",
     "traceback": [
      "\u001b[0;31m---------------------------------------------------------------------------\u001b[0m",
      "\u001b[0;31mTypeError\u001b[0m                                 Traceback (most recent call last)",
      "\u001b[0;32m<ipython-input-11-cc40f8897f4f>\u001b[0m in \u001b[0;36m<module>\u001b[0;34m\u001b[0m\n\u001b[1;32m      1\u001b[0m \u001b[0my_pred\u001b[0m \u001b[0;34m=\u001b[0m \u001b[0mcross_val_predict\u001b[0m\u001b[0;34m(\u001b[0m\u001b[0mmodel_1_loaded\u001b[0m\u001b[0;34m,\u001b[0m\u001b[0mX\u001b[0m\u001b[0;34m,\u001b[0m\u001b[0my\u001b[0m\u001b[0;34m,\u001b[0m\u001b[0mcv\u001b[0m\u001b[0;34m=\u001b[0m\u001b[0;36m3\u001b[0m\u001b[0;34m)\u001b[0m\u001b[0;34m\u001b[0m\u001b[0;34m\u001b[0m\u001b[0m\n\u001b[0;32m----> 2\u001b[0;31m \u001b[0mconf_matrix\u001b[0m \u001b[0;34m=\u001b[0m \u001b[0mmetrics\u001b[0m\u001b[0;34m.\u001b[0m\u001b[0mconfusion_matrix\u001b[0m\u001b[0;34m(\u001b[0m\u001b[0my\u001b[0m\u001b[0;34m,\u001b[0m\u001b[0my_pred\u001b[0m\u001b[0;34m,\u001b[0m\u001b[0mlabels\u001b[0m\u001b[0;34m=\u001b[0m\u001b[0mset\u001b[0m\u001b[0;34m(\u001b[0m\u001b[0my\u001b[0m\u001b[0;34m)\u001b[0m\u001b[0;34m)\u001b[0m\u001b[0;34m\u001b[0m\u001b[0;34m\u001b[0m\u001b[0m\n\u001b[0m",
      "\u001b[0;32m//anaconda3/lib/python3.7/site-packages/sklearn/metrics/_classification.py\u001b[0m in \u001b[0;36mconfusion_matrix\u001b[0;34m(y_true, y_pred, labels, sample_weight, normalize)\u001b[0m\n\u001b[1;32m    274\u001b[0m     \u001b[0;32melse\u001b[0m\u001b[0;34m:\u001b[0m\u001b[0;34m\u001b[0m\u001b[0;34m\u001b[0m\u001b[0m\n\u001b[1;32m    275\u001b[0m         \u001b[0mlabels\u001b[0m \u001b[0;34m=\u001b[0m \u001b[0mnp\u001b[0m\u001b[0;34m.\u001b[0m\u001b[0masarray\u001b[0m\u001b[0;34m(\u001b[0m\u001b[0mlabels\u001b[0m\u001b[0;34m)\u001b[0m\u001b[0;34m\u001b[0m\u001b[0;34m\u001b[0m\u001b[0m\n\u001b[0;32m--> 276\u001b[0;31m         \u001b[0;32mif\u001b[0m \u001b[0mnp\u001b[0m\u001b[0;34m.\u001b[0m\u001b[0mall\u001b[0m\u001b[0;34m(\u001b[0m\u001b[0;34m[\u001b[0m\u001b[0ml\u001b[0m \u001b[0;32mnot\u001b[0m \u001b[0;32min\u001b[0m \u001b[0my_true\u001b[0m \u001b[0;32mfor\u001b[0m \u001b[0ml\u001b[0m \u001b[0;32min\u001b[0m \u001b[0mlabels\u001b[0m\u001b[0;34m]\u001b[0m\u001b[0;34m)\u001b[0m\u001b[0;34m:\u001b[0m\u001b[0;34m\u001b[0m\u001b[0;34m\u001b[0m\u001b[0m\n\u001b[0m\u001b[1;32m    277\u001b[0m             \u001b[0;32mraise\u001b[0m \u001b[0mValueError\u001b[0m\u001b[0;34m(\u001b[0m\u001b[0;34m\"At least one label specified must be in y_true\"\u001b[0m\u001b[0;34m)\u001b[0m\u001b[0;34m\u001b[0m\u001b[0;34m\u001b[0m\u001b[0m\n\u001b[1;32m    278\u001b[0m \u001b[0;34m\u001b[0m\u001b[0m\n",
      "\u001b[0;31mTypeError\u001b[0m: iteration over a 0-d array"
     ]
    }
   ],
   "source": [
    "y_pred = cross_val_predict(model_1_loaded,X,y,cv=3)"
   ]
  },
  {
   "cell_type": "code",
   "execution_count": 84,
   "metadata": {},
   "outputs": [],
   "source": [
    "def model_performance(model,X,y):\n",
    "    \"\"\"\n",
    "    Take in a model, print a dataframe with peformance metrics for each class and a confusion matrix\n",
    "    \"\"\"\n",
    "    X_train, X_test, y_train, y_test = train_test_split(X, y, test_size=0.3, random_state=0)\n",
    "    \n",
    "    model.fit(X_train,y_train)\n",
    "    y_pred = model.predict(X_test)\n",
    "    \n",
    "    report = pd.DataFrame(metrics.classification_report(y_test,y_pred,output_dict=True))\n",
    "    \n",
    "    cm = confusion_matrix(y_test,y_pred)\n",
    "    classes = report.columns.to_list()\n",
    "    #print(cm)\n",
    "    fig = plt.figure(figsize=(21,13))\n",
    "    ax = fig.add_subplot(111)\n",
    "    cax = ax.matshow(cm,cmap=plt.cm.Blues)\n",
    "    plt.title('Confusion matrix',fontdict={'size':14})\n",
    "    fig.colorbar(cax)\n",
    "    ax.set_xticklabels([''] + classes,fontdict={'size':14})\n",
    "    ax.set_yticklabels([''] + classes,fontdict={'size':14})\n",
    "    plt.xlabel('Predicted',fontdict={'size':14})\n",
    "    plt.ylabel('True',fontdict={'size':14})\n",
    "    plt.grid(b=None)\n",
    "    fmt = 'd'\n",
    "    thresh = cm.max() / 2.\n",
    "    for i, j in itertools.product(range(cm.shape[0]), range(cm.shape[1])):\n",
    "        plt.text(j, i, format(cm[i, j], fmt),\n",
    "                 horizontalalignment=\"center\",\n",
    "                 fontdict={'size':14,'weight':'heavy'},\n",
    "                 color=\"white\" if cm[i, j] > thresh else \"black\")\n",
    "    plt.show()\n",
    "    return report"
   ]
  },
  {
   "cell_type": "code",
   "execution_count": 32,
   "metadata": {},
   "outputs": [
    {
     "data": {
      "image/png": "iVBORw0KGgoAAAANSUhEUgAAA6oAAAMXCAYAAAAzKKi1AAAABHNCSVQICAgIfAhkiAAAAAlwSFlzAAALEgAACxIB0t1+/AAAADh0RVh0U29mdHdhcmUAbWF0cGxvdGxpYiB2ZXJzaW9uMy4xLjEsIGh0dHA6Ly9tYXRwbG90bGliLm9yZy8QZhcZAAAgAElEQVR4nOzdd3xUVfrH8c9DC1KV3rs0UUA6KIqKvcsqYgfBuq7rqvtT1xV1dXXtBdtaUBesKK4KYqFXpbgKQTqEgPSaQAiQ8/vj3gyTkEaA3AN836/XvDJz2zzz5N4788w594w55xARERERERHxRbGoAxARERERERGJp0JVREREREREvKJCVURERERERLyiQlVERERERES8okJVREREREREvKJCVURERERERLyiQlVERLxnZgPNbLWZOTO7/gBsr0G4rfYHIDzvmdlYM3s56jhEREQKyvQ7qiIiUhhmVh24HzgfqAOsA34BXnLOjTiAz9MK+BW4FJgCbHbObd/PbRYHqgLrnHO79j/KomVmDYAlQAfn3PQCLF8J2Omc23qQQxMRETkgSkQdgIiIHHrCQmkSsBW4D/gfQS+d04HXgHoH8OmahH+HuwP07apzbjew6kBsy2dmVso5l+6c2xB1LCIiIvtCXX9FRKQwXgEMaO+c+9g5N885N9c59zLQOnMhM6tnZp+b2dbw9pmZ1YmbP9DMZptZbzNbFC4z3MyqZM4HPg8XzzAzF04fbGZfxQeUua24x8eb2Q9mtiXc7v/MrEc4b6+uv2bW3cymmVla2M34OTMrFTd/rJm9YmaPm9k6M1tjZk+bWa7vpWZ2vZmlmNk5ZvabmW0zs/+aWUUz62VmC8xss5m9b2ZHxa13tplNMLONZrbBzEaZWYu4TS8J//4Uvo6x8Xkxs7+aWTKQHBf7y+H9ZmaWambXZnu+dDPrnNtrERERKUoqVEVEZJ+E3UjPBl52zqVkn++c2xguZ8BwoDpwGtADqAUMD+dlagBcAVwCnAm0BR4L5z0N9A/v1wxvBTUU+B3oGG5zIJCWy2uqDYwEZoXL9gOuBP6ZbdGrgF1AV+B24M4w9rwkAH8J1z0daA98ClwHXAZcTNB9+ta4dcoCz4exnwpsBr6MK5w7hn/PJsjJpXHrngKcEM47PXswzrl5wJ+Bl82ssZlVBQYDjznnpubzWkRERIqEuv6KiMi+akLQmjo3n+XOIGhdbeycWwpgZn2AhQQF1PfhciWA651zm8Nl3gBuAHDOpZjZpvD+vnbVrQ887Zz7LXy8MI9lbyUoam91zmUAc83s/4DXzexB59y2cLlE59zfw/vzzax/+Fo+yGPbJYDbwgIRMxtKUChWd86tC6d9QVDIPxO+1mHxGzCzG4AtBAXqRGBtOGt9DnlJA/o653bkFpBz7g0zOwcYAqwHFgH/yOM1iIiIFCm1qIqIyL6y/BcBoAWwMrNIBXDOLQZWAi3jlluWWaSGVgLV9jdI4FngTTMbbWYPmFnzfGKdEhapmSYCpdhzjSwEg0XFK0isOzKL1NBqYFVmkRo3LbadsKVzaNgdeks4vxgFu/Z3dl5FapwbCV5bd+Dq8LpdERERL6hQFRGRfbUAcATFXV4sXC4n8dN35jAvv/enDPYumEtm2YhzAwkK4uEEXXV/MbO+EcSafVRhV4DtfEkwKvFNQCeC7si7CArn/KQWYBmAVkBFoDRQu4DriIiIFAkVqiIisk/CEWRHAbebWbns883s6PBuIlA7HCE4c14jgutUE/czjLXsfb1qmxxiXeCce9E5dx7wFkErYk4SgS7ZBkY6CUgn6BZbZMysMsGXAI875753zs0FypP1cp308G/xQj7H0cB7BNcADwLeN7MKhY9aRETkwFKhKiIihXErQSvkdDP7QziSbHMzu4U93WO/J/jZmiFm1i4cYXcIMBMYvZ/PPxpoa2Z9zayJmd0LdMucaWZHmdkgMzs1HOG3E0HhmVuB/ApBAf2KmbUws/OAJwgGjNqWyzoHy0aC36TtH762Uwh+8ie+ZXYNsB04y8yqm1nFfXyO18Ln+DvwV4KfGRq035GLiIgcICpURURknznnlgAnAt8BTxIUp6OBCwm6qxL+5unFBK2fY4ExBL9devH+/h6qc24U8DDB6MAzCEYOfiVukd3AMcC7wDyCn7iZAtyVy/ZWAOcQdLH9GXibYICk+/cnzsIIr5O9gmDk3tkEBeSDwI64ZXYBdxC0EK8Evijo9s3sGoL/01XOuZ3h9ax9gF5mduWBeh0iIiL7ww7Qb6eLiIiIiIiIHBBqURURERERERGvqFAVERERERERr6hQFREREREREa+oUBURERERERGvqFAVERERERERr6hQFREREREREa+oUBURERERERGvqFAVERERERERr6hQFREREREREa+oUBURERERERGvqFAVERERERERr6hQFREREREREa+oUBURERERERGvqFAVERERERERr6hQFREREREREa+oUBURERERERGvqFAVERERERERr6hQFREREREREa+oUBURERERERGvqFAVERERERERr6hQPcKZ2VdmNjjqOOTwZ2anmpkzsyqFWHegmc0u6ONDmZlVCfN0atSxyB5mttTM7o46Dh/tz7EtB4eZ9TIzF3Uc+TGzsWb2ctRxiIifVKiKyEFxgD+APA2ccoC2JTk4nIr9/ZFHHjoArxR1PIeIyUBNYH3UgYjIvtOXTeIrFaqSKzMrFXUMUThSX7ePzKyYmRV3zqU45w7qh2D93w+cwzGXzrm1zrltUcfhGzMr6ZxLd86tcs5534Inh7fM94wcphfqnJTb9iR3ZlYy6hjk8KFC9QhiZmXMbLCZpZjZajO7P9v8pWFrwttmtgkYEk5/wszmmdn2cJl/mVnpuPUGmtlsM7sunJ9iZu+YWSkzu9XMlpvZejN71syKxa13tZn9ZGZbzWyNmX1iZrWLLCF74hhrZq+a2dNmthaYZGb1zOzzMLatZvaZmdU52K857lvN081smpltM7PpZnZitpg7m9loM0s1s81m9oOZ1QrnmZnda2aLwv/Zr2Z2dRGkMj6+wQQtoLeFr8cBDcLZrXN7bWZ2fZjLc8NWrXSgRWFa+8zsBjNLNLM0M5tvZn/O9r9wZnZb+L9NBR7fz5edWxxnm9kEM9toZhvMbJSZtYib38HMZoRxzgI6xc0rZmbJZvbHbNtsGsbfNnxc0czeCPeprWY2zszaxy2fmdfTw/021czGmFnDzPnAQ8Bxmf+vcFpmnnple/4s3WBzy6WZtTSzr+P29w/MrMaBym1uCpDzWmY2JDxGt5nZz2bWI588ZH/NBT1H9A6Pxa1mNtwOgRaL8BzyFzNbYGY7wn3wn2bWIMzJlRacf7YDN1m21pi4/e0cM/stzPF/w/20V7jdzWb2vpkdle15Iz135Se33ITzjjez78PYN1jwflsxbt3BFlxu81czWxXm4AkLjvOB4TGyysz+mu058zy+w2WuNbNlYa6/AqrHzWtgZrtzWKe/ma2z6L9YKmZmj4exrLHgvbhYGOMxZvZueCxvD/N7XOaKlvt7Rnyuk4Hk/dlekWZjTyznhP/vEuHjY8Pj7NW4ZR4zs+/C+3meb8P98wcz2xIu8z8LznsNgDHhYmvD5xgcrpPnMWm5nxPyfM8RKTDnnG5HyI2g29oK4CygFfAJsAUYHM5fGj6+F2gCHBtOfxDoRlBonAskAY/GbXcgkAJ8Fm73rPDxSOAdgpP8JcBO4LK49fqG22sEdCQ4UY6PIC9jga3AM0DzMN6ZBN3ZOgDtganAdMAO5msGTgUc8CPQI4xnFDA37rlbA9uBN4A24XPdBNQL5z8GzAPOBhoCfYBU4LwizGnFMH9vAzXC2+kFeG3XA7vCdbsBTYHyYb5nZ9vn8nrcH/gd6BXm4AJgFXB73DIOWAPcGP4/Gh6kXFwW3o4FTgA+BhYCpYCyYQyfxO1Hc8PYTg3XfwqYmm2bDwNzwvsGTAS+DvepJsCjBMdyzbi87gS+D5c5AZgFjArnH0XQvfq3uP/XUXF56pXt+ZcCd+eVS4KuoOuAJ8N99ATgy/D/X+wg73/55XwBMAnoDjQGLg33ybzyEHvNYc4Leo74PIyhC7AMeL2ojsP9yN8/gU0E56smYey3ErwHuDAXmcdWHfact6rksL+1C9dfCXwX7gMnhPneCPwl7nkjP3ftR27KELy/DgeOJ/iibj4wLG7dwQTH5WsE578rgQzgm3C7TYGbw1y224fju1O4nQfCbdxE0A3bxT33KOCVbK9lCvBcxPkcC2wGHgljv5zgPeDKcP4XBMdj9zCv/wWWs+e4vJ6c3zMGE7yvDyE4tx6/P9uLKDflwuOoc/i4P7AW+C1umUnh/z3f8y3wK/CfcN9rQvAZpQtQnOAc6ICWBOe9igU5Jsn9nHA9ebzn6KZbQW+RB6BbEf2jgxPeDuCqbNM2kbVQ/bIA27oZWBj3eCBB4VQxbtqn4Qm1VNy0scDLeWy3eXjCq1PEuRkL/BL3uCewG2gQN60RwQeBMw7ma2bPB76z4pbplm2ZIWQrXOKWLRvGdXK26c8DIyLI68txjwvy2q4n7kNatn1sXwrVJOCabNu4E0iMe+yAl4oyJ3H/o93AScCA8BgsFzf/arIWqieEj5vELbMAuC+8fxpBQXRUtuf5Gbg3W16bxc2/iqC1IPNDTJYcZstTQQrVl7It8wjwQ7Zpx4TLdoww5/0JPsBWyWXZ3PIQe80U/ByRRtZzxAPEnTt9vBG8L6QBN+cwr0H4//tLtumnsnehmn1/ezrMWZW4aYOBr+L+R16cuwqZm/4EBVf5uGmZeWkS93qXA8XjlplO3PtPDvtaQY7vocB32ea/SdZCtRfBFwOlw8ctwthaRZzTscCUbNO+C+M/Noyxe9y8imGeb8y2r2V/zxhM8H6cEDet0NuLMD/T2HOuH0LQ42M7QWFahuAc3o0CnG8Jvty4LpfnyXIMh9PyPSbJ/ZyQmcdc33N0060gN3X9PXI0JmhNmJI5wTmXQvANW7zp2Ve0oKvWxLBLUgrwHFAv22JJzrnNcY9XA/Odc+nZplWL2+6JZvZF2F1pa9xzZ992UZgRd78FsNI5tzRzgnNuMUGLQMu45Q7ma/4l7v7K8G/mdtoCP+TyOloCpYFvwm43KeH/7BaCfcAHeb02CL7N/rmwGzezqkBd4PVsOXiCvXOw1/5+oJlZYzMbGnad2kKwTxQj+J+3IPiQmhK3ypT49Z1zvxAcp33C7XUieB1Dw0XaEXxgWZvt9bYi6+vd4ZybF/d4JVASOPoAvdTsuWwHdM8W0/Jw3kHdF/PJeVuCnK/bj6co6DliWbZzxEqy7us+agkkkPs5Bgp23GTf31YDq7LlPf78eCicu/LKTeaxvDVu2mSCLy/i94lE59zuuMer2ft9OD4vBTm+W5DtvJHD4y8IioRLw8d9gR+dcz4MoPZLtseZx0kLgvzFf27ZTJCv+Jzm9p4x2zm3I+7x/m4vCmMJikgIWulHErSSnkpQoO4MHxfkfPss8GbYRfcBM2uez3PvyzGZ0znhYL/nyBGgRNQBSJGxAi6XmmUls87AhwRdDf9M0PpzIcG34/F2ZnvscplWPNxuWYKuSN8D1xB0G6wCTCAoqIta/Os2glhzEj/9YL7mndm2AXuuKc/rf5m5zAUErYq5bTNKeb02CN7c4j/I7avMbd1M8EExL6n5zD8QviToEnhT+HcXkEjwPy/ocTmE4IPlIwTfSk9wzi0L5xUj+GB7cg7rbYm7vyvbvJxynxOXQ5w5DZaRPZfFCLor5vSTLqvzec79dSBynpf9OUf4/gVxQfJTkOMmp/0tr3wcCueuvHJzoN834vOS3/Gd7//MObfTzN4D+prZxwTvQX/Pb70iktvrz+t1xec0t/eM7Pvp/m4vCmMJxnpoSdCleUY4rQdBi/Hk8H+b7/nWOTfQzIYA5xBcZvKQmd3snHs7l+fel2Myp3NCYd9zRGJUqB45FhJe6wAshljh1ApYlMd63YAVzrlHMyeYWf0DEE9zgiLtfufcknC7l+a9SpFJBGqbWYPMFhMzawTUCucV1oF6zTMJuoPlJJGgi3d959zoQkV54KQTFulFyTm32sxWAI2dc+8V9fPHM7PKBN/i3+acGxNOO5E9595E4DozK+ucy3yj75zDpoYAj4dfHF0B/C1u3kyCgVMywla9wsrt/7WWoJsZYfzV4x/nYSbB9WbLnHNFVmgUIOczgavNrEouraoF2W8P1jnCB5nnkNMJupgX9fP6cO7KTV65SSQoAsvHtap2JfhQPnc/nrMgx3cie583cjqP/DuM5VaCoufD/YirKCQS5K8LMB7AzCoQXFv6jgfbKwoTCFrx7wUmOud2m9lYgjEq1gAjwuUKdL51zi0g2HdfDAdlupFgLInMnmDx575D4ZiUw5y+1ThChF0L3wKeNLOeFoxy9zb5fyCbT/CB7Coza2RmtxAMALG/kghOgLeH2z2PYIAIH3wP/A8YYmbtLBgpcQjBG8H+nKwP1Gt+CmhrwSiQrc2smZndaGb1wg9ITwNPm1lfM2tiZm3M7GYzG7AfsRfGUqBjOCpgFYr2fDMQuNeCkX6bmVkrC0bFvK8IY4DgmrB1QP/wf3EKwUAqmd80Dw3vv21mx5lZT4LrGLNwziUTfLB6jeCaqk/iZn9PMKDGFxaMEtnQzLqY2cNmllMrTG6WAvXD7ulVzCwhnD6a4Bv99haMMjyY4Dq9/AwKY/3IzDqF+/wZ4X5bfh/i2lcFyfkaYLiZnRzm60Iz6xHOX0rOeYh3sM4RkQvPIS8A/7Rg5OzGZtYxPPcf7Of15dyVo3xyM4SgVek9C0ZX7Q68DnzmnFu4H09bkOP7ReAMM7vPgpFh+xMMlJM9/vkEAzM9BXzqnNuSfRmfhEXVFwSXcZxsZscTDAa0hT2XPkS2vaIQfnabSTB2wZhw8hSCy1s6EbSuQj7nWzM7yswGWTBCdwMLLiE5iT1frC0jaPE8z8yqmlm5Q+GYlMOfCtUjy90EJ7rPw7+zCb9VzI1z7kuCN7XnCa4j6ckB6C7knFsLXAdcTHCifAi4a3+3eyA45xxBXGsJ3gTGEIwYe3E4r7DbPSCv2Tn3M3AGQQvtVILBFnqzpyvOgwSF2t3AHIKBKS4DlhQ29kJ6muBb2kSCXBbZtcfOuTcJuspeQ1BQTCAYuKhIc+CcyyBoAT2B4HgbRPD/2RHOTwHOJxjkYyZBzv6a48bgfYIRn792zm2Kew5HMJL0aIIWk3kEo9w2Y881wAUxjODb+R8I/l+ZX0j9haAXxliCAcPeJCj08uScW0nQIyNzVNM5BK9/R3g7KAqQ81SCa71WEHQRnkNwaUPmsZ1bHuKf46CcIzxyH8HooQ8StMANIxjJ82Dz5dyVlxxz44Lf2D0LqEBwzeAXBAVF3/15soIc3865qUA/gmsHfyG4DnVgLpt8i6AL/Fv7E1cRuoEgn/8N/5YBznbObfdke0VhDEGjwlgA51wawXv/DoLXUJDz7W6CwZXeJdiHPifYP+8K119B8JnkMYKuwi+Hz30oHJNyGLPD4z1VRERERPJiwW+09nPONY06FhGR/OgaVREREZHDmJmVI+iF8yeCVjMREe+p66+IiIjI4e1lgmtdJxFcOysi4j11/RURERERERGvqEVVREREREREvKJCVURERERERLyiQlX2i35Lq3CUt8JT7gpHeSs85a5wlLfCU+4KR3krPOVOfKRCVfaXTmyFo7wVnnJXOMpb4Sl3haO8FZ5yVzjKW+Epd+IdFaoiIiIiIiLiFY3667lKlau4OvXqRx1Grtb8voJqNWtHHcZeShazqEPI04oVydSuXSfqMHKU4fkp4feVydSs5V/uPN/lvN7ndnm+063+fQXVPTzPART3eMdbuSKZWp7uc75T7gpHeSs8n3M3a+aMdc65qlHHURSKV6jv3K7tUYcBgNu+dpRz7uwoYygR5ZNL/urUq8+I0ZOjDiNXc2dOpsWJXaMOYy9VyidEHUKepkwcS5eTTo06jBylpe+OOoQ8zZg6gXadT446jL2ULlU86hDy5PM+tzE1PeoQ8jR7+iRate8WdRg5Kpfg79v4T1PG06FL96jDyFGJ4v4W+ABTJ46j80mnRB3GIUd5Kzyfc1emVLFlUcdQVNyu7SQ0uzzqMABI+3lQlahjUNdfERERERER8Yq/X8WKiIiIiIgcMQxM7YiZlAkRERERERHxigpVERERERER8Yq6/oqIiIiIiETNAPN7sLeipBZVERERERER8YoKVREREREREfGKuv6KiIiIiIj4QKP+xigTIiIiIiIi4hUVqiIiIiIiIuIVdf0VERERERHxgUb9jVGLqoiIiIiIiHhFLaoiIiIiIiKRMw2mFEeZEBEREREREa+oUBURERERERGvqOuviIiIiIiIDzSYUoxaVEVERERERMQrKlRFRERERETEK+r6KyIiIiIiEjVDo/7GUSZERERERETEKypURURERERExCvq+isiIiIiIhI506i/cdSiKiIiIiIiIl5Ri6qIiIiIiIgPNJhSjDIhIiIiIiIiXlGhKiIiIiIiIl5R118REREREREfaDClGLWoioiIiIiIiFdUqEqetqWm8thD99O9Qyua1qlEi3pVOaNbO1585gl2794NwIrkJO7+4010ad2UxjUq0K1tc556bCDp6ekRR++Xd956k26d2lOrWiXO7NmThvVqccmF5zFx4oSoQ/PKe4PfosdJnWhYpyrVjj6KFo3rcvmlFzB5UpCnUd98wzFlS+R6G/r+uxG/An9MnDCeSy86n/q1q3Najx4cVdL4xyMDow7LK8uXLaXW0Qm53u685UYALjuvZ47zLzq7R8SvIDovPf8s5599Bs0a1aVKxaNo3rge1/a5nDmzf40tc89df6Jd65bUqlqRaseUpVWzRtx2840kLVsWYeT+WbZ0KWVKFYvdTjutR5bHA/rdEHWIh4SBAwfGctbnij9EHY7X/vHIwFz3uV27dkUdngigrr+Sj/vv/iPDPhoKQNNmLUhNTWHe3Dk89dgcihUrRrvWrbiqz5WsXbOao8qUoUnT5ixaMI8Xn3mChfPn8fq7H0T8CvwxZfIkkpOXU7duPVJStpKUlMQ3I0cwdsxofv51LvUbNIg6RC9MmzKZFcnLqVOnHhkZGcyfN5fvRo1kwrgxTJs5m4pHV6R9h45Z1vn9999ZkbwcgOo1akQRtpdmzZzJt6O+ocmxx7JmzZqow/FSqYQETmyfdX8KznOJAFTLtj/Vb9CQylWqxh43a97i4AfpqddffZmkpGXUrl2HevUbsHDBfIZ/Pozvvv2GqTN+AWDUyK/ZvXs3TY5typYtW1i8aCHvv/sOU6dMZsb/EiN+Bf4olZBAh46dYo9Ttm7BrBiJiXMAqKHzWr7ee/cdxo8fF3UYh5wqVarQsFFjUrZuoVz5CgCYup5GyDTqbxwVqpKnaZMnAtC9xxkMGfYV6enptG5Sm5SUraxYnkTqpvWsXbMagGFf/8DxrdsybvR3XN3rAkZ8+Tkzf5rGiR065fUUR4wXB71K6dKlAZgycSzz5i/ilptuJC0tjZkzZ6hQDT3zwqBYngDef/dt7rh1AGlpafw8ayadO3fhtjvvzbLOeWf1YEXycpo1b8FpZ5xZ1CF7q8/V19Cv/wAyMjKoekz5qMPxUvUaNfnq+6y9Gp56/BHmzU2kZMmSXNfvJjauSorNu/Oe+7niqmuLOkwvXXtDP6648irq128AwMsvPMf9/3c3qampfPnFcDp1OJEfZ83Ocjz373stH30whAXz57F+/XoqV64cUfR+qVmzJuMmTok9njpxHN/9MJrExDmULFmSATffGmF0/lu8aBF3//lPtGx5HJu3bGZFcnLUIR0yzj7nPN546x2mThxH55NOiTockSxUskueOnbpBsD4Md9zepe2dG9/HCkpW2nbriO3/fkenMuILVusWLA7xX8TN37M90UbsMdKly7NxAnj6d6tM/369uWO22+JTT+xXfuIo/NH6dKlmTRxPD1P7UrXDm34y59ui01vc2K7vZaf/tM0Jofdp++48259ExyncuXKlClTJuowDinbtm1j8JuvAXBJr97UrlM3y/yB999Dg2rl6dy6Gff86ZbYF3VHonv/74FYkQrQ7eTusfsJCQlAcNwOeukFepzchTatmvHRB0MAaN6iJZUqVSrSeA8laWlpvPHaKwBc0bsPderWzWeNI9euXbu44bqrKVasGA888ADFixePOqRDyvDPh1GpQhl69bqMSy46n59nzYo6JJGYI6pQNbOvzGxw1HEcSp58/lUuu6IPAPPnzWVF8nJKlixJi+NaUalSFTp26ky5ckFLzaXnnsbZp3Si71W9Yuuv+n1lJHH7asOGDfz04zSWLFnCzp07qVatGl+O/Jb69etHHZpXNm3cyPSffmRu4mx27txJ1arVGPbfkdSrt3eeXnj2KQBq1arNH3r3KepQ5TAz9L232bhhPWbGLXfclWVe6aOOokatWlSuUpWkZUsZ8u7bXNCzO9tSUyOK1i+vv/oyAJUqV+aSS/e8DyQtW8qM6T+yeNFCANqe2I4vvhqlL5XyMGLE16xfH+yHd951d9TheO2xRx/mpx+n8fyLg6hZs2bU4RxSihcvTvUaNahfvwEbNmxg1MgR9OjeVcVqlIxg1F8fbh44ogpV2XdvvfYSwz4aStt2HZn52zLGTvuFo4+pxND33uah+/5CzZo1+WD4SE4+9XRKlizFiuTlnHvBxVSseDQAJUqWjPgV+OXCiy5mW3oGnw4bxs233s6aNWu4/po+JCUl5b/yEeS8Cy5iQ8pOfluUTP+bb2Pt2jX0v+Eali/PmqeFC+Yz4qv/AnDrH++kpPY32Q+7d+/m36+8CMAZZ51LsxYtY/MGPv4Uc5euZsyUWUyfs4g/3hV0P09atpSRX30RSby+SE9PZ0C/6xj6n/eoUKECH3z0GVWq7rmO98mnn2NjSjrTf57DSSefwqyZM+jf99rYgHyS1e7du/n0008BOOfc82l53HERR+SvGTOm8/S/nuDKPlfTu89VUYdzSLmidx+WrVjNr4nzmfVrIk8++SQAO3bs4PXXBkUcnUhAhWrIzK2QSn4AACAASURBVEpFHYNvtm/bxtOPPwzAuRdcTNVq1Wl8bFM6dT0ZgInjRgPQ5sT2DP3sa2Yv/p1fF63kvoceY/PmTQA0ObZZNMF7zMyoVKkSDz/6GAArkpN5843XIo7KP2ZG9Ro1+NtDjwKwckUy77z5epZlXn7hWTIyMqh49NFc17d/FGHKYeSLzz5heVIwGu1td2ZtxTq+dZtYd1Yz45JevWPzMgfyOhKtX7eOC87pyYdD/0ONGjX5etRounQ7aa/lihcvTtNmzbn9jjsBGD9uDGPH/FDU4R4SPv34I1atWgXAX+65N5+lj2yJc2aze/duPv/sU6oeU55zzz2H5eEXv1/+dzhVjynP5s2bI47ST8c2bZql+32HDh1j14wnLz9yz2nil8O2UDWzMmY22MxSzGy1md2fbf5SMxtoZm+b2SZgSDj9CTObZ2bbw2X+ZWal49YbaGazzey6cH6Kmb1jZqXM7FYzW25m683sWbM9w3aZ2dVm9pOZbTWzNWb2iZnVLrKEFML27dtiQ5T/b9YMIPjmfF7ibADKlCkLwI9TJ8WW275tG3+7N/ggUqpUKc4+/6KiDttL27Zt4+03/8327dtj077+6svY/VR1HQSCPL37zptZ8vTNiK/2zE/dFru/etUqPhz6PgA3DriFcuXKFV2gclh69cVnAejQuSsdO3eNTd+4cSOvv/w8KVu3xqb997NPYvfr5NAl/Ugw77e59OjehSmTJ3JC6zaMmTCV1m3axuYvXryYb0eNxDkHQEZGBt+OGhmbry7TOXvu2acB6NK1G126dos4mkNDWloaqamppKWlxfa33bt3k5qaGnssWT3z1JOxoh5g+vTprF+/HoB6uhwpWlbMj5sH7HA9gM3sFeAioC+wAngIOAv4zDl3vZktBSoB/wA+I8jFAjN7EBgdrtMSeA141zn3YLjdgcDdwLfA34HawDBgArAK+BfQHPgY6O2cGxau1zec/xtQBXgSKO6c2zP6RA5OaNvOjRg9+QBkpHB6nX9GbOTfeg0akpaWxppVvwNw/8DHOPWkLtx5550kJy2jVp26JCctIyUl+DD36JPPcX3/WyKJu0r5hEieNzebNm2iZtVjSEhIoFHjxmzetImVK4Prd0uWLMkPYyfSoWPHfLZSNNLSo+uOt3nTJhrUrkJCQgINGzVmx44dLFm8CAjyNPL7cbBrB+06n8zDf7+f55/5F6VLl+aXuYupWq1aZHEDlC7l3wAewz//jAfuuxfnHEsWLwbgmGOO4ZhKlejQoROD3x8ScYSBjanR/+by2B++pc9lFwAw+INhnHnO+bF53381jGuv7kOJEiVo0Kgx27ZtY2XYinpss+aMGjcty8i2RalcQnSD97dr3ZIF8+cB0PK4VrEvLwGuu6EvG9at4aG/P0j58uWp36Aha9asZs3qYPCpOnXqMm3mr5QvH81o1CWK+3H9VXbffTuKi84/B4BPPvuC886/IOKIDi1TJ47j+huuJ2nZMi6+5DKGfvRJ/isdoZof25DlSUnUrVePMkeVYd6833DOUbZsWcZPmkaLli3z30gRKVOq2Azn3BEx6mSx8rVcQtsBUYcBQNqEhyPP+2H58zRmVg7oB/R1zo0Kp90AZB+vfJxz7l/xE5xzj8Y9XGpmjxMUpg/GTS8O3OCc2wzMNrNvgFOA2s65dGCumU0CehAUsTjn3o5bf7GZ3RIuV8c5lyUuMxsADACoXr06c2dGV6jee889fPxhHSZNmsjqVb9TskQJmjZtxvkXXMgp3TqTti2F41q2YP26NSxaMI+SJUvSunUbev3hcjq1ax1Z7L59CElPT+eMnj2Zm5jIksWL2blzJ5UrV6Zly5b07t2bXenbmDJxbNRhApCRkf8yB0t6ejpnnNGTuXMTWbpkT55atGzJFVf0hl072JaawoTRo3jz9WBEzDN6nknS4nkkLZ4XXeBAMT++fMxi1owfWbxoUZZpGzduZOPGjZQvV86bfW7X7ui/MP3XP/4OQL169alZ5WhmT58Um1e6VAmu7HMVM2dMZ+XK30lP30HdevXo2rUbl1/Rm4WzZ0QVNsWLRXeu2xJe4gFBF8x4LVs0p2PHDnTp0pUFC+Yz77e5ANSuXZt27drR56qr+W12dAO2+PUOscfAB4POX3Xr1qVSxfJMnajfBd0XKSkp7EhLA2DD+rXKXx56XXYZ48aNY+nSpfy+ciVVq1blhBNO4Oqrr2HzBuUuOvod1XiHZYuqmbUGfgYaO+cWx02fACyKa1F9xzn3cLZ1ewF3Ak2AcgRFaXHnXKlw/kDgSudcs7h1BgFtnHPd4qZ9RJDfy8PHJxK06rYhaMk1oCzQzTmXazUXdYtqfubOnEyLE7vmv2AR861FNbspE8fS5aRTow4jR1G2qBbEjKkTaNf55KjD2IuPLarxfN7nfGhRzcvs6ZNo1d7PLphRtqjm56cp4+nQJc9OQ5Hx7cvM7PSbloWjvBWez7k7slpUa7uEE2+KOgwA0sY/FHneD9eSvaDvQFkukDGzzsCHwCjgAqAt8Dcg+1CiO7M9drlMKxZut2y4zW3ANUAH4OxwOQ3iJCIiIiIiEsffr2L3z0KCwrEzsBhixWIrYFEe63UDVsR3/zWzA3FFeXOC61Lvd84tCbd76QHYroiIiIiIHC4ivKTDN4dloeqcSzGzt4AnzWwtsJJg4KP8+ubNB2qb2VXAFILBl648ACElATuA28Nuwi2AR/NeRURERERE5Mh0uHb9hWAApDHA5+Hf2cD4vFZwzn0JPAU8D/wC9CQocPeLc24tcB1wMZBIcK3qXfu7XRERERERkcPRYdmiCuCcSwWuDW85zW+Qy/T7gPuyTX41bv5AYGC2dW7PYTu9sz3+CPgo22Jq2xcRERERkaAy0Ki/McqEiIiIiIiIeEWFqoiIiIiIiHjlsO36KyIiIiIickgxXRmYSS2qIiIiIiIi4hW1qIqIiIiIiETONJhSHGVCREREREREvKJCVURERERERLyirr8iIiIiIiI+0GBKMWpRFREREREREa+oUBURERERERGvqOuviIiIiIiIDzTqb4wyISIiIiIiIl5RoSoiIiIiIiJeUddfERERERGRqJlp1N84alEVERERERERr6hFVURERERExAcaTClGmRARERERERGvqFAVERERERERr6jrr4iIiIiIiA80mFKMWlRFRERERETEKypURURERERExCvq+isiIiIiIhI506i/cZQJERERERER8YoKVREREREREfGKuv6KiIiIiIj4QKP+xqhFVURERERERLyiFlUREREREZGoGRpMKY4yISIiIiIiIl5RoSoiIiIiIiJeUddfERERERGRyOl3VOMpEyIiIiIiIrJPzOzPZjbHzGab2QdmVtrMGprZNDNbYGYfmVmpcNmE8PHCcH6D/LavQlVEREREREQKzMxqA3cA7Z1zrYDiQG/gSeA559yxwEagX7hKP2Cjc64J8Fy4XJ7U9ddzJYsZVconRB1GrkoU9zO+nbsyog4hT875G2OxYn7/fpeZ/zHKvjmqVPGoQ8hTsWLmbYwlivt7LBj+xme+/06hHQIx+sjjvDnnog5BDhWe7sO5KAEcZWY7gTLA78BpQJ9w/rvAQOBV4KLwPsCnwMtmZi6Pg0MtqiIiIiIiIhKviplNj7sNiJ/pnFsBPA0kERSom4EZwCbn3K5wsWSgdni/NrA8XHdXuHzlvAJQi6qIiIiIiIjEW+eca5/bTDM7hqCVtCGwCfgEOCeHRTNbTHNqKs6zq4EKVRERERERER8cOqP+ngEscc6tBTCzz4CuwNFmViJsNa0DrAyXTwbqAslmVgKoCGzI6wkOmUyIiIiIiIiIF5KAzmZWxoKLw08HEoExQK9wmeuAL8L7/w0fE84fndf1qaAWVRERERERET8cIoMpOeemmdmnwExgFzALeAP4GvjQzP4RTnsrXOUt4H0zW0jQkto7v+dQoSoiIiIiIiL7xDn3EPBQtsmLgY45LJsG/GFftq+uvyIiIiIiIuIVtaiKiIiIiIhEzexQGkzpoFMmRERERERExCsqVEVERERERMQr6vorIiIiIiLig0Nk1N+ioBZVERERERER8YoKVREREREREfGKuv6KiIiIiIh4wNT1N0YtqiIiIiIiIuIVtaiKiIiIiIhEzFCLajy1qIqIiIiIiIhXVKiKiIiIiIiIV9T1V0REREREJGoW3gRQi6qIiIiIiIh4RoWqiIiIiIiIeEVdf0VERERERCJnGvU3jlpURURERERExCsqVEVERERERMQr6vorIiIiIiLiAXX93UMtqiIiIiIiIuIVFaoiIiIiIiLiFXX9FRERERER8YC6/u6hFlURERERERHxigpV2WfvvPUm3Tq1p1a1SpzZsycN69XikgvPY+LECVGH5oWXnn+W888+g2aN6lKl4lE0b1yPa/tczpzZv8aWefmlF2nXuiW1qlak2jFladWsEbfdfCNJy5ZFGHn0MnPXvFFdqlY8ihbZcjfk/cGcfloPKh5VPMfbkPcHR/sCPPTxRx/SpcOJnH3WWdSqVokrr+jFooULow7LK++98xY9unWiYe2qVKt4FC0a1eXySy5g8qS9z2lbt26l7XFNOaZMCY4pU4I3Xh0UQcR+WrZ0KWVKFYvdTjutR5bHA/rdEHWI3tPxWjjK2777xyMDcz1ed+3aFXV4RzQz8+LmA3X9lX02ZfIkkpOXU7duPVJStpKUlMQ3I0cwdsxofv51LvUbNIg6xEi9/urLJCUto3btOtSr34CFC+Yz/PNhfPftN0yd8Qv16zdg6tSplChRkibHNmXLli0sXrSQ9999h6lTJjPjf4lRv4TIvJFD7r74fBjff/sNU2b8QpUqVWnRogVly1WIrbPq95UkJy8HoHqNmlGF7qXBb7/FLTfdCEDNmjVJTU1l+GfDmDxxAtNm/I8aNWpEHKEfpk2ZzIoVy6lTpx4ZLoP5v83lu1EjmTBuDNNmzc6y7L133cHSJYsjitRvpRIS6NCxU+xxytYtmBUjMXEOgPa3fOh4LRzlbf9UqVKFho0ak7J1C+XKB++tvhQpImpRlX324qBXWbZiNdNm/Mybb73FS4NeAyAtLY2ZM2dEHF30rr2hH7/+toi5C5cx85e5PP7E0wCkpqby5RfDAXj7ncHMmb+E8ZN/4ufZ87jiyqsAWDB/HuvXr48s9qhde0M/fvltEYkLlzHjl7k8Fpe7r74YzlnnnMfLg17hh/GTY7f6DRoC0Kx5C04/48wow/dKeno6Dz7wfwBcfOllDBk6lFm/zqV8+fKsWbOGfz3xeMQR+uOZFwcxf+lKJkybwaQfZ/Hsi68AwTnt51kzY8t9PuwTPhzyPpdc9oeoQvVazZo1GTdxSuw2aNArXHTJpQCULFmSATffGnGE/tLxWjjK2/47+5zzYsdr5rFbvHjxqMMSAVSoSiGULl2aiRPG071bZ/r17csdt98Sm35iu/YRRxe9e//vAerXbxB73O3k7rH7CQkJAJQqVYpBL71Aj5O70KZVMz76YAgAzVu0pFKlSkUar0/uySN3pcLcxZv+4zQmTRwPwJ/uulvfAseZ/tNPrFu3DoCLL7kMgFq1atGxU2cAvv9uVGSx+aZ06dJMmjienqd0pWuHNvzlT7fFprc5sR0AycnL+fMfb6FN23Y88NAjUYZ7yEhLS+ON14Ki/4refahTt27EEflLx2vhKG/7b/jnw6hUoQy9el3GJRedz8+zZkUd0pHNPLp5QIWqFMqGDRv46cdpLFmyhJ07d1KtWjW+HPkt9evXjzo077z+6ssAVKpcmUsu7RWbnrRsKTOm/8jiRcF1NG1PbMcXX41SsRXnjVxyl+m5Z/4FQK1atbm891VFGpvvMrtDA1SrVi3ufnUAliclFXlMPtu0YSPTf/qRuXNms3PnTqpWq8awL0dSr159MjIyuLnfdezauZN/D36fkiVLRh3uIWHEiK9Zv349Zsadd90ddThe0/FaOMrb/ilevDjVa9Sgfv0GbNiwgVEjR9Cje1cVq+INFapSKBdedDHb0jP4dNgwbr71dtasWcP11/QhSW8KMenp6Qzodx1D//MeFSpU4IOPPqNK1aqx+U8+/RwbU9KZ/vMcTjr5FGbNnEH/vteye/fuCKP2Q3p6OjfF5W5ottwBLFwwnxFf/ReA2+74s4qHbJxz+zT9SHfehRexIXUnvy1Opv/Nt7F2zRr6X38Ny5cn8dmwYUyaMJ5/PvUcTY5tGnWoh4Tdu3fz6aefAnDOuefT8rjjIo7IbzpeC0d5K7wrevdh2YrV/Jo4n1m/JvLkk08CsGPHDl5/TYPEiR9UqEqhmRmVKlXi4UcfA2BFcjJvvvFaxFH5Yf26dVxwTk8+HPofatSoydejRtOl20l7LVe8eHGaNmvO7XfcCcD4cWMYO+aHog7XK+vXrePCuNx9lUvuXnz+GTIyMqh49NFc369/BJH6rW7derH7a9asid1fuza4r26YezMzqteowd8GPgrAyhXJvPPv11m8eBEA993zZ+pUrUiXdifE1nnwvns4s8fe++eR7tOPP2LVqlUA/OWeeyOOxn86XgtHeSu8Y5s2zXKpUYcOHalcuTIAycuX57aaHGRG9KP9+jTq7yFRqJpZqahjkMC2bdt4+81/s3379ti0r7/6MnY/NTU1irC8Mu+3ufTo3oUpkydyQus2jJkwldZt2sbmz5n9K9OmTYt945uRkcG3o0bG5m87gnM477e5nBbm7vjWbRidLXeZVq9axYdD3geg/023Uq5cuaIO1XvtO3SIfegY/vkwAFauXMmP06YC0PPMsyOLzSfbtm3j3bffzHJO+2bEV1nmZ0pNTSU1NTXLtPT0dLZv27OuBJ57NhgIrUvXbnTp2i3iaPyn47VwlLfCe+apJ7N0jZ4+fXpsMMd6uoxLPGE+do8ws7HAXCAVuA5YClwGvACcES72HXCHcy45XGcg0At4CngYqAJ8AtwE3AjcB5QB3gXuds5lhOtdDfwJaA5sB8YBdzrnVoTzTwXGhM/7OHA8kAgMcM7FhoM0s87h/E7ALmA6cI1zbqUFX0vcE8ZSC1gIPOmc+09+uWjXrr2bNG16ATN38G3atImaVY8hISGBRo0bs3nTJlauXAkEozr+MHYiHTp2jDhK2LkrI7Lnbte6JQvmzwOg5XGtKFOmbGzedTf0pXLlKvS54jLKly9P/QYNWbNmNWtWrwagTp26TJv5K+XLl48kdoAozwjt88jdtTf05bobbmT6lPF8NeIbnnv6SUqXLs3seUuoGndtUlRKlfDve7+3/v0Gt996E7DnZxu2bNlClSpVmDbjf9SqVSviCANpO6Pr7r550yYa1KpCQkICDRs1ZseOHSwJW1BLlizJyO/Hwe4dtOt8cmydpGVLad2iCQBPPvMCA265LZLYARI83O+++3YUF51/DgCffPYF551/QcQR7c2X1oJ4h8rx6ptDJW++fd5ufmxDliclUbdePcocVYZ5837DOUfZsmUZP2kaLVq2jDrEmDKlis1wzh0Ro3WWqNzIlTvbjwH7Ng+9JvK8+/cOt8fVBGNOnQxcCwwHqgOnAT0ICr7hlvXdpgFwEXA+QWH7B+ALoANwJkHB+kfgkrh1SgEPAa3D9aoAH+QQzz+B/wNOBNYDQzKf28xaExSzC4FuQGfgY/b8Tu0/gH7AbUDLcFuvm9l5+5qUqJUuXZor+1xNnbp1WbZ0KatXr6ZGzZpcdMmlfD9mghdFatR2pKXF7ifOmc30n6bFbitWrKBxk2Pp0qUr5ctXYP6839i0cSONGjeh34Cb+X7spEiL1KjllbuVK1YAma36rwPQ55rrvChSfdWv/wDefvc/tG7dhnXr1mFmXHjxJYweN8mbD29RSyhdmsuvvIradeqStGwpy5OWUaNGTS646BJGfDeWdh10TttXzz3zFAD169fn3PPOjziaQ4eO18JR3grnnr/eR4/TTic9PZ0lSxZTvXp1el95FZOmTveqSD0SRd3l16euvz63qFZyzp0QPu4JfAM0ds4tDac1IigMz3TOfR+2qP4VqOGc2xwu8ylwClDbOZcet+3Zzrnbc3nu5gStuXWdc8lxLapnO+dGhct0AybGLTMkjK1zDtsrC6wL45wQN/15oKlz7twc1hkADACoXr16uw8+/LCgqStyKSkpXna79HC3ziI1JYWyHubtUOBr7jw5p+fK12MVIMPz43VbSgplPM2dz982+7zP+fLTC7nxOnce8zpvnp/nfM7daaf1iLxlr6iUqNzIlT/n0ajDAGDTkKsjz3uJ/BeJzIy4+y2AlZlFKoBzbrGZrSRoofw+nJyUWaSGVgPzM4vUuGmxJhgzO5GgRbUNUIk9b1/1gOS49X6Ju78y/FstXKYt8Hkur6MlUBr4xsziT1MlCbo078U59wbwBgRdf7ucdGoum47elIlj8TG+KLv+FsRPU8bToUv3/BeMgOfvpUyfMp72HubOx66/8Xw9ViHarr8FMWPqhCxdf33iY9ffTFMnjqPzSadEHUaOfGktyI3Px6vPfM6bjw1D8Xw+Xo80vp+fipLPhWr8iDJG7p+f46fvzGFeTtOKQ6y1cxRBoXsNsIag6+8Egi7B8XZm2wbs+TI7rz0qc5kLgOy/3ZI9NhERERERkSOez4VqvESgtpk1yNb1t1Y4r7CaExSm9zvnloTbvbQQ25lJcO1sThKBHUB959zoQkUpIiIiIiJyBDlUCtXvgf8RDGB0B0EL5ksEBeL+FH9JBEXk7WY2iKCLcWE6hj8FTDWzN4BBQBrBIFDfOueSzOxp4Olw8KXxQDmCAZcywm6+IiIiIiJyhFPX3z38vbgljgs69l8MrAXGEgxutAq42O1Hp3/n3FqCn7+5mKDl8yHgrkJs52eCn69pDkwFpgG92dO190FgIHA3MIfgp3UuA5YUNnYREREREZHDlZctqs65U3OYlkRQUOa2zkCCYjB+2l4j+zrnemd7/BHwUbbFLG7+WLJdgxp2P84+bSKQ4wgvYTH9UngTERERERGRPHhZqIqIiIiIiBxRDO9/PqsoHRJdf0VEREREROTIoUJVREREREREvKKuvyIiIiIiIh7QqL97qEVVREREREREvKIWVRERERERkYgZphbVOGpRFREREREREa+oUBURERERERGvqOuviIiIiIiIB9T1dw+1qIqIiIiIiIhXVKiKiIiIiIiIV9T1V0RERERExAfq+RujFlURERERERHxigpVERERERER8Yq6/oqIiIiIiETNNOpvPLWoioiIiIiIiFfUoioiIiIiIuIBtajuoRZVERERERER8YoKVREREREREfGKuv6KiIiIiIh4QF1/91CLqoiIiIiIiHhFhaqIiIiIiIh4RV1/RUREREREImaYuv7GUYuqiIiIiIiIeEWFqoiIiIiIiHhFXX9FRERERER8oJ6/MWpRFREREREREa+oRVVERERERCRqpt9RjacWVREREREREfGKClURERERERHxirr+ioiIiIiIeEBdf/dQi6qIiIiIiIh4RS2qnnNARoaLOoxcOednfCVL+P0djJm/MfZ668eoQ8jTxZW38ey706MOYy+f9usYdQiHrCmL10cdQp527tjlbYzdj60adQi5coCHbw8AFMPTwDI5cM7PGNXaIyJFRYWqiIiIiIiIB/Rl0B5+NumIiIiIiIjIEUuFqoiIiIiIiHhFXX9FRERERER8oJ6/MWpRFREREREREa+oRVVERERERMQDGkxpD7WoioiIiIiIiFdUqIqIiIiIiIhX1PVXREREREQkYmamrr9x1KIqIiIiIiIiXlGhKiIiIiIiIl5R118REREREREPqOvvHmpRFREREREREa+oUBURERERERGvqOuviIiIiIiIB9T1dw+1qIqIiIiIiIhXVKiKiIiIiIiIV9T1V0RERERExAfq+RujFlURERERERHxilpURUREREREPKDBlPZQi6qIiIiIiIh4RYWqiIiIiIiIeEVdf0VERERERKJm6vobTy2qIiIiIiIi4hUVqiIiIiIiIuIVdf0VERERERGJmAHq+buHWlRFRERERETEKypURURERERExCvq+isiIiIiIhI506i/cVSoyj5JTU3lpRee5eMPPyApaRkJCQmce/6FPPLo49SsVSvq8Lz1/HPP8M2Ir5k/fx7r162jQoUKnHzKqdz/wN9pdfzxUYcXiT7tatOnfe0c5134xo9kOBjQtR5t61SkctlSFC9mbNq+k03r1jBp8nrWpqQDcOepDTmjWdVcn6fvkJ9ZEy57JPr4ow957ul/kZg4h7Jly3JKj9P4x2NP0LhJk6hDK3KfDX6VH8d/x4qli9i8cQMVK1WmRev2XHnzXTRs2pLvhn/Ic3/7U67r//kfL9Dz4t4AvPb4/cyZ9SNLF8xl965dAIyYvbpIXocvJk4Yz/PPPMWMGT+xds0aAO7729954MGBey27detWunZoy5IliwF4+rkXufnW24syXK8tW7qUFk0b5Tr/6muu44233inCiA4tOs/tO+1zcihQoSr75A+XXsS4saMxM1oe14qkpGUM/c97TJ44gSk/zaJChQpRh+ilVwe9RNKyZdSuU4f6DRqwYP58Ph/2Kd9+M5IZP8+mfoMGUYcYmc3bd/L7lh05zutY/2iKmbFycxplShWnVsXSVC9fl0eOrsItH/8KwKotO/htdUqW9eocXZpyCSXYsSuDlPTd/8/efYdHVW19HP/uhCT0FkJN6N2C0hEEARVRlKoiqFdFUa96r9deX7n23rEXLGCjiiJVWui9SE+AJLQkdBIggez3jxkmCQQIXpizA7/P85yH02ay5nCmrFlr9jnjj8FVg776knvvvhOASpUqkZaWxsjhw5gZO505C5ZQsWJFjyMMrl+HfEny5kTKVahMhSoxbNoQR+z40cyfPomPR06lVJlI6l3YONdtdiRvI2XrJgDKRlUIrJ80+hdCu1mzpgAAIABJREFUQkIpVSaSHSnnVoJ6xJJFC5kwfiy1atcJJKrH8/CDDwSSVDlWeEQEzZq3CCzv27sHY0JYseIvgHPuuXoq9Dr39+icc5cKqtmUqEq+rVy5gqlT/gTg5Vff4F8PPsSEsb/R56bebNiwns8+/YhHHn3C4yjddPsdd3JTn5sDCelD//onH3/8MWlpaYwaOYJ/PfgfbwP00LyEXbw7ZX2e2+79eRmZh21g+aH2NelQtxwxZYpQIqIQew8e4seFm/lx4ebAPkXDQ/m6TyMAJq1OIf0cTVQzMjJ49mnf87Fbj57864H7qVazLhedX5/k5GRef/Vl3n73fY+jDK5OPfvQoUsvKlSpCsDwbz7hizee48D+dGZOGkP3W++hebsrct3msdu6kbJ1EzE169L4kssC6wcOn0z5StF88cYAhn/zcTAfhjN6972F2+/sT1ZWFhUjj/8l5bChPzPk+2/p0esGhg/9OYgRFhyVKlViauyswPLs2KlMmPQnK1b8RVhYGP3v+aeH0blLr3N/n845KQg0mJLkW1ZWVmA+JMR36uTso580cULQYyoonnjqmVxV00aNGgXmIyIiPIjIHZfUKMuwfk359uaLeO6qutSMLBrYlnnYct0FFXirW0M+630hHeqWA2DjjnT2HjyU5/1d3bA8xSIKcTjLMnzp1qA8BhfNnzeP1NRUALp17wlA5cqVad6iJQATJ4zzLDav3HT3Q4EkFeCCpq0C82Hhxz4PVy1dwPL5vg9yve64L9frXflK0Wcw0oIhMjKSokWLnnCfpMRE/n3fPVzcuAn/N+CFIEVW8B04cIDPPvkIgBt79yE6JsbjiNyk17nTR+ecuOisT1SNMZcZY6wxptzfuO0AY8zy/C6f7erXb8AFF/oSrCcff4QWTS/ilpv7kp6eDsCWTZu8DK9AGTFiBOD7oNej1/UeR+Odw1mWXfszSd57kLLFwmlWrTRvdmuYK1mtUCKCehWKU7lUYQBSduzm2d9X53l/hUIM157va8+csX4HW4/TUnwuSEpKDMyXL18+x7zv+CQmJAQ9JteMHvIlACVLl+XSK689ZvvQLz8EIDKyHO2v6RnU2M4GWVlZ3HnHrWRmZvLVN4MJCwvzOqQCY8yY39m+fTvGGB586BGvw3GWXudOH51z7jDGODG54KxLVI0xU4wxH56mu3sTaHea7qvACw0NZcSo37n51tuoULEi6+PjqFGjBhc3bgJAIX0IOamMjAz63XYr48aNo2TJkvw0dCRRUccfCOhsNmXddvp+u5D+Py7l3p+X8X/+5DO8UAjXnJf9gePzmQlc99lc7vlpKcs27yGqbCke7lCLkDxeQzvULUdksXAAhi3eEpTH4Spr7SmtP5dkZmbw5pP3M3HUTxQtXoJn3x9EqbK5v8tM2hDH7MljAejao6de3/6G4cOGETttKq+/9S516tb1OpwC4/DhwwwdOhSAzld3oeF553kckbv0Ond66JwTV511ierpYIwJMcaEWmv3WWu3n+G/FX4m7/90q1S5Mp9+/hXr1ieRvGMvb739Dvv27gWgXr36HkfnttTUVDpf2ZEhg78jMjKScROn0LpNG6/D8szm3QfYdzD796MLk3aze38mAFHFc7dhZllI2nWAEf5W3kZVStKoyrG/iet+oW/wh0VJu4lLTT9ToRcIMTHZLa7JOQa6SUnxzZ+rbV27d27nqX69+HP0L5SNqsBrX4/gvMYtjtlv+KCPyMrKonjJUlzZ+RoPIi344uLjAHjs4QepULYEzS4+P7DtqccfoWO71l6F5rShP//E1q2+17qHH33M42jcpte500PnnLjqrEpUjTGD8FVA7/O3+1qgun9zI2PMHGNMujFmvjGmcY7b3WaM2WeMudrfypsBNPg7rb3GmNuNMSuMMQeMMWuMMf8xxoTk2G6NMfcZY4YbY9KAl//Hhx1UixYtZPfu3YHlIUMGs3btGgB63XCjV2E5b9XKlbRt3YKZM2Jp1OgiPvr4Yy66+GKvw/JUz0aViCqe/T3NRVVKUqqIr2qVvO8g1coWoUlMqcB2AzSrWjqwXLhQaK77a1W9DDFligAw9ByvpgI0bdaMyMhIAEaOGAbA5s2bmTtnNgBXXHmVZ7F5JSFuDf+5qTN/LZxDzfrn8+4PY6nV4NjLQ+1ITWbSr78AcE3v2ylSpEiwQz2rpKWlkZaWFviZCPi6S3IuS7Z33n4TgFaXtKbVJUrmT0Svc6eHzjmHGN+ovy5MLjjbRv39N1AXWAU85V93pH/hFeBxYAvwHjDYGNPQZveHFAaeAe4GUvz7nRJjzF3A88ADwALgfOBzIBPI2Y78nD++R4AC1Z8y5Ptv+fLzT6lZqzY7dmxnm/8buB49r6d7j14eR+euG6/vzvp436UZDh06xIDnnuPNN98CfCMC397vTi/D88TV55XnHy2iSdmXwcFDWUSX9v0GdX/mYUYt3UqV0oV5plNd0jMOs23vQUoXKUSZor7ENnnvQRZv2p3r/no08lVT16WksWTTnuA+GAeFh4fz3xde5v5/3s3I4cOYM2smaWlp7N27l3LlyvHIY+feCN0vPng7W5M2AnD48CFeeqhfYFunHn25qtfNAIz67jMyMw4SHlGYrn3vhPRj3w4ev607qds2s3f3zsC6fp19ldlHX/uI+hc2OZMPxQmjRg7n2Scfz9Vm+cnAD/hpyGCaNm/B448/wfBf/whs27hhA+fV8123UddRzduE8eNYumQxAA89osrWyeh17n+nc05cdlYlqtba3caYDCDdWrsVwBhzpB/1WWvtZP+654FYoAqQ5N8eCjxgrV1w5P7+xg+JnwUes9YO9S+vN8a8CvyT3InqT9baL453J8aY/kB/gAoVKjB7xtRTjeOMKVWyOJUrV2Z9fBxZWVlUr16dq6++hm7duzsVpyvfBB2xe9euwPxff+Uu0jdoUJ/69dy5KHm3yOBUOdasWcOh6EqULlmcyKLhpKXvZ1vqThatXEeT0DRKm+Js3FyKcqVLUrW0rxV49940UlOSmbMink4lswdKqlCuDA0qlgB8VbNukalBeQw5zYqdEvS/eTING9Tlqaee4ueff2bjxo2Eh4fT5tJLueuuu9gYv4aN8Wu8DhGAzAN5j+B8umWk7Q3Mb1y7Kte2iy84j8zEC0lPT2fMT76L3HfoeDnF0rdgM/aTmbg01/7bEuJITs59/dQtiRsASE9cQWaZ4PymdU6yd2/jixfMI97f3nvEzp072blzJyVKFCdt3z7m5HhfONJaCLAxfl2ubcHm2FtEwIBnfd+xx8TEULZUCWbHuvO+GuDYwSsor3OuliUKxDkn5yxztv3g3BgzBVhurb3fv3wZMBmobK3d4l9XA4gHmlhrFxpjbsNX+SxsrT2c474GAL2steefbNkYEwUkA/uB7Ou4+L4MMNbaCP9tLHCbtfab/Dyexk2a2thZ8079QATJ7BlTadnavfGmQvIaacchs2Kn0KrNZV6HkadeX871OoQT6haZysjtpzyI9xk3tF9zr0M4IZfPucmrk0++k4cyE5cSFnOh12HkqW0ddwdjmzNjKi0cfH8A8hyMzSWzY6fSso2bx86V0UDz4vLrnOuft10+54qGhyyw1jb1Oo5gKFKprq1x++kaE/Z/s/KVTp4f97OqonoSmTnmj7xa5PyN7sGcSerfcOS+7gFmnmTftP/h74iIiIiIiJzVzsZENQNfG29QWWu3GWM2AbWstd8G+++LiIiIiEjB5nDTQtCdjYnqBqC5MaY6sI/gjmw8APjAGLMLGAOEAY2BKtbaV4IYh4iIiIiISIF1Vl2exu9NfFXVFfhG76164t1PH/8ASXcAtwBLgOn4BkVaH6wYRERERERECrqzrqJqrV0DtDpq9aCj9tlAjnHrrLWDjt7Hv34Avippvpb9634AfjhBfCroi4iIiIjIMVwesCzYzsaKqoiIiIiIiBRgSlRFRERERETEKWdd66+IiIiIiEiBYzTqb06qqIqIiIiIiIhTlKiKiIiIiIiIU9T6KyIiIiIi4jGDRv3NSRVVERERERERcYoqqiIiIiIiIp4zqqjmoIqqiIiIiIiIOEWJqoiIiIiIiDhFrb8iIiIiIiIOUOdvNlVURURERERExClKVEVERERERMQpav0VERERERFxgEb9zaaKqoiIiIiIiDhFiaqIiIiIiIg4Ra2/IiIiIiIiXjMa9TcnVVRFRERERETEKaqoioiIiIiIeMygwZRyUkVVREREREREnKJEVURERERERJyi1l8REREREREHqPM3myqqIiIiIiIi4hQlqiIiIiIiIuIUtf6KiIiIiIg4QKP+ZlNFVURERERERJyiRFVEREREREScotZfERERERERB6jzN5sqqiIiIiIiIuIUVVRFRERERES8ZjSYUk6qqIqIiIiIiMgpMcaUNsYMNcasMsasNMa0MsaUNcZMMMas9f9bxr+vMca8b4xZZ4xZaoxpfLL7V6IqIiIiIiIip+o9YKy1tj7QCFgJPAFMstbWASb5lwE6A3X8U3/g45PduRJVERERERERjxl8gym5MJ00VmNKAm2BLwGstRnW2l1AV+Ab/27fAN38812Bb63PbKC0MabSif6GfqNaALjcqn7kCSVnj8G3NvE6hBOaP3s6g69xL0ZrrdchnJh1N8aWNSK9DuGEFm4rRGNHYwxx+PXX4G58zv8GTL9TExHvlTPGzM+x/Jm19rMcyzWBFOBrY0wjYAHwb6CCtXYLgLV2izGmvH//KkBijtsn+ddtOV4ASlRFREREREQkp1RrbdMTbC8ENAYesNbOMca8R3abb17y+vbthN+gK1EVERERERHxnClI3RRJQJK1do5/eSi+RHWbMaaSv5paCUjOsX9MjttHA5tP9Af0G1URERERERHJN2vtViDRGFPPv6ojsAL4FfiHf90/gFH++V+BW/2j/7YEdh9pET4eVVRFRERERETkVD0ADDbGhAPxwO34CqE/G2P6AQnA9f59xwBXA+uAdP++J6REVURERERExAEFp/MXrLWLgbx+x9oxj30tcN+p3L9af0VERERERMQpSlRFRERERETEKWr9FRERERERcUABGvX3jFNFVURERERERJyiiqqIiIiIiIjXTMEaTOlMU0VVREREREREnKJEVURERERERJyi1l8RERERERGPGTSYUk6qqIqIiIiIiIhTlKiKiIiIiIiIU9T6KyIiIiIi4gC1/mZTRVVEREREREScokRVREREREREnKLWXxEREREREQeo8zebKqoiIiIiIiLiFFVURUREREREHKDBlLKpoioiIiIiIiJOUaIqIiIiIiIiTlHrr4iIiIiIiNeMBlPKSRVVERERERERcYoSVREREREREXGKWn9FREREREQ8ZjAa9TcHVVRFRERERETEKUpU5W/Zvn07jz78IH363ESpYhFEVyzHFR3asXjRIq9Dc9rPP/1Iq2aNuapTJyqXL8tNN/Yibt06r8Nyyrdff8llrVtQvUoUUaWKUL9mDDd0v5aZM6YH9snMzOTVl56nUcM6RJUqQsPa1Xji0YfYu3evh5G75cXnB1A0PCQwdejQPjB/6NAhr8NzyreDvqRDmxbUjI6iQukiNKwVw409rmVWjnMuKTGBB+69i0YNalGxTFEuPq8OLz3/f2RkZHgYuVt0zv19sdOn0aNrF6pVqUCRMEOH9u158fkBXoflvHffeYurruhAzWpVKFUsghuuv54+va9n+bJlXofmPD1fpSBQ66+csu3bt9OuTUvi4+IICQmhdu06hIWFsWTxItbHx3HRxRd7HaKTBn31JffefScAlSpVIi0tjZHDhzEzdjpzFiyhYsWKHkfohtmzZrJpUyLR0VXJslmsWbWS8eP+YNrUycxZtByA++65k59/GExISAi1atdhw/p4Phn4PsuWLmb0HxMJCdF3cEeUK1eOGjVrsW/vHoqXKAnoYuJHmzNrJpuS/OdcVhZrVq9kwrg/mD51MrMXLmfXrl30uak3ycnbKFq0KHXrNWDtmlW89drLrFm9im8G/+z1Q3CKzrlTt2jhQsaPG0vtOnVITk72OpwC4+OBH5CwcSNVoqOpVr06a9esYcSwoYwf+wcLFi+nWvXqXofoPD1f3aPDn02f5uSU/fe5Z4iPi6NylSoMGvQNi5evZN6ipWxJ2Umnzld7HZ6TMjIyePbpJwDo1qMng4cMYdGylZQoUYLk5GRef/VljyN0x9vvD2Tths3EzlnAzLmLePv9jwA4cOAAixctZO2aNfz8w2AAXn3jHeYt/otvh/gShRnTp/Hbr6M8i91FV3W+hqmxsxg48COmxs5iauwsQkNDvQ7LKW+9N5DVGzYzbfYCYucu4q2jzrmpU6eQnLwNgN/HT2Ha7AUM/nkEAKNHDmfe3Nmexe4inXOnrs/Nt5C8Yw+xs+Z5HUqBcvsdd7Jq7XrWrU9k6V+ruffeewFIS0tj1MgRHkdXMOj5Ki5ToiqnxFrL8KG/AFCjRk1eeulFosqUoPGF5/HlF59RpEgRjyN00/x580hNTQWgW/eeAFSuXJnmLVoCMHHCOM9ic03hwoWZETuNy9tdwiXNLuLhf98XWH9x4ybMnTs3sO913XoA0KnzNRQuXBiAPyeOD37QDhs5YhhlSxalV6+edO/aRe35eShcuDAzY6dxxWWX0LrZRTxy1DlnrQ3se6Ran7PiMHnShOAG7Didc6cuMjKSokWLeh1GgfPEU8/kqpo2atQoMB8REeFBRAWPnq/uCTHGickFSlTllKSkpLBjxw4AZsROZ9u2bZSLimLVqpU8+MB9fPLxQI8jdFNSUmJgvnz58jnmKwCQmJAQ9JhctnPHTubPm8uKv5aTmZlJVPnyDB/9B1WrViMlJbstLsp/LENCQoiMLAf4fksoPqGhoVSoWJFq1aqzY8cOxv0xhvZtL9EHkTzs3LmTBfPmsnKF/5yLKs+wX/8gpmo1WrRoSfESJQC4+op2tGvVlL43dA/cdsvmzV6F7Rydc+KlESN8VdTIyEh69Lre42jcp+eruM7pRNUYU84YY40xl3kdi/jk/IF9ZGQk338/mOUr19KiZSsAPv1IiWpeclZk8rP+XNfluq7sTMtkdXwSd91zHynJydx12y0kJiboWObTjb37sHHTNpatWMOiZSt47bXXADh48CCffqLn6dGuubYr2/dlsjLOf86lJHPX7beQlJhApUqVGPn7eC7rcDlh4eEkJSVwbdcelCpdGoCwsDCPo3eDzjnxSkZGBv1uu5Vx48ZRsmRJfho6kqioKK/Dcpqer1IQOJ2oesUYM8AYs9zrOFwUFRVFeHg4ALXr1KVo0aKEhoZycePGAGzcuMHD6NwVE1M1MJ9zoIwj1cHomJigx+Q6YwwVKlbk2QEvALBpUxJff/5poAoNkOI/lllZWezYsR2AKtE6lgB16talbNmygeVmzZoTGRkJQFJi4vFudk47cs49/ZzvnNu8KYmvv/gUgMZNmjF89Fjik1KIS0zmuRdfYfeuXQDUqVvPs5hdonNOvJCamkrnKzsyZPB3REZGMm7iFFq3aeN1WM7T89VdxrgxuUCJ6hlmjAn3OobTKSwsjLbtLgNg3do17N+/n6ysLJYsXgxAnTp1PYzOXU2bNQu8AYwcMQyAzZs3M3eObxCWK668yrPYXJKens43X33B/v37A+vGjvktMJ+Wnk6z5s0Cy7+OHA7AuD9+58CBAwB0vKJTkKJ121tvvJarpXz+/Pls3+5L5qtWq+ZVWM5JT0/nm69zn3Pjcp5zaekAzJ4ZG+goSU9P57H/PABAeHg4Xbp2R3TOSfCtWrmStq1bMHNGLI0aXcRHH3+sKw/kk56vUhCYYLbLGWOuAp4GzgcsMA940Fq70r+9GfAJcB6wEngG+A1oD0wDEoDXrLUf5LjPusBqoLG1dpExphTwBtANKAIsBB621s73738b8CHQFXgPqAHMBe6w1q73b//6qNBvt9YOMsZY4Hpr7dAcf38D8KG19k3/sgXuBzoCnYCPrbWPGGMa+uNqC+wHJgH/sdZuPdExa9ykqZ0x261RAOfPn8cV7dty8OBBypQpQ8lSpdi4YQMAQ378hW49enobIG4Orf7l559x/z/vBrIvT7Nnzx7KlSvHnAVLqFy5sscR+hzMPOzZ3961axfVK5cjIiKCGjVrcfDgQdbHxwG+L0nGTpyKPXyQTz75lKE//+i7PFKduqyPjyMzM5NWl7Tm9/GTPbk8TXght773q1+nBokJCcRUrUrRIkVZvXoV1lqKFSvGtBlzaNCwodchBhzIzPLsb+/etYsaVXznXPWatcg46pwbM3Eq5tBBHnzwQRISNhAdXZWEhA3s81+z97W33uOue+7zLP7CYe6cdwXpnHPtPWLkiOE8/eRjWGtZHx8PQJkyZShTtizNmrVg0HeDPY7QTY3Or8+a1asBOO+888nKOhy4xMrtd9zJ7f3u9DK8XFz7eUpBer4WDQ9ZYK1t6nUcwVCyagPb8vGj0xBvTLi/lefHPdjvcMWAd4HmwGXAbmC0MSbcGFMM+B2IB5oCTwBvHrmhtTYL+AHoe9R99gVW+JNU47+PKkAX4GJ8Ce6fxphKOW4TATwJ3AG0AkrjS5ABfgLewpf8VvJPP53i43wOGANcAAz0/+1pwHL/Y78cKA78aoxx51NGPjVt2oxxEyfTvkNH9u/fz57du7m0bTv+GD/JiSTVVf3u6s9X33xPo0YXkZqaijGG67p158+pM5xJUr1WuHBhbripL1WiY0jYuIHEhI1UrFiJa7t2548JU2jSrDkAH3/+NY89+QzRMVVZHx9HZGQ5+t97Pz8NH61rqPo9+viTtO/QkYyMDNavj6dChQr0vqkvM2bPd+oDiNciChfmht6+cy4xxznXpWt3fp8whSZNfedc+46XU7p0GeLWrQGgTdt2/DhslKdJqmt0zv19e/fsIT4uLpCkgm+Ar/i4ODZv3uRhZG470kkD8Ndfy1m5ciXz5s5h3tw5bNqU5GFk7tPz1U2+tlvjxOSCoFZUj/njvuR0D9AOaAi8DkRba/f5t98MfAe0t9ZOMcZcCCwB6lhr1/n3WQt8Za19xRjTAfgViLLW7s/xdxYDQ6y1r+eomNa31q72b+/rX1fYWptljBkA9LLWnn9UvPmtqH5orX0gxz7PA62ttR1zrCsD7ABaWGuzr7fh29Yf6A9QoUKFJj/88OOpHtqg2bdvH8WLF/c6jGO58fw6LmePG5Dl1pe+x0jft4+iDh4719NjnXN/X3raPooWc/PYhTj8WufyOaf3iLOT08fN8dc5l49dhw7tPa/sBUupag1sy8cHeR0GAOPva+n5cS8UzD9mjKkFvAC0AKLwfbYLAaoCDYClR5JUv1k5b2+tXWqMWQb0AZ43xrQAagFD/Ls0AYoCKUd9E1DYv98RB48kqX6bgTB8ldUd/8tj9Jt/1HIToK0xZl8e+9bC13ocYK39DPgMfK2/Ldu0Ow0hnRmzY6fiYnyufBN0PLNip9CqzWVeh5EnL1t/82P+7Ok0bXmp12Ecw7XW36O5+lwFb1t/82Ph7Ok0dvCcA7daf4/m8jmn94izk8vHzbXW36O5/HyVc1dQE1VgNLAJuNv/7yFgBRBO/r/fHIyvZfd5fG2/0621G/3bQoBtQF6fKPbkmD901LYjrx4ne8e3ecSZ13UJ0o5aDsHXkvxIHvtuO8nfFBERERGRc4DLnTLBFrRE1RgTia9qep+1drJ/XeMcMawA/mGMKWatPZLotczjrgYDLxtjWgI34htw6YiFQAUgy1obn8dt8ysDCM1jfQq+36zij79CzuUTWAjcAGy01mb+D3GJiIiIiIic9YLZM7QTSAXuMsbUNsa0wzeA0ZHq5hD//FfGmPOMMVfgGyE4F2ttEr6BiT4BSgG/5Ng8EZgBjDLGdDbG1DDGtDLG/NcYcyp9WxuAasaYxsaYcsaYCP/6P4H7jDFNjTEXA4OAA8e5j5wG+mP9yRjTwhhT0xhzuTHmM2NMiVOIS0REREREzlJeD6Lk0mBKQUtU/aP23ghciG/024HAs8BB//Z9+EbqrYOvAvkm8Phx7u47oBHwu7V2V46/YYGr8SWUn+MbufdnoB6+36Hm1zB8o/ZOwldFvcm//mF8oxJPAYYCXwDJJ7sza+1moDWQBYwF/sL3+A/6JxEREREREfEL6m9UrbV/4ruGak7Fc2yfAzQ+avsxKb219ivgq+P8jb3Av/1TXtsH4auE5lw3JeffsdYeBHrlcdvNQOejVg87ap88v4Kw1q7N6z5FREREREQkt2APpiQiIiIiIiJ5cKTr1gnujmsvIiIiIiIi5yQlqiIiIiIiIuIUtf6KiIiIiIh4zADm2OF5zlmqqIqIiIiIiIhTlKiKiIiIiIiIU9T6KyIiIiIi4oAQdf4GqKIqIiIiIiIiTlFFVURERERExGvGYHQh1QBVVEVERERERMQpSlRFRERERETEKWr9FRERERERcYA6f7OpoioiIiIiIiJOUaIqIiIiIiIiTlHrr4iIiIiIiMcMEKLe3wBVVEVERERERMQpSlRFRERERETEKWr9FRERERERcYA6f7OpoioiIiIiIiJOUaIqIiIiIiIiTlHrr4iIiIiIiAOMen8DVFEVERERERERp6iiKiIiIiIi4jFjNJhSTqqoioiIiIiIiFOUqIqIiIiIiIhT1PorIiIiIiLigBD1/gaooioiIiIiIiJOUaIqIiIiIiIiTlHrr4iIiIiIiAPU+JtNFVURERERERFxihJVERERERERcYpaf0VERERERBxgNOpvgBLVAuBwlvU6hOOyuBlfqOu9Ahasde+4AWxMTfc6hBPKOJTlZIx1K5XwOoQTM+6++VVu/W+vQzihl/q3oMvDbsaYOucDr0M4Lgs4+PYAgM3K8jqEE7IWDh12M8ZCzr/BusnRt/wAi/sxyrlHiaqIiIiIiIjHDBDi5nfKntCVQuOUAAAgAElEQVTXYiIiIiIiIuIUJaoiIiIiIiLiFLX+ioiIiIiIeM0YZ8eT8IIqqiIiIiIiIuIUJaoiIiIiIiLiFLX+ioiIiIiIOECdv9lUURURERERERGnKFEVERERERERp6j1V0RERERExAEa9TebKqoiIiIiIiLiFFVURUREREREPGaAEBVUA1RRFREREREREacoURURERERERGnqPVXRERERETEARpMKZsqqiIiIiIiIuIUJaoiIiIiIiLiFLX+ioiIiIiIOECNv9lUURURERERERGnKFEVERERERERp6j1V0RERERExGPGQIhG/Q1QRVVEREREREScooqqiIiIiIiIA1RQzaaKqoiIiIiIiDjllBJVY0xxY0wjY0zYmQpIREREREREzm35SlSNMcWMMd8Ce4AFQIx//YfGmKfPYHwiIiIiIiLnBGOME5ML8ltRfQWoD1wCHMixfjxw/ekOSkRERERERM5d+R1MqStwg7V2jjHG5li/Aqh5+sMSERERERGRc1V+E9UoIDmP9cVOYywiIiIiIiLnLEe6bp2Q39bfBcDVOZaPVFXvAGad1ojEGe+/+zbXdLqcujVjiCxZhHq1qnJLnxv4a/mywD6HDh3ilRef54L6tSlbojD1alXl8Uf+w969ez2M3D0bN2ygaHhIYOrQoX2u5f79bvc6RE8smDOD+2+7nvaNa9GoakkaVS3Jx2+/HNg+6pfBgfVHpquv7BiYH/XLYADWrV7Jsw/fS7cOTWl9XjStGlSm15Wt+O6LDzl06JBXD89zsdOn0aNrF6pVqUCH9u0pEmZ48fkBXoflqaKFw3nirqtYNOwZts98m42TXuHz52+hUlSpwD6FCoXwVP/OrBg9gN1z3+WuW3rwxiM9KV40IrBPRHghPn/+FhYMfZp9899n/6IPWfX7f714SJ6JnT6NXt2upUZMRYpHhFA8IoSXXhgQ2J6ens7jj/yHS1s1o1qV8pQrVZQLG9Th8Uf+Q0pKineBOyB2+jR6db+WmlUrUaJwKCUKh/LyC7nPn85XdAhsyzld0b6tR1G76esvv6B1i6ZULl+WK6+4ghpVK9P9umuIjZ3udWhOiZ0+jZ7drqV6TEWKRYRQ7KjnK0BmZiYvv/hfzqtXi9LFI6hTM4ZHH35Qn+nEM/mtqD4NjDHG1Pff5j5jzHnAZUC7MxSbeOzTjz4kIWEjVapEU7VaddatXcPI4cOYMG4scxYspVr16rzx+utMnDiBkJAQatWuw4b18Xz04fssXbKE38dNJCREV0ACCI+IoFnzFoHlfXv3YEwIK1b8BUDFihW9Cs1TK5ctZubUiVStUYsdqcd+cC1TNpILLm6aa93WpARSUnwNHuXKVwDgr6UL+fWXwRQuXIToajXYsimRtav+4s3nnyJx43qeeuGtM/9gHLRo4ULGjxtL7Tp1SE7Oqynm3DP03btp36IeWVlZ/LVuC5XLl+bma1vQ+uJatOj9KnvTDvDpczfTp0tzDh/OYl1CMrWrRnF/3/ZcWC+aq/q/j7WWwuFh3HxtC7ak7GbnnnTKlSnu9UMLuiWLFjJh/Fhq1a5DSh7n1549exj4wXuEhoZSs1ZtChUqRHx8HAM/eI+pUyYzc+7Cc/Y9YsniRUwcP+64xy6nGjVqEhkVFVhu0LDhmQ6vQJk1cwZJSYnExFRl3769JCQkMPaPMUyZ/CeLl62kWvXqXofohMX+52vtE5xz9/Tvx49DvickJITateuw3v+ZbtnSJYwZN+mcfb6Kd/J1xllrp+FLSMsDm4AeQBrQ2lo798yFJ176x+39WL4qjlVxG1m0bCUvv/YmAGlpaYz+dSSLFy1k4sQJALz+1rssXLqC73/8BYDY6VMZ/etIz2J3TaVKlZgaOyswDRz4EV279wAgLCyM/vf80+MIvdGlZ29mrNjEkNFT8tzetuNVfD/qz1xTBX9SX7N2PS5p2xGAipWjeX3gIGas2MSwCbP5Y+YyKsdUA+D34T8F5bG4qM/Nt5C8Yw+xs+Z5HYoT6tesSPsW9QB48p2RNL/xFc6/bgBp+w9SI7ocd99wKRfVj6ZPl+YAPPLGUC7q8SKjx00DoG3TOlzX/kIA9qYfoNaVT1PzyqeZvmCtNw/IY7373sKW1N1Mm5n3x4Dw8HBefPk1EraksmjZSlbHJXBt1+4ALF+2lGVLlwQzXKf07nMzm1N2MXXGnJPu+9iTTzN52szA9P7AT4IQYcHx/sCP2bhpG3MWLOaLL7/kA//xOXDgAAsXLvA4Onfc1PcWtp7g+bpmzRp+HPI9AG+89S6Llq1kyI9DAZg+TZ/pgsVgCDFuTC7I91cj1toF1tobrbW1rbU1rbW9rLULz2Rw4q3Hnnw61zeRbS7NbjeKiIhgwrixgeWu3XxJ11Wdr6Fw4cIATJowPjiBFkAHDhzgs08+AuDG3n2IjonxOCJvlC4TSZEiRfO9/9JF81i+bCkAt937YGD49Bat29Hp2h4UKuRrEilVuiy16zYAICw8/DRHXXBERkZStGj+j+/ZLucbb1ZWFgA2x/CAHVvW58rW5wWWR05aDED8xiT2H8gA4PJWDfy3t2xO2X2mQ3bayc6vsmXL8uDDj1KqlK+tulChQrRqdUlge3hExPFuetY7lefmk489TGTJIlxQvzYP/PNukrdtO8PRFSyFCxcmdvo02rZuSb877uBf998bWN+4SdOT3PrccbJzbt7c7AS2a/eeAFx1dfZnuonjx53ZAEXykN/rqBY90XSmg3SNMWaDMeYRr+MItk8++hCAspGRdOvRi6SkxMC2qPLlAQgJCSEyshwASYkJwQ+ygBgz5ne2b9+OMYYHHzrnTqW/7euP3wWgfMXKXN3thuPut271SubO9FXBbri5X1BiE/etWr+VJauTAHj1oR7M+ekJlv/6HMWK+BKmyuVLE12xTGD/5B3Zv8vavisNgJhKZZC/Z+/evXz/3TcAtL60LQ0aqIX1ZIoUKUKlylUoFxXFhg3rGfTVF3Rs15q0tDSvQ3PKjh07mDd3DuvXryczM5Py5csz+o/xVKtWzevQCozklOx24PI5P9OV832mS0xMzPN2cpoZ32BKLkwuyG9FdR+w9wTTWckYM8AYszyPTc2Aj4Idj1cyMjLof8c/GPL9t5QsWZIffh5OVFQUNmcpIgdL3uvF5/Dhwwwd6mun6Xx1Fxqed95JbiEAG+LXMmX87wDcctf9hIWF5bnfwjkz6XdDZw7sT+fKa7pz94NPBDNMcVhWlqX7Ax/z7ajZbNu+h5rRUayI28KCFb4v1TIPHeZ4782uvGkXVJs3beKqyy9jxV/Lqd+gId9+/6PXITnv1TfeInHrduYuXMqqdRt5+FHfa9mGDesZPWqEx9G55bqu3UjPyGLosGHc88/7SU5O5rZb+pCQoC/M8+u4n+mOs14kGPKbqHbGN+rvkakrMABIAs654UqttSnW2nSv4wiG1NRUulx1BT8M+Z6KlSoxZvyfXNK6DQAxMVUD+x35YX5WVhY7tm8HoEr0udnOejJDf/6JrVu3AvDwo495HE3B8e2nH5CVlUXx4sXp1ee2PPcZPXQI/ftex66dO7jx1jt5beDXhIaGBjdQcdqWlN3cPeB7anV6hqjWD9Pprvco4R/Nd82GbSRu3RnYt3zZEoH5sqV8V2NL2roruAGfBRYvWki7Ni1YsngRrS5pzbhJUwO/NZfja3TRxUT426ONMdzQ+6bANlW3jmWMoWzZsvz3hZcA2JSUxBef6fe8+VXBPzghEBh8L+dnuujoaE/iknNbfgdTGnfU9Ju19gXgMeD6Mxvi/8YYc5UxZroxZqcxZocxZpwxpkGO7ZWNMYONMduNMenGmMXGmPbGmNuA54DzjDHWP93mv02u1l9jTFVjzAhjzF7/NNwYE51j+wBjzHJjTG9jTJx/n5HGmHLBOxKnbtWqlXS4tBWzZsZyYaOLmDJ9No0uujiw/fIrOwXmR40cDsDYP37nwIEDx2yXbO+87RuUqtUlrWl1SWuPoykYUpO3MXr4DwBcc21XihbLPcKqtZYPXn+eZx66h8OHDvHo/73CUy++rREK5RgX1Y+mZPHCgeVH77iSutV9H9B+GbeACTNXBLZ163gRADWrRVOksO+3zjm3y8n9OmoEV3Zoy5bNm7mhdx9+GzuRyMhIr8Ny3s6dO/ngvXdyXRZk2C8/B+bV0uqTnp7OV198zv79+wPrfv9tdGBeLdL516x5s8D8qBHDABg7Jvsz3RWdrvIkrnORMcaJyQXmfynpG2NqAUuttcVOX0inlzGmp392KVAEeAZoDDQEwoDFQDLwJL4RjRsBO4HZwAtAF3yX4QHYba3db4zZAHxorX3T+P4nFwAHgH/ju8bsh/gu49PMWmuNMQOAR4AJ+JLfYsCPwFhr7d0nir9xk6b2eCO0nWmNL2zI2jWrAWh43vkULZb93/yP2+7gtjvupOvVV/Dnn3/6hjKvU5f18XFkZmbS6pI2jJ042bNEITTEjSfY0SaMH0fXLp0B+GX4KK7pcq3HER1r7dZ9QftbE//4lXdffhZrLUkJGwAoWao0pUqX4YKLm/LK+18C8N6rA/jqo7eJiCjM199+z3mtrsx1P3/8OpQn7r8DgBIlS1O9Vu1c278f9ecZfyx1K5U4+U5BNnLEcJ5+8jGstayPjwegTJkylClblmbNWjDou8EeR+hTptn9QftbbzzSkzt7tSEuMYWypYoFrp86bPxCbn78KwAGvXwbN3ZuyuHDWazdmEydalGEhoYyY+E6rrjzvUAr3PJRzwFQoVxJiheNIDPzMAlbdgBw5Z3vBmWwpdQ5H5zxv3E8o0YO59knH/edX+tznF9lytK0eQt69uhO7xtvwFpLaGjoMQPbvPP+QC66uLEXoXvezjhq5HD+76kn8j52zZrTtet19O1zE4UKFaJmrdqkp6UFxoWoV78BsbPnBwa5CbZCoe58Abhr1y4qRZUhIiKCmrVqsXvXLjZv3gz4RtSfNCWWZs2bexylT1aW9+fcMyd4vt7d/y4++fQzfvnpB0JCQqhTpy7x/s90l7Ruw7iJUzz7TFcsImSBtfacGBmrfO3z7fVv/OJ1GAB81KOh58c9v9dRPYYxJhy4D19y5yxr7bCcy8aY24E9QHOgAVARaGWtTfXvEpdj333AIWvt1hP8icvxJbe1rLUb/LfrA6wDOgIT/fsVAm6z1u727/MZx2mbNsb0B/oDVKhQITAoTLDt2Z3d4rbir9w/1W1Yvz4N69fl/vsfoEp0NBPGjyc+bh2lSpWibdu23H5HP+bPjg12yAFupqkw4NmnAIiJiaFsqRLMjp3qcUTHOnAoK2h/K2ntEhI3rs+1bs/uXezZvYvSpUqyadU80tPT+fnbzwDoeMUVFCsSzqZVuS+3sm3DysD83j27WLZofq7tR+9/JmyPc+fD2xGLFswlPi4u17qdO3eyc+dOShQvzqzYKd4EdpSX+rc4+U6nSc0KYezbt4861aIIMYaU1B0sXx1HQvzqQBxbElYxa34YDevWok61KDIyMli1diOLFi7mxbuyP/TWqhqV677DwkID6568tQl79p75as6cGd69hixeMI/4+OOcXyWKs2d3h0BCePjwYebNzX0pljkzp3Mw/awd5uKEliycf8JjF9azB3373sz8+fPZvGUzGQcPUrVqVVq3bsONvXuzdKF3VwZ0pNAC+MbQuPyKK1i5YgXr4+PJzMwkMjKShg0b0rt3bw5lpDvzOuf1Tz0XneT5mrZvH3f2u4PCEWFMGD+euKM+082dNd2jyOVclq+KqjEmBXKNkGOA0kAGcOvRyaBL/FXfF4AWQBS+dudiQF+gDdDIWptn/6W/EtrLWnv+Ues3kF1R/RfwqLU25qh9koDXrbXv++/nJmttvRzbbwfes9aWPFH8XlZU82PuzGk0v6TtyXcMMlcrqkfMjp1KyzbtvA4jT8GsqP4dm1bNo0r9ZiffMchcrKjmNCt2Cq3aXOZ1GHkKZkX173ipfwue/uzk17v0gpcV1ZOZM2MqLVq7+TrndUX1ZFx9bwW3KqpHc/l1zuuK6snMnjGVlo4+X8+1iuqNjlRUPyxAFdVnjlrOAlKAmdba5Dz2d8lofFXfu/3/HgJWAOGcnsKbgeMOc5tzfWYe29x9tRcREREREfHISRNVY0whfEnWmJO0wDrHGBOJr733PmvtZP+6xmQ/7oXAzcaYcjlaf3PKAE42ZOgKoIoxpnqO1t+aQGX/NhERERERETkFJ63oWWsP4RscKOLMh3Pa7QRSgbuMMbWNMe2AT/BVVQGG4BtIaaQx5lJjTA1jzHXGmPb+7RuAasaYxsaYcsaYvI7BRGAJMNgY08QY0xQYjC8JPvMjuIiIiIiISIFn0Ki/OeW39XQuvgGDChRrbRZwI3AhsBwYCDwLHPRvTwPa4WsJHg38BfyX7JbdYcAYYBK+VuebOIr1/dClm3/7FGAysBXoZl3/EYyIiIiIiIiD8vsb1Q+Bt4wxlfFdiiXXUIbWWmdbXK21fwLnH7W6eI7tSfiS2bxuexDolcf66kctJ+BLVo8XwwBgwFHrBgGDjh+5iIiIiIicSxwfDzSo8puoHrnK9Ef+f49UCo8MJHSy33GKiIiIiIiI5Et+E9UGZzQKEREREREREb8TJqrGmK+Af1trVwcpHhERERERkXOSWn+znWwwpX8ARYIRiIiIiIiIiAicPFFVTi8iIiIiIiJBlZ/fqOoSKyIiIiIiImeQMThzDVMX5CdR3XqyA2at1ai/IiIiIiIiclrkJ1HtD+w604GIiIiIiIiIQP4S1dHW2uQzHomIiIiIiMg5TKP+ZjvZYEr6faqIiIiIiIgElUb9FREREREREaecsPXXWnuyRFZEREREREROAw36m02JqIiIiIiIiDglP4MpiYiIiIiIyBlkgBCVVANUURURERERERGnKFEVERERERERp6j1V0RERERExAGqImbTsRARERERERGnKFEVERERERERp6j1V0RERERExAEa9DebKqoiIiIiIiLiFCWqIiIiIiIi4hS1/oqIiIiIiHjMGEOIen8DVFEVERERERERp6iiKiIiIiIi4gAVVLOpoioiIiIiIiJOUaIqIiIiIiIiTlHrr4iIiIiIiANC1PoboIqqiIiIiIiIOEWJqoiIiIiIiJwSY0yoMWaRMeY3/3INY8wcY8xaY8xPxphw//oI//I6//bq+bl/JaoiIiIiIiIeM0CI/1qqXk/59G9gZY7l14B3rLV1gJ1AP//6fsBOa21t4B3/fielRFVERERERETyzRgTDVwDfOFfNkAHYKh/l2+Abv75rv5l/Ns7+vc/ISWqIiIiIiIicireBR4DsvzLkcAua+0h/3ISUMU/XwVIBPBv3+3f/4Q06q/jDFAo1N3vE4xxOz5nGcjHF0meqFWhuNchnFDquhDnY5RTkzDtHa9DOKEl82JJmNbb6zDyFJ+c5nUIx3XwUJaz8dWp6PZriN5bzz4hjg/laoz7MZ4rHPp4WM4YMz/H8mfW2s8AjDFdgGRr7QJjzGX+7XlFbvOx7biUqIqIiIiIiEhOqdbapsfZ1hq4zhhzNVAYKImvwlraGFPIXzWNBjb7908CYoAkY0whoBSw42QB6Os6ERERERERrxnfdVRdmE7EWvuktTbaWlsd6A38aa3tC0wGevl3+wcwyj//q38Z//Y/rbUnragqURUREREREZH/1ePAQ8aYdfh+g/qlf/2XQKR//UPAE/m5M7X+ioiIiIiIyCmz1k4Bpvjn44HmeexzALj+VO9biaqIiIiIiIgDTJ7jDp2b1PorIiIiIiIiTlGiKiIiIiIiIk5R66+IiIiIiIjHDCcfcfdcooqqiIiIiIiIOEWJqoiIiIiIiDhFrb8iIiIiIiIOUOtvNlVURURERERExCmqqIqIiIiIiDjAGJVUj1BFVURERERERJyiRFVEREREREScotZfERERERERj+k6qrmpoioiIiIiIiJOUaIqIiIiIiIiTlHrr4iIiIiIiNcMaNDfbKqoioiIiIiIiFOUqIqIiIiIiIhT1PorIiIiIiLigBD1/gaooioiIiIiIiJOUUVVRERERETEY7qOam6qqIqIiIiIiIhTlKiKiIiIiIiIU9T6KyIiIiIi4gCNpZRNFVURERERERFxihJVOSWx06fRo2sXqlWpQJEwQ4f27Xnx+QFeh1Vg/PzTj7Rq1pirOnWicvmy3HRjL+LWrfM6LGfETp9Gr27XUiOmIsUjQigeEcJLLwzItc+HH7zPxRc0oGJkScqVKkrDujX45939SNi40ZugHadz7sRef/l5ypcMz3M6dOgQAMnbtvHgff1pcn4dossVp+mF9Xj1hefIyMjwOPrgmT87lvtv68VlF9fkwpgSXBhTgo/efvmY/dauWsEj995Ku4tqcN3VnejQpDYP3H4D6elpufabOvEP+t1wNa0aVKZp7XJ0bn0Bb7/0TLAejnP03vr35Tx2Hdq3p0iY0bHLB51zUhAoUZVTsmjhQsaPG0uZsmW9DqXAGfTVl/zj5ptYvHgRkZGRHD58mJHDh9GhXWu2bt3qdXhOWLJoIRPGj6VMmeOfX7Nnz+bAgf3UrlOXKlWiSdi4kW8HfU3XLlcFMdKCQedc/kVGlqNJ0+a5JmMMqakp3H/fPxny3SC2p6ZQp159tm3ZzNtvvMI9/W7xOuygWbl8CTOmTKRU6TLH3Wfx/Nn0va49438bwf70dGKqVqV4iZLMmDKBgwf2B/b77ouBPHD7DcybNZ2wsDBq1qmPzcoidvKEYDwUJ+m99e/Tsft7dNxcZQhxZHKBElU5JX1uvoXkHXuInTXP61AKlIyMDJ59+gkAuvXoyeAhQ1i0bCUlSpQgOTmZ1189tjJxLurd9xa2pO5m2sy5x93nq68HsXLtBmJnz2fJijX07nMzAGvXrGb79u3BCtV5OudOzeWdOvPHn7G5ptDQUH4dMYydO3cC8OvYyUyeMZ9vfxwOwG+jRjB/7hwvww6aa3v2ZubKzfzw29Q8t1tr+e/jD3BgfzotL23PpPlrGPjJ5/w6ZSEzVmyiVGnfh+GtWzbxzsvPAtDvvoeZvCien/+IZeysv/hu5MSgPR7X6L3179Ox+3t03KQgUKIqpyQyMpKiRYt6HUaBM3/ePFJTUwHo1r0nAJUrV6Z5i5YATJwwzrPYXJKf8ys8PJyB77/LZW1a0qhhXX4c8j0A9Rs0pKy+GQ7QOXdqfvt1BFXLl+T8OlXp06sry5YsAsBmZQX2Mf6L25kcI11M+fPcqAKWLhNJkSLHf26uWbmcuDWrACheoiQ3dr6Unl27cEu3jixfvICQEN/HjYljRnEoMxNjDCnbtnB5s7q0vbAa/7mrDzt3nLtfNOm99e/Tsft7dNykIFCiKhIESUmJgfny5cvnmK8AQGJCQtBjKsg2btzA/HlziYvz/dby4sZNGD1mfK4E4lyncy7/QkNDKV++IjFVq5G8bSsTx//B1Ze3ZdmSRVzeqXPgw9y1ndrToU0zbu3dI3DbLVs2exW2UzbErQ3MTxwzCoBChQqxZMFc7u7blZXLl+Taz1rL6GE/ULpMJPvT05k0djR39u5Cetq+4AcvIuIIg2/UXxcmFyhRPQFjzGXGGGuMKed1LFKwWWtPab2c2Otvvcvu9EwWLFlBm7btWLRwAf1uv4XDhw97HZozdM7lT8/re7MibhNzFq9gxvxl/Dj8NwAOHjzIV59/QrXqNXj9jTdp1/5ywsPC2ZSYyDXXdadU6dIAhBUK8zJ8ZxwZeArgkrYd+T12CZ99OYgiRYtxKDOToYO/AuDw4ez97n/0WUZMmss7nw8BYHPiRqZOHBvcwEVExFlKVE9sJlAJOHf7keS0iImpGphPTk4OzKek+OajY2KCHlNBFxoaSr369XngX/8BYNqUyUz5c5LHUblD51z+1KpTN9dgIh0uv5KyZSMBSEr0VaXr1a/PL6PGsCZhG6s3buX//p+9+46TqjobOP47S+8uSy8CKhYsWEDEih2NBXtvMWo0yavGHmNiEjW2qLFEg1GJvSJqLNiliGBBpYn0IiKgKLBI3fP+McOwwIKw4s5Z+X35zGfv3Htn7jOHM3fmzPPMmb9ex3fffgtA+823qPigE9S0WYvc8lbbbk8IgQYbbUTL1m0A+GJKJoPfpNR+W2+3IwDbbL9jbt20qc7eLWkDFqAgkUsKHKiuRgihWoxxUYxxejQFoR+pU+fOFBVl3vz2efYZAKZNm8aQwe8BsP8Bzli7NoYPH8bgwYNzWcGSkhL6vvJSbnvxSj+BsSGzz62d22+9ialTlpdBv/3m63yT/a7kxm0yg6zhw4blMobz58/nsov+D8h8X/oXh/Wo4IjTtM32O1GvfgMAPhvxKQBz5nzHtKmZtm27yWYA7LrnPrnbjBr+MQAjst8HBmiT3U+SpLAhjcFC5gtsvwd+DWwMzAQeAv4NTABOBM4CugKXAMOBt4DGMcZZIYTTgTuBY4Bbs/fxOnAKsD/wd6AJ8Dxwdozx+1LHvQQ4B2gBjAVuiDE+/EMx77RTpzhw8Afr4dGvH32e7c2VV1xKjJEJ48cDUFhYSGHDhnTu3IVeDz2S5wjTdd+9PfnteecA0Lx5c4qLi5kzZw6NGjVi8Ief0KJFix+4h4qxtCR/54Tn+vTmqisuy/SvCaX6V2FDOu3chSOOPJoTjj2SevXq0aZtO2bM+IoZX30FZDKE7w8dTr169fISe5VUPn4spbL0ubnfL87bsXfapj1Tp0ymVeuNqVWrFmM+H02Mkdp16tD3rYFssWUHdtlhK2bNmkXLVq2ZMnkS8+bOBeDvN93Gmeecl7fYAaZ/t7BCjvP6y89x67V/IsbI1MkTAKjfoJAGGxWy7Q6duP6O+3j0gXu4/k+XANC6zSZ8N3sWc+bMoV79BjzxUn9atWkHwIVnn8QbLz9PQUEBm7TfkikTx7Nw4QK22nZ7Hnn+LapWrWAN3l8AACAASURBVPqTP572zer+5MdYF762lp9tVz6Vqd1qVQsfxhg75TuOitBmq+3iFfc/n+8wADh313Z5b/ef/tUgLdcB55IZrPYDGgM7lNr+d+Bi4ExgMVDWR7s1gIuAk4DqwDPA08AC4CigCOgNnAf8I3uba4Cjgd8Ao8kMhO8NIcyOMb64/h7eT2/unDmMHzduhXWzZ89m9uzZtGzZKk9RVQ5nnnU2tevU4Z+33MzIkSOoXbs2h/U4gmuuvT6ZAUO+zZ0zh/Hjy+5fLVq1YtP27enadVcmTZ7E56MzM4xuuulm7L3vflx6+ZV5G6Smyj73w86/6DKe7/MMo0eNZMZX02m9cRs6d+nKRZf9gc3aZ8p6O+3UifcGD2b82DFUq16d3fbYi/N+dyH7dz84z9FXnOK5c5kyafwK6+Z8N5s5382mafNMXzrxjF9Tt159Hrr3TiaM+5x6detywCFHcMHlf8kNUgFuuON+/v3PG3jx2SeYNGEszVu0ptsBB3PuhVdUyCA1Rb62lp9tVz62W7oKUpnJKAEbTEY1hFAXmAVcEGO8Z6VtbclkVC+OMf6j1PpurJpRfQDYMsY4OrvPzcCFQNMY46zsul5AoxjjISGEOtnjHhBj7F/qvm8DNo8xrvJOJ4RwNnA2QNOmTXd67PHH10cT/CTmzZtH3bppfTJdGaTcbqmfEornzaNOgm2X+utKyn0un1n8tfF98Txq1Umz7RYvTbftFi8oplrNOvkOo0w1q6X9zaeUn68ps93KL+W222fvvfOe2asobbbaLl75wAv5DgOAc7q2zXu7b0gfXXYgkw1d02wra1Nju3DZIDXrK2D6skFqqXUdSh23JvBKCKH0O4pqwMSyDhBj7An0hEzpb9fdu61FWPkxaMDbpBxfqlJut9QHDYMHvkOX3fbKdxirSLH0t7SU+1w+S3/XxifvD6Bj593zHUaZKqr0tzymjhpCq612zncYZUqt9HdlKT9fU2a7lZ9tpxRtSAPVtXkXuTYzsSxZ6XokUya88rplH9cu+3sosPIPF6b97kySJElShVj2O6rK2JAGqiOBhcC+wJgf2PenOG6bGOObFXhcSZIkSaqUNpiBaoxxbgjhn8DfQwgLyUymVATsBLz8Ex/3ZuDm7Oy//YC6wC5ASbbMV5IkSZKUtcEMVLOuAGYDVwGtyHyX9MEKOO5V2WNdDNwNzAE+Bm6sgGNLkiRJqgSc9Xe5DWqgGmMsAa7PXla2Sq+IMb5den2MsRfQa6V9bgZuXmnd5Stdj8Ad2YskSZIkaQ3Snp9dkiRJkrTB2aAyqpIkSZKUKit/lzOjKkmSJElKihlVSZIkScqzgFnE0mwLSZIkSVJSHKhKkiRJkpJi6a8kSZIk5VuA4GxKOWZUJUmSJElJcaAqSZIkSUqKpb+SJEmSlAALf5czoypJkiRJSooDVUmSJElSUiz9lSRJkqQ8C0CBs/7mmFGVJEmSJCXFjKokSZIkJcB86nJmVCVJkiRJSXGgKkmSJElKiqW/kiRJkpQA51JazoyqJEmSJCkpDlQlSZIkSUmx9FeSJEmS8i4QrP3NMaMqSZIkSUqKA1VJkiRJUlIs/ZUkSZKkPAuYRSzNtpAkSZIkJcWMqiRJkiQlwMmUljOjKkmSJElKigNVSZIkSVJSLP2VJEmSpARY+LucGVVJkiRJUlIcqEqSJEmSkmLpryRJkiTlW3DW39IcqCYuAjHGfIexejHN+HySl19JSXr/nytLMcYqBfa58po1d1G+Q1ijJUtjsjG2b1Y33yGs1qyxBcnGt3hJSb5DWKMY042xWlWL8SRVDM82kiRJkqSkmFGVJEmSpDwLmEUszbaQJEmSJCXFjKokSZIkJcB5VpYzoypJkiRJSooDVUmSJElSUiz9lSRJkqQEWPi7nBlVSZIkSVJSHKhKkiRJkpJi6a8kSZIkJcBJf5czoypJkiRJSooDVUmSJElSUiz9lSRJkqQ8C0CB8/7mmFGVJEmSJCXFjKokSZIkJcDJlJYzoypJkiRJSooDVUmSJElSUiz9lSRJkqS8CwQnU8oxoypJkiRJSooDVUmSJElSUiz9lSRJkqQEOOvvcmZUJUmSJElJcaAqSZIkSUqKpb+SJEmSlGcBKHDW3xwzqpIkSZKkpDhQlSRJkiQlxdJfSZIkScq34Ky/pZlRlSRJkiQlxYyqJEmSJCXAjOpyZlS1TiZNnEjt6gW5yz777L3C9bPPPCPfISbtyScep2vnHel+4IG0aNKQE447mnFjx+Y7rGTccdstHNJ9P7bYpDWNGtRiy0035tQTj2XE8GGr7Dt37ly269Ce+rWqUL9WFf599115iDh99rkVffDeAM499Wj26NiODi3r0qFlXe78x7Ur7HPa0d1z2zq0rMtBB+xLh5Z1ObnH/ivsN2vmV1z5+3PZfbu2dGzXkEO67cRD9/2rIh9Ocgb078eRhx9Cm5ZN2WfvvalVLXDNX6/Od1hJ8Ty3/nmeKz/bTilzoKp1Ur1GDTrv3CV32WqrrejQYevc9mbNmuUxurT1uv8+Tjv5BD7+eChFRUUsXbqUPr2fYZ+9dmP69On5Di8J/777Tvq98xYFBQVs3KYt06Z9QZ9nn2G/brsxadLEFfa9+MLfMXHC+PwEWknY51Y1ctgnDHj7NRpsVPiD+7Zu047tdujMFltuxXY7dGbTzbfMbZs/v5jTjurOs088xPziYlq03JjxY0bz9z9dyh03/e2nfAhJG/rRR7za9xUKGzbMdyjJ8jy3fnmeKz/bTqlzoKp10rx5c94ZMCh3ueuuf3H4EUcCUK1aNc7+9Xl5jjBNixYt4qorLwegx5FH8cijjzJ02Cjq1avHjBkzuPH66/IcYRpOPeNMhn02jlFjJ/HRp6O47vqbASguLuaF5/rk9uv99JM89shDHHnUMfkKNXn2ubIddtTxDBn9JU+81O8H9/31+Zfx+P/e4rbb7+Tx/73FX268I7ftyYfuZ8K4MYQQeOyFt3h5wMecdvbvALj3rluYNfOrn+wxpOzEk09hxjdzGDDo/XyHkizPc+uP57nys+3SFRL5lwIHqvpRFixYQM97MqVuxx1/Iq1at85zRGn64P33mTVrFgA9jjgKgBYtWrBzl10AeP21vnmLLSWXXn4lbdq0zV3fbY89c8s1atQAYMaMGVzwu3PZYced+OPVG27m6ofY58q2UcMiatWqvVb73vCXy+nYriFnnHoyf770tysMPvu/9SoAbdptxhYdtgHggIMPB2DJ4sUMHvjOeo68cigqKqJ27bVr3w2V57n1x/Nc+dl2qgwcqP5EQghHhxBivuP4qb300ot8/fXXhBC44PcX5zucZE2dOiW33KRJk1LLTQGYMnlyhcdUGfz77jsBaFhUxBFHHk1JSQnX//06Fi9ezH96PUy1atXyHGG67HM/Ts2atWjSrDkNGzZi+vQveeqRXpx42L7Mn18MwPRpUwFo2KhR7jZFjZe385dfTK3QeFV5eZ4rP89z5WfbqTJwoKpyW7p0KU8//TQABx18CB223voHbrHhirHszyxWt35Dt2jRIs4+8zQeffhB6tevz2NP9KZR48b8687b+eSTT7jh5ltp337zfIeZNPtc+V129Q28N3Iqz7/5Pm9+MJrjjj8BgKmTJ/L6yy8AUFYz2rZaF57nfjzPc+Vn26UpAAUhjUsKHKiq3J5+8oncl+0vuuTSPEeTttatN84tz5gxI7c8c2Zm2ZLp5b6eNYtDD9qfxx99mGbNmvNi3zfputvuAAwf9gkAl118Ic0b1afLjtvmbnfl5RezX7fd8xJziuxz5ddhm45Uz5ZghhDotve+uW1ffpHJQjRv2QqAb7Klc5nlmbnlZi1aVUSoqqQ8z60fnufKz7ZTZVDpBqoh46IQwpgQwsIQwtQQwt+z27YNIbweQvg+hPBNCKFXCKFBqdv2CiH8L4RwWQhhegjhuxDC9SGEghDC1SGEGdn1l610zAYhhJ7Z7XNDCO+EEDqttM+pIYRJIYT5IYT/AU1LbWsbQlhaxm3OCiHMCiFU/0ka6yd26y2ZCSC67robXXfdLc/RpK1T584UFRUB0OfZZwCYNm0aQwa/B8D+B3TPW2wpGf3ZKPbesyuD3h3Adh23563+79Fx+x1W2a+4uJji4mLmz5+fW7do0SK+/37+KvtuqOxz5fP1rBn0+vcdFM+bm1vX7523c8stW7cBYPdumZ+qmTRhLKNHDgfg1ZeeA6Bq1arssvteFRSxKhvPc+uP57nys+1UGYTKluLPDkrPBX4P9AMaAzsAvYAxwPvAVUBD4F5gWIzxqOxtewFHAo8Ct2Vv9wjwKjAUeADYB7gb6BRj/DCEEID+wHfAX4BvgNOA84EtYoxfhhC6AIOyx30K2Bu4DmgYYwzZY/cFxsUYc9PihhAGAe/FGC9c3ePdcadOceB76c2e+NqrfTn8kIMAeKr3c/zikEPzHNGKQoK/lnzfvT357XnnAJnZk4uLi5kzZw6NGjVi8Ief0KJFizxHmLF4SUnejr1Txw6M+Xw0AB223obatevktp12xi857Yxf8f6gfnTumpl8ZNKkiWy75aYA3HTL7Zxz7m8qPuisalXT+9yvsvS5CTOKK+xYr730HDdfexXEyJRJEwCov1EhDTYqZLsdOnHBZX9m/122pmrVqmzcdhPmz5+f+z7qJu234JlXBlKjZk2Ki+dx9IG7M2nCWGrWrEWzFq2YOH4MAGf/7mIuuPzqCnk87ZrU+eGdKlCfZ3tz5RWXEmNkwvjMz6oUFhZS2LAhnTt3oddDj+Q5wgzPc+WX2rmuspznUlRZ2q5WtfBhjLHTD+9Z+W2xzfbx7qffyHcYAOy7VaO8t3vVfB58XYUQ6gIXAhfEGO/Prh4LDAohnAXUBU6JMc7N7n828FYIYbMY47JfL/4O+E2McSnwWQjhIqBFjHHZR0efhxAuJzPY/DD7d3ugcYzx++w+V4UQDgVOAW4kM2h9I8Z4ban76AycWSr8e4F7Qwi/jzEuCCFsBewCnLW+2qci3fqPmwBo06YNB//ikDxHUzmcedbZ1K5Th3/ecjMjR46gdu3aHNbjCK659vpkXgzybeGCBbnlkSOGr7BtvwMOrOhwKj373KrmzZ3LlIkr/i7lnG9nM+fb2TRr3oLCokac83+X8G6/N5k8cQILF3xP69Ybc+Dhx3DmuRdQo2ZNAOrUqcuDz7zCrX//M++88QpTp0yk3abtOe6UX3HKrzbcn+maO2cO48eNW2Hd7NmzmT17Ni1bWg4NnufWN89z5WfbKXWVKqMaQtgZGAxsHmMcs9K2W4DOMcY9Sq2rDnwPHBFjfD6bUW0eYzyw1D4vAt/GGE8qtW4w8E6M8dIQwiXADcDKtTY1gftijOeEEIYCL8QY/1TqPs4E/lMqo1oNmApcGGN8NIRwE7BnjLFLGY/zbOBsgKZNm+702GOPr2NLVZx58+ZRt27dfIexqvQSqitItt0oe5KYlBTPm0edBNsuwST+ClLucwsX5y+7tTYWLSimes20MpfL1KiWVnartJT7nOe58kv5XJdyn0tdym23z9575z2zV1G22Gb7eM8zaWRU99nSjOq6WtPpMQCre+kpvX5xGdvKWrfs1b8A+ArYg1XNWYu4MncY4+IQwoPAL0MIT5LJxv5pNfv2BHpCpvQ35e86vTfgnSS/i5Vi6W9pgwa8Tdfdu+U7jDLlsyRubZQuiUtJauVwK0u5z1Vk6W95TBoxmDZbr/KZYhJSK/0tLeU+53mu/FI+16Xc51Jn2ylFlW2gOhJYCOxL5vuoK2/7ZQih3rLSX2BXMgPNUT/imB+RmRipJMY4fjX7jCRTxlvaytchU/47CjgPqAekmyqVJEmSpDypVAPVGOPcEMI/gb+HEBaSmUypCNgJ+C+ZyY4eDCH8CSgE/g30LvX91PJ4HRgIPBdCuBT4DGgGdAdejzH2B24H3g0hXAE8DXQDjigj/s9DCAOAm4DHY4xzVt5HkiRJ0oYppP79tQqUbv3G6l1B5jujV5HJTj4DtIoxzgcOBOoDQ4DnyMzE+8sfc7CY+RLvwcCbZDKio4EngS2Aadl93iMzcdK5wKdkZha+ejV3eR9QPftXkiRJkrSSSpVRBYgxlgDXZy8rbxtGpix4dbc9vYx1q0xZG2PcZaXrc8nM7Hv+Gu77ATI/b1PanWXs2hwYE2Pst7r7kiRJkqQNWaUbqFZW2Z/W2ZLMYPfaH9hdkiRJ0gYkAAVW/uZUxtLfyupOMt91HUjmu7OSJEmSpDKYUa0g2bLj0/MchiRJkiQlz4GqJEmSJOVdcNbfUiz9lSRJkiQlxYyqJEmSJOVbgGBCNceMqiRJkiQpKQ5UJUmSJElJsfRXkiRJkhJg5e9yZlQlSZIkSUlxoCpJkiRJSoqlv5IkSZKUZwEocNrfHDOqkiRJkqSkOFCVJEmSJCXF0l9JkiRJSoCFv8uZUZUkSZIkJcWMqiRJkiSlwJRqjhlVSZIkSVJSHKhKkiRJkpJi6a8kSZIkJSBY+5tjRlWSJEmSlBQHqpIkSZKkpFj6K0mSJEkJCFb+5phRlSRJkiQlxYGqJEmSJCkplv5KkiRJUgKs/F3OjKokSZIkKSlmVCVJkiQpBaZUc8yoSpIkSZKS4kBVkiRJkrTWQgitQwhvhRBGhRBGhBDOz65vGEJ4LYQwJvu3MLs+hBBuDyGMDSF8GkLY8YeO4UBVkiRJkvIsACGRf2thCXBRjHErYBfgNyGEDsDlwBsxxvbAG9nrAAcB7bOXs4G7f+gADlQlSZIkSWstxvhljPGj7PJcYBTQEjgc+G92t/8CPbLLhwMPxoz3gI1CCM3XdAwHqpIkSZKkcgkhtAV2AAYDTWOMX0JmMAs0ye7WEphS6mZTs+tWy1l/K4EY8x3B6kXSjC84Y1q5laT4H1pKJP0YtW5qVa+S7xDWqCCEZGNctKQk3yGsVozpxle9atqf04cA1RKNsaQk3fNvjOnGV1DgGxOthZDUe9hGIYQPSl3vGWPsufJOIYS6wDPABTHGOWH1D6CsDWt8wjpQlSRJkiSVNivG2GlNO4QQqpEZpD4SY+ydXf1VCKF5jPHLbGnvjOz6qUDrUjdvBUxb0/2n+XGdJEmSJClJIZM6vQ8YFWO8pdSm54HTssunAc+VWn9qdvbfXYDvlpUIr44ZVUmSJElKQDqVvz9oN+AUYFgI4ePsuj8A1wNPhhDOBCYDx2S3vQQcDIwF5gNn/NABHKhKkiRJktZajHEAqx9X71vG/hH4zbocw4GqJEmSJKWgEqVUf2p+R1WSJEmSlBQHqpIkSZKkpFj6K0mSJEl5FwjW/uaYUZUkSZIkJcWBqiRJkiQpKZb+SpIkSVICgpW/OWZUJUmSJElJcaAqSZIkSUqKpb+SJEmSlGche1GGGVVJkiRJUlIcqEqSJEmSkmLpryRJkiSlwNrfHDOqkiRJkqSkmFGVJEmSpAQEU6o5ZlQlSZIkSUlxoCpJkiRJSoqlv5IkSZKUgGDlb44ZVUmSJElSUhyoSpIkSZKSYumvJEmSJCXAyt/lzKhKkiRJkpLiQFWSJEmSlBRLfyVJkiQp3wLW/pZiRlWrNaB/P47qcShtWzejTo0C6tQo4Nq/Xb3CPkuWLOG6a/7C1ltsykZ1a9B+k9ZcctEFzJ07Nz9BJ+7JJx6na+cd6X7ggbRo0pATjjuacWPH5juspDz4wH10260LbVs2pnGDWmy5SWuOPeJQ3h3YP7fP4sWLuf7av9KxQ3saN6hFh83acPklv7fflXLbrf+g+/77sEmbljSoU4NjjzmGE48/huHDhuU7tLwa/O4AzjzxSDp1aEO7xrVo17gWt914zQr7LF68mH/edC17dtqKzVvU56QTjuWvV17MvHkr9q8Xn3uGY36xDztu0YotWm3Erh0344Jzz2DShPEV+ZDy5o7bbuGQ7vux5SatadygFlttujGnnngsI4Yv72Pjxo3l7F+eSofN2tC4QS3atWrCgfvsSe+nn8xj5OnyNWLdFRcXc+UVl9Jx6y34xcEH0axRAzrvuB03Xn8tS5cuzXd4yRrQvx9HHn4IbVo2pVa1wD577801f70632FJK3CgqtX6eOhHvPbqKzQsbLjafW668Uau/dtfmDx5Eu3abcLMGTP41523c8yRh1FSUlKB0aav1/33cdrJJ/Dxx0MpKipi6dKl9On9DPvstRvTp0/Pd3jJeG/Qu3zxxRRatdqY9ltsyaxZM3m178sceehBTJo0EYDf/PpXXH/tX5kyeRJt223CzJkzuOeu2zn+6MPtd1l333UH77z9FgUFBbRp25ZZs2bx7DNP022PrkyaODHf4eXNiE+H8s6br7LRRoWr3efS88/hthuv4Yspk2ndph3ffvstD/S8i1+ddFSufw3s9xa/O+sUPhgyiCpVqrLpZlvw1fQvee7pxzn9+MMr6uHkVc+776T/O5k+tnGbtkyb9gXPPfsM+3fbjUmTJlJSUkKPgw/gicceYebMGWzZYWtKSkp4b9BAzjjlBAYPejffDyEpvkaUz/m/O4/bbrmZsWPH0LRpUzYqLGTkiOH85c9Xccs/bsx3eMka+tFHvNr3FQobrv49nvIjJPIvBQ5UtVonnHQK02d9R793h5S5fejQj3j99dcAuOkftzF02CgeffxpAPr3e4cXnu9TYbGmbtGiRVx15eUA9DjyKB559FGGDhtFvXr1mDFjBjdef12eI0zHLbffxZiJ0xgw+EPeHTKUW27/FwALFizg46EfMebzz3nysUcAuP6mW3n/4xE8+GgmOzOwfz/+9/xzeYs9JWf88ld8NmYCYydM4dMRozn33HOBTPbhuT7P5jm6/Dni2BMZNn4Gz706oMztwz8ZSp+nHgPgT9fezBuDPuGqP10NwOB3+/PqS88D8P57A4kxAvDim4N46e3BHHfyGQB8NX3aBvGByalnnMmnn41j5NhJfPjpKK69/mYg08f+91wfZsyYweTJkwC4/I9/pv+gD3iq9wu520+ZMjkvcafI14jyGzigHwD77ncA9z/Qi09HfE69evUAmDJpUj5DS9qJJ5/CjG/mMGDQ+/kORVotB6paraKiImrXrr3a7a/1fTm3fPgRRwHQ/eBfULNmTQBef7XvTxtgJfLB++8za9YsAHpk26pFixbs3GUXAF5/zbZapmbNmgwc0I/99tqVXTtvz0Xn/ya3focdd2LIkOUfnBzW40gADjxoeb978/VXKz7oBF3+hz/Spm3b3PWOHTvmlmvUqJGHiNJQ2LCIWms4r739xvL+c9AhPQDYucsu1Mj2r35vvQ5Apy675vb7xT5dObhbF554+AEaFjXiun/cSUHBz//l9ZLLr6RNm7a567vtsWduuXqNGjRq1Ig2bdsBcP01f2GPrp045shDqVKlCsccd0Lu+StfI36MXXfbA4A3Xn+VX55xOtttvTlz586l885duPjSK/IcXbp+6D2elIKf/yupfjJTp0zJLTdp0gSAgoICiho1AmBKqe0buqlTV22rzHJTAKZMNrNQ2uxvZvPB+0MYOWI4ixcvpnGTJvR+4WU23rgNM2fOyO3XuHS/K8r0u6lmacr07LOZLGpRURFHHn1MnqNJ15fTpuaWixov718NGxYBMC37XN59r3248z8PU7t2HWbN/IpRIz6lpKSEVhu3od2m7Ss+8AT0vPtOABoWFXHEkUdTtWpVXnr1LTrusCOLFi3i04+H8u3s2TTYaCM6br8j1atXz3PE6fA1ovzuursnJ5x0CgCTJk1iyuTJVKtWjW222Tb3fkSqLAIQQhqXFPysB6ohhLdDCHfmO46fq2Vlb2u7fkNmW62bQw47nNnFixk9fipn/fo3zJwxg7NOP4UpUybbluto0aJFnHn6qfTt25f69evzxNN9aNy4cb7DStba9q/PRg7nz1f8nkWLFvJI75cZNmEGhx99PJ8O/ZDTjzucuXPnVES4SVi0aBHnnHkajz78IPXr1+fRJ3rTqHFjSkpKuPD/zuWToR9x5tm/ZtqsOTz21LN88/XX/PGKS3jisYfzHXoyPK+V35133MZjjzxE55278NTTzzD001EUNmzIA/f/h0suOj/f4Un6EX7WA1X9tFpvvHFuecaMTJarpKSEb77+GoBWrVrlJa4UtW69alsBuexgq9atKzym1IUQaNqsGVdd/TcAvvhiKg/c++9chgFgZul+902m37VsZVsuM2vWLA46YF8efeQhioqK6Pv62+y2++75DitpLVou7z9fz1zev2bP/gaA5i0z57V7br+Zr2fOoN2m7dl1j27UrVuPHkcdD8C3s79hxKcfV3Dk+fH1rFkcdtD+PP7owzRr1pz/9X2Trrtl+thHH33Eq69kviJy0imnU6dOHQ4+5LBcJcTbb76Rt7hT42tE+cyfP5+/Xf0nAA7vcSQNGzZk8y22YI899gLgLfuYVKk5UF0HIYSCEEKVMtaXq35pdfdXWex/QPfc8nPPPgPAKy+9yIIFCzLbD+xe5u02RJ06d6aoKFM62CfbVtOmTWPI4PeAFdtyQzZ//nz+e/9/+P7773PrXnnpf7nl4vnz6bxz59z15/v0BqDvy8v73b77H1hB0abts1Gj2HO3Lrw7cAAdO27Pv+6+m+132CHfYSVvr333zy2//L/MhHBDBr/Hwmz/2mufzPa5czIZ02lTpzBzxlcAfPrJR7nbrul7sD8Xoz8bxT57dmXQuwPYtuP2vNn/PTpuv7yPFRcX55Y/+iAzYcvEiROY/U1m0F+7Tp2KDThhvkaUz/z581myZAkAH334AZDJ8C/7iaQ6te1jqnxCIpcUhJ9zWUkI4W1gJPAtcDZQAjwIXBpjLAkhFAK3AYcBNYGBwPkxxhHZ258O3AkcC9wIbAlsD1wMNAL6A78DqscYm5T3/mKMw1f3GHbcqVPM14xsz/XpzR+vuIwYIxOyvwtYWFhIYWFDOu3chQf++zCHHrQfb775JgUFBbRvJBaSyAAAGyhJREFUvznjx49j8eLF7Lrb7vR9/e28TShSUJDKU2y5++7tyW/POweA5s2bU1xczJw5c2jUqBGDP/yEFi1a5DnCjIWL8/e7c99++y1tWzSiRo0atNtkUxYuXMiE8eMAqFatGq+8/g5x6ULuueffPP3k4xQUFLBZ+82ZkO13XXfdjRdffSsv/a5GtbQ+c+q4zZZ8Pno0AFtvvQ0lJUupW68+kJkR+Iwzf5XP8FYw/dsFFXasV/7Xh+v/ciWRyOSJEwBosFEhG21UyPY7dea2e3px/jmn8XzvJykoKKDdpu2ZNGEcS5YsoVOXXXni+dcoKCjgqUcf5NLzM8/nevUb0LxFSz7/bCQAW2y1NS++NZgqVX76PtGwbv6+59mpYwfGfJ7pYx223obapQYFp57xS1o1b8ovf3kG386eTQiBrTpszZTJk5g7dy5VqlTh5dfepkvXXVd39z+p6lXT+5y+srxGlJSk9b7xwP26MaB/Zubf5s1bEIlM//JLAP527fX8/uJL8xleTmrvS/o825srr7g08x5vfKn3eA0b0rlzF3o99EieI1yuVrXwYYyxU77jqAjbdNwxPvVy/x/esQJ0aFk37+2e3pl6/TsJWALsCvwWuAA4LrutF9AFOBzYGZgPvBJCqFXq9jWBPwLnAB2AZXOd7wVsB3QH9l0P95ecOXPmMH78uNwgFWD27NmMHz+OL6d9AcBll1/BFVdeRevWGzN+/DiKGjXi3PN+yzN9/rdBzHq5Ls4862zu/+/DdOy4PbNmzSKEwGE9juDNdwYm8wYk32rWrMmxJ5xEy1atmTxpIlMmT6JZs+YcevgRvPza2+zUeWcA7r73AS694o+0ar0xE8aPo6ioEWef+1ue6P2C/S5rWYYZYMSI4YwaNYr3hwzm/SGD+eKLqWu45c/bvLlzmTRxfG6QCvDdt7OZNHE807+cBsDNd/6H/7v4D7Ro1ZrJE8dTv34DTvvVudz/2LO5/nXMiady2z0P0GnnrlSrVo1JE8fTpu0mnH7WeTz8zEsVMkjNt4Wl+tjIEcP54P3Bucu0L76gQYMGvPpmf449/kRatWrNuLFjqF2nDvvufwAvvPJ63gapqfI1onwef+pZfn/xpbRvvzmzZ3/Dgu+/Z8edOvGvf/+HCy+6JN/hJWvunDmMHzcuN0iF7Hu8ceOYln2PJ+XbhpBRrRFj7Fpq3WtkBoc3AJ8De8UY+2W3NQAmAxfFGP+TzYA+AHSKMX5Y6j56Ab8AWsUYF2bXtS/v/ZUR99lkMsA0bdp0p0cfe/zHN8ZPpHjePOrUrZvvMFaRymxlqzNv3jzqJthuAIl9WL6K+fPmUTvBtkvsw/JVpNznFi9Ju9Mt+H4eNWul2XZVq6Tb8VJ9fQBfI36MlN822ufKL+U+t8/ee+c9s1dRtum4Y3zqlUQyqi3yn1Gtms+DV5BPV7o+DWgCbEWmFHjQsg0xxu9CCMPIZDqXWQKUNSvG8GWD1Kwfe385McaeQE/IlP7usttea9o9r94b+A4pxpdaic3KBg14m667d8t3GGXKZ+nv2vjgvf502mWPfIexitRKf1eWcp+ryNLf8vj840Fsvn3XH94xD/JZ+vtDPhjUj05d9/zhHfMgxdLf0lJ+vqZW+ltaqu9JwPclUnlsCAPVxStdj2RKntd0xih9Fl4YYyzrnXvxStd/7P1JkiRJ2oCFZKYyyr+0P1L8aY0k8/hLlwXXB7bNbsv3/UmSJEnSBmmDHajGGMcAzwH/DiHsEULYFngYmAM8mu/7kyRJkqQN1QY7UM06AxgCPJ/9WxvoHmP8fo23qrj7kyRJkrSBCCGNSwp+1t9RjTF2K2Pd6aWWZwOnreH2vcj85Mxq72Ol9eW6P0mSJEnScht6RlWSJEmSlJifdUZVkiRJkiqLRKpuk2BGVZIkSZKUFAeqkiRJkqSkWPorSZIkSSmw9jfHjKokSZIkKSlmVCVJkiQpzwIQTKnmmFGVJEmSJCXFgaokSZIkKSmW/kqSJElSvgUIVv7mmFGVJEmSJCXFgaokSZIkKSmW/kqSJElSAqz8Xc6MqiRJkiQpKQ5UJUmSJElJsfRXkiRJklJg7W+OGVVJkiRJUlLMqEqSJElS3gWCKdUcM6qSJEmSpKQ4UJUkSZIkJcXSX0mSJElKQLDyN8eMqiRJkiQpKQ5UJUmSJElJsfRXkiRJkvIs4M+olmZGVZIkSZKUFAeqkiRJkqSkWPorSZIkSSmw9jfHjKokSZIkKSlmVCVJkiQpAcGUao4ZVUmSJElSUhyoSpIkSZKSYumvJEmSJCUgWPmb40A1cQEoKEi3x4aQdnxad9Wrpl1oUUD6MWrdNKpXPd8hrNH4KiHZGKtWSfe5EILP1Z+jlF/zU35P8sU33+c7hDVatCQmH6M2PL6CSJIkSZKSYkZVkiRJkhKQZk1AfphRlSRJkiQlxYGqJEmSJCkplv5KkiRJUr4FZ/0tzYyqJEmSJCkpDlQlSZIkSUmx9FeSJEmSkmDt7zJmVCVJkiRJSTGjKkmSJEl5FnAypdLMqEqSJEmSkuJAVZIkSZKUFEt/JUmSJCkBVv4uZ0ZVkiRJkpQUB6qSJEmSpKRY+itJkiRJCXDW3+XMqEqSJEmSkuJAVZIkSZKUFEt/JUmSJCkBwXl/c8yoSpIkSZKSYkZVkiRJklJgQjXHjKokSZIkKSkOVCVJkiRJSbH0V5IkSZISYOXvcmZUJUmSJElJcaAqSZIkSUqKpb+SJEmSlGchZC7KMKMqSZIkSUqKA1VJkiRJUlIcqGqdPfnE43TtvCOF9Wpx+GGHccJxRzNu7Nh8h1UpLGu77gceSIsmDW27dXTS8ceyzz57U7t6ASced0y+w6kU7HNrNqB/P44+4lA22bg59WpWoV7NKlz3t7/ktj/8YC/23Wfv3LaVLw8/2Ct/wSfmtlv/Qff992GTNi1pUKcGxx5zDCcefwzDhw3Ld2iVhs/X8rHdVjRk0ADOOulIumzdls2a1mazprX5503X5LbPmzeXa666lB4H7EbnDhuzdZuGnHHayVxz1aV8PWtmbr9vZ3/DOacewx47bs7WbRrScdOmHLj7Dtzy96tZuGBBPh7aBiEk8i8FDlS1Tnrdfx+nnXwCH388lGbNm1NSUkKf3s+wz167MX369HyHl7TSbVdUVMTSpUttu3Xw4H8f4NneT+c7jErFPvfDPvl4KK+/2pfCwoZlbm/UuDFbbbUVnXbukru0atU6t71Z8+YVFWry7r7rDt55+y0KCgpo07Yts2bN4tlnnqbbHl2ZNHFivsNLns/X8rHdVjXi04/p99ZrbFRYWOb2b7/5hl4972TU8E8pLGxI/foN+HLaNHr1vJPTjjmEkpISAObNnUu/t16jRo2atN9iK2rXrs24MaP51203cs1Vl1TkQ9IGyoGq1tqiRYu46srLAehx5FGM+nw8D/TqRb169ZgxYwY3Xn9dniNM18pt98ijjzJ02Cjbbi2NHzeOiy88ny67dKVx48b5DqdSsM+tneNPPJlpM7/lnYGDy9ze/aBfcOdd/+Ktfu/mLm3atgNgiy23Yt/9DqjIcJN2xi9/xWdjJjB2whQ+HTGac889F4Di4mKe6/NsnqNLm8/X8rHdytbjmBP4eOxX9O7bv8ztNWrW4LI/XcsHn03l1YEf03/oGHbdbXcAPhs5jFEjPgWgectWfDp+Jq8P+pQ+rw6k/9AxtN64LQAfDnmvQh7LBikkckmAA1WttQ/ef59Zs2YB0OOIowBo1KgRO3fZBYDXX+ubt9hSV1bbtWjRwrZbC0uWLOGM006moKCAB/77MAUFnrbWhn1u7RQVFVG7du213v/9IYMZOKAfABf8/mKC0zPmXP6HP9Kmbdvc9Y4dO+aWa9SokYeIKg+fr+Vju5WtsGERtdZwXmvcpBln/eZC6tVvAEDVqlXZeuttcturV888X6tUqUK1atW4+Le/4sgD92DPHTdnyuSJAHTq0vWnewBSlj9Po7U2deqU3HKTJk1KLTcFYMrkyRUeU2Vh25XftX/7C+8PGcz9vR6ibbt2+Q6n0rDP/TRu/ceNALRo2ZLjTjgpz9Gk7dlnM1nUoqIijjza75Svic/X8rHd1o958+by2quZQX3nrrvTfoutVtg+euQwRo1Y/l3zHsecyFXX/qNCY9SGydREGUII3UIIMYTQKN+xpCTGuE7rtZxtVz4ffvgBN994PSeceDLHn+igYF3Y59a/MWM+58UXngfgt/93IdWqVctzRGlatGgRZ55+Kn379qV+/fo88XQfS/Z/gM/X8rHdfrzpX37BiT0OYOLECWy2xVbc3vPBVfZ54c3BjJj0DY/2eZUmTZvR56lHueuWv+ch2g1Dvit+E6r8daD6Uwsh/GzeybRuvXFuecaMGbnlmTMzy61at17lNsqw7cpn5IjhLF26lGd7P03jwno0LqyXa78Xnu9D48J6fPfdd3mOMk32ufXv9lv/QUlJCRtttBFnnHlWvsNJ0qxZszjogH159JGHKCoqou/rb7Pb7rvnO6zk+XwtH9vtxxn+6VCO6r4nI4d9Qoett+GxPq/SuEmzMvetUbMmO3fdnV/0yFRH3P3Pm/h+/vyKDFcboEozUA0hHBRCmBtCqJq93j6b9by71D7XhhBeyy53CCG8mL3NjBDCYyGEZqX23TaE8EYIYU52n09CCHuHENoCb2V3m5k9Rq/sbUII4dIQwrgQwvchhGEhhJNL3Wfb7P4nhBDeDCF8D5wTQjg9hDAvhLBvCGF4CKE4hPBWCKFS1TF26tyZoqIiAPo8+wyQeVMyZHDmC/X7H9A9b7Glrqy2mzZtmm23lhYsWEBxcTHFxcW5T8qXLl26wnWtyD63fn01fTqPPfIQAGedcx5169bNc0Tp+WzUKPbcrQvvDhxAx47b86+772b7HXbId1iVgs/X8rHdyu/Vl57jhMP256vpX3LYkcdx/Y03U9iwaIV93n79FUaPHJ67Pm/eXIYMykzQtHTpUhYu9Cdq9NMKleVNXgihLjAb2CPG+F4I4SzgOuDrGOOW2X0GAi8B9wPDgPuAXkA14FqgKbBLjLEkhDAM+AS4BlgCbAtMB4YAhwPPAFsD3wDfxxi/CyFcCxwNnA+MBroC9wLHxhhfzA5yJwCTgIuBD4HFwH7Z/d4B/gAsAP4LzIgxHrimx73TTp3iwMEflLvd1rf77u3Jb887B4C27doxc8YMiouLadSoEYM//IQWLVrkOcJ0lW675s2bU1xczJw5c5Jru9TPCe1aN+err76ixxFH8egTT+U7nJwUJ9WpLH1uydKSvB37uT69+dMfLifGyIQJ4wEoLCyksLAhnTrvzH3/fZgh7/bjxZde4Zabb6BmzZqM/HwCjUt9Hy6fqlZJ5/PmjttsyeejRwOw9dbbUFKylLr16gOZGYHPOPNX+QwveZXl+ZqaytJuX3zzfYUdq++Lfbjhr38kxsiUSRMAaLBRIQ02KmT7HTtz2Z+vZfft2xNjpEqVKmzTcUcWzp9HjdqZD+D+csNtbLPdDlzzx0vode9dNGrchMZNmjJ54gSKi+cBsF/3Q7jnv09WyOPZrGntD2OMnSrkYHm2/Y47xTf6lz0LfUVrVLda3tu90kymFGOcF0L4CNgbeA/oBtwJXB5CaA58B3QGLgXOBT6JMV627PYhhFPJDDo7kRmMtgFujjF+lt1lbKl9v8kuzogxzsquqwP8Hjggxrhsvu8JIYSdgd8AL5YK944Y49Ol7g8ybf2bGOPo7LqbgQdCCAUxxvy9S1tHZ551NrXr1OGft9zMZ5+NomrVqhzW4wiuufb6ZF4MUlW67UaOHEHt2rVtO/2k7HM/bO6cOYwfP26FdbNnz2b27Nm0aNkKgPnz53P/f/4NwEmnnJbMIDU1CxYsz66MGDF8hW0HHGhm64f4fC0f221V8+bOZfLE8Sus++7b2Xz37WyatWjJ4kWLV6hO+uSj91e5PcDOu+7OiGEfM27M54wZPYrq1WvQYduOdP9FD8489/yKeTDaoFWajCpACOEGYPsY44EhhKnAkcBNwD3ALKAPsFH27wHAwpXuog5wYozxsRDC1cCVQH/gDeCZZYPWEEI3MuW/jUsNVDuTGeDOB0o3WjVgYoxxi1IZ1W4xxndKxX06cE+MsWapdXsDbwJFMcZvSt0fIYSzgbMBmjZtutNjjz++rk1VYebNm2cJXDkk3W6JnxKSbbv0EqorSLbdgNRfhornzaNOom2XYCI/J+U+lzrbrnxSbrdFS9I+0S38fh41aqXZdt333yfvmb2KYkZ1RZUmo5r1NvCbEEIHoB6Z0tq3yWRZZwLvxhgXhxAKyGQ4Ly7jPr4CiDFeHUJ4BDgIOBD4cwjh1zHG+1dz7GX1VYcCK893vnil68Vl3H7JSteXnbFWqduKMfYEekKm9Lfr7t1WE1L+DRrwNinHl6qU2y31D6/eG/AOu+y+V77DWEWKpb+lpdzn8ln6uzaGvNuPnXfdM99hlCml0t+VpdznUmfblU/K7VaRpb/lMfbT99hsu13yHYYIhNQ/+a5AlW2g2h+oQaa8d0CMcWkI4W0yg7oZZL6fCvARcCwwKca48iAyJ8Y4BhgD3J6dlOlXZL7fuii7S5VSu48kk6FtE2N8c709IkmSJEnSCtL9KLYMMcZ5ZAahJ7N8Zt5BQGugC5nsKsBdQAPgiRBClxDCJiGE/UIIPUMI9UIItUIId2V/L7VtCKELsDuZwShkJkOKwC9CCI1DCHVjjHOBm4GbQwi/DCFsFkLYPoTw62ypriRJkiSVSyDzlY4ULimoVAPVrLfIZDrfBogxLiAzudJCMt8hJcY4DdgNKAFeAUaQGbwuzF6WAoVkZt4dDTxLZsD7++ztvwD+TGam4K/ITNoEcBVwNZmS4hHAa8BRZL6XKkmSJElaDypb6S8xxsuBy1da162M/caQ+SmZ1TnxB47zN+BvK62LwB3ZS1m3mUgZU6rEGHuR+Zmc0uveLmtfSZIkSdrQVcaMqiRJkiTpZ8yBqiRJkiQpKQ5UJUmSJElJqXTfUZUkSZKkn6NUZtxNgRlVSZIkSVJSHKhKkiRJkpJi6a8kSZIkJSD465U5ZlQlSZIkSUkxoypJkiRJ+RacTKk0M6qSJEmSpKQ4UJUkSZIkJcXSX0mSJEnKs5C9KMOMqiRJkiQpKQ5UJUmSJElJsfRXkiRJklJg7W+OGVVJkiRJUlIcqEqSJEmSkmLpryRJkiQlIFj7m2NGVZIkSZKUFDOqkiRJkpSAYEI1x4yqJEmSJCkpDlQlSZIkSUmx9FeSJEmSEmDl73JmVCVJkiRJSXGgKkmSJElKiqW/kiRJkpQCa39zzKhKkiRJkpLiQFWSJEmSlBRLfyVJkiQpAcHa3xwzqpIkSZKkdRJC6B5CGB1CGBtCuHx9378DVUmSJEnSWgshVAHuAg4COgAnhBA6rM9jWPorSZIkSXkWgFB5Kn93BsbGGMcDhBAeBw4HRq6vA5hRlSRJkiSti5bAlFLXp2bXrTdmVBP30UcfzqpVLUzKdxxr0AiYle8gKiHbrfxsu/Kx3crPtisf2638bLvysd3KL+W2a5PvACrKRx992LdWtdAo33Fk1QwhfFDqes8YY89S18vK/cb1GYAD1cTFGBvnO4Y1CSF8EGPslO84Khvbrfxsu/Kx3crPtisf2638bLvysd3Kz7ZLQ4yxe75jWAdTgdalrrcCpq3PA1j6K0mSJElaF+8D7UMI7UII1YHjgefX5wHMqEqSJEmS1lqMcUkI4bdAX6AKcH+MccT6PIYZVf1YPX94F5XBdis/2658bLe1EEIYHkK4utT1icCEPMTRKYQQQwhtK/rY65F9rvxsu/Kx3crPttM6izG+FGPcPMa4aYzx2vV9/yHG9fqdV0mS1qsQQi/gtOzVJWRmGewN/DnGWLyejzUceDrGeHX2emOgOMY4fy1uezpwZ4yx7nqIoxOZsqp2McaJP/b+JEmqbCz9lSRVBq8DpwDVgD2A/wB1gHNX3jGEUC3GuHh9HDTGOHN93I8kSVo3lv5KkiqDhTHG6THGKTHGR4FHgB4hhG7ZEtmDQwhDQgiLgAMBQgiHhhA+DCEsCCFMCCFcm53wgez2JiGE50II34cQJoUQfrnyQUMIE0MIF5e6Xj+EcHcI4cvs/Y4KIRwXQugGPADUycYTl5UQhxCqhxBuCCFMDSEUhxDeDyEcuNJxuocQPsveZ39g8/XfhJIkVR5mVCVJldH3ZLKry9wAXASMBeZmB4KPAOcD/YCNgXuAGsCygWcvMr/Ptx8wH7gVaLu6A4YQAvAyUAicAXwObAHUBN4FLgCuAzbN3mRe9u8D2XUnkpnO/2DghRBC5xjjJyGE1kAf4F7gLmA74JZ1aw5Jkn5eHKhKkiqVEMLOZAZ9b5RafXWM8dVS+1wJ3BRjfCC7alwI4TLg4RDCJUB74CBg9xjjwOxtTgPGr+HQ+wFdga1jjKOy63L7hxC+A2KMcXqpdZsCJwBtY4yTs6vvDCHsB5wDnEemfHky8H8xM3HEZyGEzYG/rXWjSJL0M+NAVZJUGXQPIcwj87pVDXgO+B3QIbv9g5X23wnYOTs4XaYAqAU0A7YCSoAhyzbGGCeF8P/t3T2MTFEYxvH/swWiVqCQ0NhNFIhNaCQKIdHI2kpFI1qJiNaWW9HRKYRCVBQUSCQ+C6LZRSQ+Cgq9TUgcxbkjs+Iug8Sd8f9Vk7nzvvfkdk/OnPdmqZeVbwHe94XUX7EVCDBXN2S/WQ7caj5PAA/K4umG9we4hyRJI8egKkkaBneAI8Bn4F1vWFKSXlD9fvrvGHAKuPyDXh+o4XFQv1MzBhRgkrr2fgt/0FeSpJFmUJUkDYOPpZSXA/z+MTDeVpNknhoiJ6nnS0myDlj7k55rkky07Kp+or70vN8TahBdXUq53dJ3DjiQJH27qtuXWIckSSPPqb+SpFE0AxxMMpNkU5LxJNNJZgFKKc+B68C5JDuSbKYOV1pob8lN4CFwJcmeJOuT7E6yv7n+GljRfLcqycpSygvqUKfzzf03JNmW5HiSqabuLHWI0+kkG5NMA0f/6tOQJGnIGFQlSSOnlHID2Afsop5DfQScpA4t6jkEvKKeFb0KXKSGzbaeX6gDmO4CF4B54AywrLl+jxo6L1H/XnyiKT1Mnfw7CzwDrgE7gTdN3VtgCtgLPAWONWuVJOm/lcWzGyRJkiRJ+rfcUZUkSZIkdYpBVZIkSZLUKQZVSZIkSVKnGFQlSZIkSZ1iUJUkSZIkdYpBVZIkSZLUKQZVSZIkSVKnGFQlSZIkSZ1iUJUkSZIkdcpXEfx08YEcGhUAAAAASUVORK5CYII=\n",
      "text/plain": [
       "<Figure size 1512x936 with 2 Axes>"
      ]
     },
     "metadata": {
      "needs_background": "light"
     },
     "output_type": "display_data"
    },
    {
     "data": {
      "text/html": [
       "<div>\n",
       "<style scoped>\n",
       "    .dataframe tbody tr th:only-of-type {\n",
       "        vertical-align: middle;\n",
       "    }\n",
       "\n",
       "    .dataframe tbody tr th {\n",
       "        vertical-align: top;\n",
       "    }\n",
       "\n",
       "    .dataframe thead th {\n",
       "        text-align: right;\n",
       "    }\n",
       "</style>\n",
       "<table border=\"1\" class=\"dataframe\">\n",
       "  <thead>\n",
       "    <tr style=\"text-align: right;\">\n",
       "      <th></th>\n",
       "      <th>action</th>\n",
       "      <th>adventure</th>\n",
       "      <th>comedy</th>\n",
       "      <th>crime</th>\n",
       "      <th>drama</th>\n",
       "      <th>horror</th>\n",
       "      <th>romance</th>\n",
       "      <th>thriller</th>\n",
       "      <th>western</th>\n",
       "      <th>accuracy</th>\n",
       "      <th>macro avg</th>\n",
       "      <th>weighted avg</th>\n",
       "    </tr>\n",
       "  </thead>\n",
       "  <tbody>\n",
       "    <tr>\n",
       "      <td>precision</td>\n",
       "      <td>0.613793</td>\n",
       "      <td>0.657143</td>\n",
       "      <td>0.614416</td>\n",
       "      <td>0.555556</td>\n",
       "      <td>0.544740</td>\n",
       "      <td>0.643411</td>\n",
       "      <td>0.436364</td>\n",
       "      <td>0.444444</td>\n",
       "      <td>0.783439</td>\n",
       "      <td>0.585335</td>\n",
       "      <td>0.588145</td>\n",
       "      <td>0.577703</td>\n",
       "    </tr>\n",
       "    <tr>\n",
       "      <td>recall</td>\n",
       "      <td>0.364754</td>\n",
       "      <td>0.232323</td>\n",
       "      <td>0.634002</td>\n",
       "      <td>0.053763</td>\n",
       "      <td>0.789658</td>\n",
       "      <td>0.685950</td>\n",
       "      <td>0.116505</td>\n",
       "      <td>0.042781</td>\n",
       "      <td>0.842466</td>\n",
       "      <td>0.585335</td>\n",
       "      <td>0.418023</td>\n",
       "      <td>0.585335</td>\n",
       "    </tr>\n",
       "    <tr>\n",
       "      <td>f1-score</td>\n",
       "      <td>0.457584</td>\n",
       "      <td>0.343284</td>\n",
       "      <td>0.624056</td>\n",
       "      <td>0.098039</td>\n",
       "      <td>0.644723</td>\n",
       "      <td>0.664000</td>\n",
       "      <td>0.183908</td>\n",
       "      <td>0.078049</td>\n",
       "      <td>0.811881</td>\n",
       "      <td>0.585335</td>\n",
       "      <td>0.433947</td>\n",
       "      <td>0.546228</td>\n",
       "    </tr>\n",
       "    <tr>\n",
       "      <td>support</td>\n",
       "      <td>244.000000</td>\n",
       "      <td>99.000000</td>\n",
       "      <td>847.000000</td>\n",
       "      <td>93.000000</td>\n",
       "      <td>1141.000000</td>\n",
       "      <td>242.000000</td>\n",
       "      <td>206.000000</td>\n",
       "      <td>187.000000</td>\n",
       "      <td>146.000000</td>\n",
       "      <td>0.585335</td>\n",
       "      <td>3205.000000</td>\n",
       "      <td>3205.000000</td>\n",
       "    </tr>\n",
       "  </tbody>\n",
       "</table>\n",
       "</div>"
      ],
      "text/plain": [
       "               action  adventure      comedy      crime        drama  \\\n",
       "precision    0.613793   0.657143    0.614416   0.555556     0.544740   \n",
       "recall       0.364754   0.232323    0.634002   0.053763     0.789658   \n",
       "f1-score     0.457584   0.343284    0.624056   0.098039     0.644723   \n",
       "support    244.000000  99.000000  847.000000  93.000000  1141.000000   \n",
       "\n",
       "               horror     romance    thriller     western  accuracy  \\\n",
       "precision    0.643411    0.436364    0.444444    0.783439  0.585335   \n",
       "recall       0.685950    0.116505    0.042781    0.842466  0.585335   \n",
       "f1-score     0.664000    0.183908    0.078049    0.811881  0.585335   \n",
       "support    242.000000  206.000000  187.000000  146.000000  0.585335   \n",
       "\n",
       "             macro avg  weighted avg  \n",
       "precision     0.588145      0.577703  \n",
       "recall        0.418023      0.585335  \n",
       "f1-score      0.433947      0.546228  \n",
       "support    3205.000000   3205.000000  "
      ]
     },
     "execution_count": 32,
     "metadata": {},
     "output_type": "execute_result"
    }
   ],
   "source": [
    "model_performance(model_1_loaded,X,y)"
   ]
  },
  {
   "cell_type": "code",
   "execution_count": 33,
   "metadata": {},
   "outputs": [
    {
     "name": "stderr",
     "output_type": "stream",
     "text": [
      "[Parallel(n_jobs=-1)]: Using backend ThreadingBackend with 12 concurrent workers.\n"
     ]
    },
    {
     "name": "stdout",
     "output_type": "stream",
     "text": [
      "Convergence after 8 epochs took 3.84 seconds\n",
      "Convergence after 9 epochs took 4.13 seconds\n",
      "Convergence after 9 epochs took 4.28 seconds\n"
     ]
    },
    {
     "name": "stderr",
     "output_type": "stream",
     "text": [
      "[Parallel(n_jobs=-1)]: Done   2 out of   9 | elapsed:    4.2s remaining:   14.5s\n"
     ]
    },
    {
     "name": "stdout",
     "output_type": "stream",
     "text": [
      "Convergence after 10 epochs took 4.44 seconds\n",
      "Convergence after 10 epochs took 4.53 seconds\n",
      "Convergence after 11 epochs took 4.61 seconds\n",
      "Convergence after 12 epochs took 4.69 seconds\n",
      "Convergence after 12 epochs took 4.81 seconds\n",
      "Convergence after 13 epochs took 4.84 seconds\n"
     ]
    },
    {
     "name": "stderr",
     "output_type": "stream",
     "text": [
      "[Parallel(n_jobs=-1)]: Done   9 out of   9 | elapsed:    4.8s finished\n"
     ]
    },
    {
     "data": {
      "image/png": "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\n",
      "text/plain": [
       "<Figure size 1512x936 with 2 Axes>"
      ]
     },
     "metadata": {
      "needs_background": "light"
     },
     "output_type": "display_data"
    },
    {
     "data": {
      "text/html": [
       "<div>\n",
       "<style scoped>\n",
       "    .dataframe tbody tr th:only-of-type {\n",
       "        vertical-align: middle;\n",
       "    }\n",
       "\n",
       "    .dataframe tbody tr th {\n",
       "        vertical-align: top;\n",
       "    }\n",
       "\n",
       "    .dataframe thead th {\n",
       "        text-align: right;\n",
       "    }\n",
       "</style>\n",
       "<table border=\"1\" class=\"dataframe\">\n",
       "  <thead>\n",
       "    <tr style=\"text-align: right;\">\n",
       "      <th></th>\n",
       "      <th>action</th>\n",
       "      <th>adventure</th>\n",
       "      <th>comedy</th>\n",
       "      <th>crime</th>\n",
       "      <th>drama</th>\n",
       "      <th>horror</th>\n",
       "      <th>romance</th>\n",
       "      <th>thriller</th>\n",
       "      <th>western</th>\n",
       "      <th>accuracy</th>\n",
       "      <th>macro avg</th>\n",
       "      <th>weighted avg</th>\n",
       "    </tr>\n",
       "  </thead>\n",
       "  <tbody>\n",
       "    <tr>\n",
       "      <td>precision</td>\n",
       "      <td>0.447712</td>\n",
       "      <td>0.429907</td>\n",
       "      <td>0.629587</td>\n",
       "      <td>0.321839</td>\n",
       "      <td>0.681319</td>\n",
       "      <td>0.596970</td>\n",
       "      <td>0.386831</td>\n",
       "      <td>0.273973</td>\n",
       "      <td>0.637255</td>\n",
       "      <td>0.574415</td>\n",
       "      <td>0.489488</td>\n",
       "      <td>0.580594</td>\n",
       "    </tr>\n",
       "    <tr>\n",
       "      <td>recall</td>\n",
       "      <td>0.561475</td>\n",
       "      <td>0.464646</td>\n",
       "      <td>0.648170</td>\n",
       "      <td>0.301075</td>\n",
       "      <td>0.543383</td>\n",
       "      <td>0.814050</td>\n",
       "      <td>0.456311</td>\n",
       "      <td>0.213904</td>\n",
       "      <td>0.890411</td>\n",
       "      <td>0.574415</td>\n",
       "      <td>0.543714</td>\n",
       "      <td>0.574415</td>\n",
       "    </tr>\n",
       "    <tr>\n",
       "      <td>f1-score</td>\n",
       "      <td>0.498182</td>\n",
       "      <td>0.446602</td>\n",
       "      <td>0.638743</td>\n",
       "      <td>0.311111</td>\n",
       "      <td>0.604583</td>\n",
       "      <td>0.688811</td>\n",
       "      <td>0.418708</td>\n",
       "      <td>0.240240</td>\n",
       "      <td>0.742857</td>\n",
       "      <td>0.574415</td>\n",
       "      <td>0.509982</td>\n",
       "      <td>0.571568</td>\n",
       "    </tr>\n",
       "    <tr>\n",
       "      <td>support</td>\n",
       "      <td>244.000000</td>\n",
       "      <td>99.000000</td>\n",
       "      <td>847.000000</td>\n",
       "      <td>93.000000</td>\n",
       "      <td>1141.000000</td>\n",
       "      <td>242.000000</td>\n",
       "      <td>206.000000</td>\n",
       "      <td>187.000000</td>\n",
       "      <td>146.000000</td>\n",
       "      <td>0.574415</td>\n",
       "      <td>3205.000000</td>\n",
       "      <td>3205.000000</td>\n",
       "    </tr>\n",
       "  </tbody>\n",
       "</table>\n",
       "</div>"
      ],
      "text/plain": [
       "               action  adventure      comedy      crime        drama  \\\n",
       "precision    0.447712   0.429907    0.629587   0.321839     0.681319   \n",
       "recall       0.561475   0.464646    0.648170   0.301075     0.543383   \n",
       "f1-score     0.498182   0.446602    0.638743   0.311111     0.604583   \n",
       "support    244.000000  99.000000  847.000000  93.000000  1141.000000   \n",
       "\n",
       "               horror     romance    thriller     western  accuracy  \\\n",
       "precision    0.596970    0.386831    0.273973    0.637255  0.574415   \n",
       "recall       0.814050    0.456311    0.213904    0.890411  0.574415   \n",
       "f1-score     0.688811    0.418708    0.240240    0.742857  0.574415   \n",
       "support    242.000000  206.000000  187.000000  146.000000  0.574415   \n",
       "\n",
       "             macro avg  weighted avg  \n",
       "precision     0.489488      0.580594  \n",
       "recall        0.543714      0.574415  \n",
       "f1-score      0.509982      0.571568  \n",
       "support    3205.000000   3205.000000  "
      ]
     },
     "execution_count": 33,
     "metadata": {},
     "output_type": "execute_result"
    }
   ],
   "source": [
    "model_performance(model_2_loaded,X_tokenized,y)"
   ]
  },
  {
   "cell_type": "code",
   "execution_count": 95,
   "metadata": {},
   "outputs": [
    {
     "name": "stderr",
     "output_type": "stream",
     "text": [
      "[Parallel(n_jobs=-1)]: Using backend ThreadingBackend with 12 concurrent workers.\n"
     ]
    },
    {
     "name": "stdout",
     "output_type": "stream",
     "text": [
      "Convergence after 7 epochs took 6.00 seconds\n",
      "Convergence after 7 epochs took 6.07 seconds\n",
      "Convergence after 7 epochs took 6.13 seconds\n",
      "Convergence after 7 epochs took 6.16 secondsConvergence after 7 epochs took 6.17 seconds\n",
      "\n",
      "Convergence after 7 epochs took 6.23 secondsConvergence after 7 epochs took 6.24 seconds\n"
     ]
    },
    {
     "name": "stderr",
     "output_type": "stream",
     "text": [
      "[Parallel(n_jobs=-1)]: Done   2 out of   9 | elapsed:    6.3s remaining:   22.1s\n"
     ]
    },
    {
     "name": "stdout",
     "output_type": "stream",
     "text": [
      "\n",
      "Convergence after 7 epochs took 6.28 seconds\n",
      "Convergence after 7 epochs took 6.33 seconds\n"
     ]
    },
    {
     "name": "stderr",
     "output_type": "stream",
     "text": [
      "[Parallel(n_jobs=-1)]: Done   9 out of   9 | elapsed:    6.6s finished\n"
     ]
    },
    {
     "data": {
      "image/png": "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\n",
      "text/plain": [
       "<Figure size 1512x936 with 2 Axes>"
      ]
     },
     "metadata": {
      "needs_background": "light"
     },
     "output_type": "display_data"
    },
    {
     "data": {
      "text/html": [
       "<div>\n",
       "<style scoped>\n",
       "    .dataframe tbody tr th:only-of-type {\n",
       "        vertical-align: middle;\n",
       "    }\n",
       "\n",
       "    .dataframe tbody tr th {\n",
       "        vertical-align: top;\n",
       "    }\n",
       "\n",
       "    .dataframe thead th {\n",
       "        text-align: right;\n",
       "    }\n",
       "</style>\n",
       "<table border=\"1\" class=\"dataframe\">\n",
       "  <thead>\n",
       "    <tr style=\"text-align: right;\">\n",
       "      <th></th>\n",
       "      <th>action</th>\n",
       "      <th>adventure</th>\n",
       "      <th>comedy</th>\n",
       "      <th>crime</th>\n",
       "      <th>drama</th>\n",
       "      <th>horror</th>\n",
       "      <th>romance</th>\n",
       "      <th>thriller</th>\n",
       "      <th>western</th>\n",
       "      <th>accuracy</th>\n",
       "      <th>macro avg</th>\n",
       "      <th>weighted avg</th>\n",
       "    </tr>\n",
       "  </thead>\n",
       "  <tbody>\n",
       "    <tr>\n",
       "      <td>precision</td>\n",
       "      <td>0.537190</td>\n",
       "      <td>0.516129</td>\n",
       "      <td>0.646582</td>\n",
       "      <td>0.425926</td>\n",
       "      <td>0.626939</td>\n",
       "      <td>0.631579</td>\n",
       "      <td>0.488372</td>\n",
       "      <td>0.348624</td>\n",
       "      <td>0.808642</td>\n",
       "      <td>0.611544</td>\n",
       "      <td>0.558887</td>\n",
       "      <td>0.599524</td>\n",
       "    </tr>\n",
       "    <tr>\n",
       "      <td>recall</td>\n",
       "      <td>0.532787</td>\n",
       "      <td>0.484848</td>\n",
       "      <td>0.658796</td>\n",
       "      <td>0.247312</td>\n",
       "      <td>0.673094</td>\n",
       "      <td>0.743802</td>\n",
       "      <td>0.407767</td>\n",
       "      <td>0.203209</td>\n",
       "      <td>0.897260</td>\n",
       "      <td>0.611544</td>\n",
       "      <td>0.538764</td>\n",
       "      <td>0.611544</td>\n",
       "    </tr>\n",
       "    <tr>\n",
       "      <td>f1-score</td>\n",
       "      <td>0.534979</td>\n",
       "      <td>0.500000</td>\n",
       "      <td>0.652632</td>\n",
       "      <td>0.312925</td>\n",
       "      <td>0.649197</td>\n",
       "      <td>0.683112</td>\n",
       "      <td>0.444444</td>\n",
       "      <td>0.256757</td>\n",
       "      <td>0.850649</td>\n",
       "      <td>0.611544</td>\n",
       "      <td>0.542744</td>\n",
       "      <td>0.602723</td>\n",
       "    </tr>\n",
       "    <tr>\n",
       "      <td>support</td>\n",
       "      <td>244.000000</td>\n",
       "      <td>99.000000</td>\n",
       "      <td>847.000000</td>\n",
       "      <td>93.000000</td>\n",
       "      <td>1141.000000</td>\n",
       "      <td>242.000000</td>\n",
       "      <td>206.000000</td>\n",
       "      <td>187.000000</td>\n",
       "      <td>146.000000</td>\n",
       "      <td>0.611544</td>\n",
       "      <td>3205.000000</td>\n",
       "      <td>3205.000000</td>\n",
       "    </tr>\n",
       "  </tbody>\n",
       "</table>\n",
       "</div>"
      ],
      "text/plain": [
       "               action  adventure      comedy      crime        drama  \\\n",
       "precision    0.537190   0.516129    0.646582   0.425926     0.626939   \n",
       "recall       0.532787   0.484848    0.658796   0.247312     0.673094   \n",
       "f1-score     0.534979   0.500000    0.652632   0.312925     0.649197   \n",
       "support    244.000000  99.000000  847.000000  93.000000  1141.000000   \n",
       "\n",
       "               horror     romance    thriller     western  accuracy  \\\n",
       "precision    0.631579    0.488372    0.348624    0.808642  0.611544   \n",
       "recall       0.743802    0.407767    0.203209    0.897260  0.611544   \n",
       "f1-score     0.683112    0.444444    0.256757    0.850649  0.611544   \n",
       "support    242.000000  206.000000  187.000000  146.000000  0.611544   \n",
       "\n",
       "             macro avg  weighted avg  \n",
       "precision     0.558887      0.599524  \n",
       "recall        0.538764      0.611544  \n",
       "f1-score      0.542744      0.602723  \n",
       "support    3205.000000   3205.000000  "
      ]
     },
     "execution_count": 95,
     "metadata": {},
     "output_type": "execute_result"
    }
   ],
   "source": [
    "model_performance(model_4_loaded,X,y)"
   ]
  },
  {
   "cell_type": "code",
   "execution_count": 34,
   "metadata": {},
   "outputs": [],
   "source": [
    "def final_predict(model,X,y,unknown_X):\n",
    "    model.fit(X,y)\n",
    "    return model.predict(unknown_X)"
   ]
  },
  {
   "cell_type": "code",
   "execution_count": 37,
   "metadata": {},
   "outputs": [],
   "source": [
    "test_data = pd.read_csv(\"movie_test.csv\")"
   ]
  },
  {
   "cell_type": "code",
   "execution_count": 39,
   "metadata": {},
   "outputs": [
    {
     "data": {
      "text/plain": [
       "0       After a state senator's bill to abolish chain ...\n",
       "1       Irfan Khan (Pavan Malhotra) is a key mafia aff...\n",
       "2       The film tells the story of Emma Breslin (O'Su...\n",
       "3       The boys are involved in an altercation with a...\n",
       "4       Paul Winchell plays a father to Jerry Mahoney ...\n",
       "                              ...                        \n",
       "3556    Born in 1930 to a recently widowed Englishwoma...\n",
       "3557    Professor Alex Bolt has developed a new univer...\n",
       "3558    In 1991, Hong Kong police inspector Wong Chi-s...\n",
       "3559    In the early 1920s, Eli (Cliff Robertson) is a...\n",
       "3560    The story is narrated through flashbacks. Velu...\n",
       "Name: Plot, Length: 3561, dtype: object"
      ]
     },
     "execution_count": 39,
     "metadata": {},
     "output_type": "execute_result"
    }
   ],
   "source": [
    "test_data['Plot']"
   ]
  },
  {
   "cell_type": "code",
   "execution_count": 58,
   "metadata": {},
   "outputs": [],
   "source": [
    "model_4_loaded = joblib.load(\"model_4.pkl\")"
   ]
  },
  {
   "cell_type": "code",
   "execution_count": 59,
   "metadata": {},
   "outputs": [
    {
     "name": "stderr",
     "output_type": "stream",
     "text": [
      "[Parallel(n_jobs=-1)]: Using backend ThreadingBackend with 12 concurrent workers.\n"
     ]
    },
    {
     "name": "stdout",
     "output_type": "stream",
     "text": [
      "Convergence after 7 epochs took 7.96 seconds\n",
      "Convergence after 7 epochs took 8.16 seconds\n"
     ]
    },
    {
     "name": "stderr",
     "output_type": "stream",
     "text": [
      "[Parallel(n_jobs=-1)]: Done   2 out of   9 | elapsed:    8.2s remaining:   28.8s\n"
     ]
    },
    {
     "name": "stdout",
     "output_type": "stream",
     "text": [
      "Convergence after 7 epochs took 8.28 seconds\n",
      "Convergence after 7 epochs took 8.27 seconds\n",
      "Convergence after 7 epochs took 8.45 seconds\n",
      "Convergence after 7 epochs took 8.49 seconds\n",
      "Convergence after 7 epochs took 8.55 seconds\n",
      "Convergence after 7 epochs took 8.59 seconds\n",
      "Convergence after 7 epochs took 8.56 seconds\n"
     ]
    },
    {
     "name": "stderr",
     "output_type": "stream",
     "text": [
      "[Parallel(n_jobs=-1)]: Done   9 out of   9 | elapsed:    8.7s finished\n"
     ]
    }
   ],
   "source": [
    "test_data['Genre_predicted']=final_predict(model_4_loaded,X,y,test_data['Plot'])"
   ]
  },
  {
   "cell_type": "code",
   "execution_count": 73,
   "metadata": {},
   "outputs": [],
   "source": [
    "answers = test_data.set_index('Unnamed: 0')['Genre_predicted']"
   ]
  },
  {
   "cell_type": "code",
   "execution_count": 77,
   "metadata": {},
   "outputs": [],
   "source": [
    "answers.to_csv(\"finalanswers_CS.csv\",header=False)"
   ]
  },
  {
   "cell_type": "code",
   "execution_count": 93,
   "metadata": {},
   "outputs": [
    {
     "data": {
      "text/plain": [
       "3561"
      ]
     },
     "execution_count": 93,
     "metadata": {},
     "output_type": "execute_result"
    }
   ],
   "source": [
    "len(answers)"
   ]
  },
  {
   "cell_type": "code",
=======
>>>>>>> 27b6deaa522d9623aa415e58efe90daa932a6128
   "execution_count": null,
   "metadata": {},
   "outputs": [],
   "source": []
  }
 ],
 "metadata": {
  "kernelspec": {
   "display_name": "Python 3",
   "language": "python",
   "name": "python3"
  },
  "language_info": {
   "codemirror_mode": {
    "name": "ipython",
    "version": 3
   },
   "file_extension": ".py",
   "mimetype": "text/x-python",
   "name": "python",
   "nbconvert_exporter": "python",
   "pygments_lexer": "ipython3",
   "version": "3.7.3"
  }
 },
 "nbformat": 4,
 "nbformat_minor": 2
}
