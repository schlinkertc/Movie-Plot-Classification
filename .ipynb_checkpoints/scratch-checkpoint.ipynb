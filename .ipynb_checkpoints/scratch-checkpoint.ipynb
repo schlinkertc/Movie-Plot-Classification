{
 "cells": [
  {
   "cell_type": "code",
   "execution_count": 6,
   "metadata": {},
   "outputs": [
    {
     "name": "stdout",
     "output_type": "stream",
     "text": [
      "(10682, 7)\n"
     ]
    },
    {
     "data": {
      "text/html": [
       "<div>\n",
       "<style scoped>\n",
       "    .dataframe tbody tr th:only-of-type {\n",
       "        vertical-align: middle;\n",
       "    }\n",
       "\n",
       "    .dataframe tbody tr th {\n",
       "        vertical-align: top;\n",
       "    }\n",
       "\n",
       "    .dataframe thead th {\n",
       "        text-align: right;\n",
       "    }\n",
       "</style>\n",
       "<table border=\"1\" class=\"dataframe\">\n",
       "  <thead>\n",
       "    <tr style=\"text-align: right;\">\n",
       "      <th></th>\n",
       "      <th>ID</th>\n",
       "      <th>Release Year</th>\n",
       "      <th>Title</th>\n",
       "      <th>Plot</th>\n",
       "      <th>Director</th>\n",
       "      <th>Cast</th>\n",
       "      <th>Genre</th>\n",
       "    </tr>\n",
       "  </thead>\n",
       "  <tbody>\n",
       "    <tr>\n",
       "      <td>0</td>\n",
       "      <td>10281</td>\n",
       "      <td>1984</td>\n",
       "      <td>Silent Madness</td>\n",
       "      <td>A computer error leads to the accidental relea...</td>\n",
       "      <td>Simon Nuchtern</td>\n",
       "      <td>Belinda Montgomery, Viveca Lindfors</td>\n",
       "      <td>horror</td>\n",
       "    </tr>\n",
       "    <tr>\n",
       "      <td>1</td>\n",
       "      <td>7341</td>\n",
       "      <td>1960</td>\n",
       "      <td>Desire in the Dust</td>\n",
       "      <td>Lonnie Wilson (Ken Scott), the son of a sharec...</td>\n",
       "      <td>Robert L. Lippert</td>\n",
       "      <td>Raymond Burr, Martha Hyer, Joan Bennett</td>\n",
       "      <td>drama</td>\n",
       "    </tr>\n",
       "    <tr>\n",
       "      <td>2</td>\n",
       "      <td>10587</td>\n",
       "      <td>1986</td>\n",
       "      <td>On the Edge</td>\n",
       "      <td>A gaunt, bushy-bearded, 44-year-old Wes Holman...</td>\n",
       "      <td>Rob Nilsson</td>\n",
       "      <td>Bruce Dern, Pam Grier</td>\n",
       "      <td>drama</td>\n",
       "    </tr>\n",
       "    <tr>\n",
       "      <td>3</td>\n",
       "      <td>25495</td>\n",
       "      <td>1988</td>\n",
       "      <td>Ram-Avtar</td>\n",
       "      <td>Ram and Avtar are both childhood best friends....</td>\n",
       "      <td>Sunil Hingorani</td>\n",
       "      <td>Sunny Deol, Anil Kapoor, Sridevi</td>\n",
       "      <td>drama</td>\n",
       "    </tr>\n",
       "    <tr>\n",
       "      <td>4</td>\n",
       "      <td>16607</td>\n",
       "      <td>2013</td>\n",
       "      <td>Machete Kills</td>\n",
       "      <td>Machete Cortez (Danny Trejo) and Sartana River...</td>\n",
       "      <td>Robert Rodriguez</td>\n",
       "      <td>Danny Trejo, Michelle Rodriguez, Sofía Vergara...</td>\n",
       "      <td>action</td>\n",
       "    </tr>\n",
       "  </tbody>\n",
       "</table>\n",
       "</div>"
      ],
      "text/plain": [
       "      ID  Release Year               Title  \\\n",
       "0  10281          1984      Silent Madness   \n",
       "1   7341          1960  Desire in the Dust   \n",
       "2  10587          1986         On the Edge   \n",
       "3  25495          1988           Ram-Avtar   \n",
       "4  16607          2013       Machete Kills   \n",
       "\n",
       "                                                Plot           Director  \\\n",
       "0  A computer error leads to the accidental relea...     Simon Nuchtern   \n",
       "1  Lonnie Wilson (Ken Scott), the son of a sharec...  Robert L. Lippert   \n",
       "2  A gaunt, bushy-bearded, 44-year-old Wes Holman...        Rob Nilsson   \n",
       "3  Ram and Avtar are both childhood best friends....    Sunil Hingorani   \n",
       "4  Machete Cortez (Danny Trejo) and Sartana River...   Robert Rodriguez   \n",
       "\n",
       "                                                Cast   Genre  \n",
       "0                Belinda Montgomery, Viveca Lindfors  horror  \n",
       "1            Raymond Burr, Martha Hyer, Joan Bennett   drama  \n",
       "2                              Bruce Dern, Pam Grier   drama  \n",
       "3                   Sunny Deol, Anil Kapoor, Sridevi   drama  \n",
       "4  Danny Trejo, Michelle Rodriguez, Sofía Vergara...  action  "
      ]
     },
     "execution_count": 6,
     "metadata": {},
     "output_type": "execute_result"
    }
   ],
   "source": [
    "import pandas as pd\n",
    "import text_processing as text\n",
    "from sklearn import metrics\n",
    "from sklearn.metrics import precision_score, accuracy_score, recall_score, f1_score\n",
    "from sklearn.model_selection import StratifiedKFold, cross_val_predict, cross_val_score\n",
    "from sklearn.feature_extraction.text import CountVectorizer, TfidfTransformer, TfidfVectorizer\n",
    "from sklearn.pipeline import Pipeline\n",
    "from sklearn.linear_model import SGDClassifier\n",
    "import numpy as np\n",
    "import matplotlib.pyplot as plt\n",
    "from sklearn.model_selection import GridSearchCV\n",
    "from sklearn.model_selection import train_test_split\n",
    "\n",
    "import imblearn.pipeline as balance_pipe\n",
    "from imblearn.over_sampling import ADASYN, SMOTE, RandomOverSampler\n",
    "\n",
    "\n",
    "df = pd.read_csv(\"movie_train.csv\",index_col=0,)\n",
    "\n",
    "df.reset_index(drop=False,inplace=True)\n",
    "df.rename(mapper={'index':'ID'},axis=1,inplace=True)\n",
    "\n",
    "print(df.shape)\n",
    "\n",
    "df.head()\n",
    "\n",
    "\n"
   ]
  },
  {
   "cell_type": "markdown",
   "metadata": {},
   "source": [
    "Begin Modeling"
   ]
  },
  {
   "cell_type": "code",
   "execution_count": 33,
   "metadata": {},
   "outputs": [],
   "source": [
    "X = df['Plot']\n",
    "y = df['Genre']\n",
    "\n",
    "X_train, X_test, y_train, y_test = train_test_split(X, y, test_size=0.3, random_state=0)\n",
    "\n",
    "# skf = StratifiedKFold(n_splits=3)\n",
    "# for train_index, test_index in skf.split(X, y):\n",
    "#     X_train, X_test = X[train_index], X[test_index]\n",
    "#     y_train, y_test = y[train_index], y[test_index]"
   ]
  },
  {
   "cell_type": "code",
   "execution_count": 34,
   "metadata": {},
   "outputs": [],
   "source": [
    "text_clf = Pipeline([\n",
    "     ('vect', CountVectorizer()),\n",
    "     ('tfidf', TfidfTransformer()),\n",
    "     ('clf', SGDClassifier(loss='hinge',penalty='l2',\n",
    "                           alpha=1e-3, random_state=42,\n",
    "                           n_jobs=-1)),\n",
    " ])"
   ]
  },
  {
   "cell_type": "code",
   "execution_count": 35,
   "metadata": {},
   "outputs": [
    {
     "name": "stdout",
     "output_type": "stream",
     "text": [
      "0.5778471138845553\n"
     ]
    }
   ],
   "source": [
    "text_clf.fit(X_train, y_train)\n",
    "predicted = text_clf.predict(X_test)\n",
    "print(np.mean(predicted == y_test))"
   ]
  },
  {
   "cell_type": "code",
   "execution_count": null,
   "metadata": {},
   "outputs": [],
   "source": []
  },
  {
   "cell_type": "code",
   "execution_count": 19,
   "metadata": {},
   "outputs": [],
   "source": [
    "parameters = {\n",
    "     'vect__ngram_range': [(1, 1), (1, 2)],\n",
    "     'tfidf__use_idf': (True, False),\n",
    "     'clf__alpha': (1e-2, 1e-3),\n",
    " }"
   ]
  },
  {
   "cell_type": "code",
   "execution_count": 20,
   "metadata": {},
   "outputs": [],
   "source": [
    "# Create grid search \n",
    "scorer = metrics.make_scorer(metrics.f1_score, average = 'weighted')\n",
    "gs_clf = GridSearchCV(text_clf, parameters, cv=5, n_jobs=-1,scoring=scorer)"
   ]
  },
  {
   "cell_type": "code",
   "execution_count": 21,
   "metadata": {},
   "outputs": [],
   "source": [
    "gs_clf = gs_clf.fit(X_train, y_train)"
   ]
  },
  {
   "cell_type": "code",
   "execution_count": 22,
   "metadata": {},
   "outputs": [
    {
     "name": "stdout",
     "output_type": "stream",
     "text": [
      "0.5853354134165366\n"
     ]
    },
    {
     "data": {
      "text/html": [
       "<div>\n",
       "<style scoped>\n",
       "    .dataframe tbody tr th:only-of-type {\n",
       "        vertical-align: middle;\n",
       "    }\n",
       "\n",
       "    .dataframe tbody tr th {\n",
       "        vertical-align: top;\n",
       "    }\n",
       "\n",
       "    .dataframe thead th {\n",
       "        text-align: right;\n",
       "    }\n",
       "</style>\n",
       "<table border=\"1\" class=\"dataframe\">\n",
       "  <thead>\n",
       "    <tr style=\"text-align: right;\">\n",
       "      <th></th>\n",
       "      <th>action</th>\n",
       "      <th>adventure</th>\n",
       "      <th>comedy</th>\n",
       "      <th>crime</th>\n",
       "      <th>drama</th>\n",
       "      <th>horror</th>\n",
       "      <th>romance</th>\n",
       "      <th>thriller</th>\n",
       "      <th>western</th>\n",
       "      <th>accuracy</th>\n",
       "      <th>macro avg</th>\n",
       "      <th>weighted avg</th>\n",
       "    </tr>\n",
       "  </thead>\n",
       "  <tbody>\n",
       "    <tr>\n",
       "      <td>precision</td>\n",
       "      <td>0.613793</td>\n",
       "      <td>0.657143</td>\n",
       "      <td>0.614416</td>\n",
       "      <td>0.555556</td>\n",
       "      <td>0.544740</td>\n",
       "      <td>0.643411</td>\n",
       "      <td>0.436364</td>\n",
       "      <td>0.444444</td>\n",
       "      <td>0.783439</td>\n",
       "      <td>0.585335</td>\n",
       "      <td>0.588145</td>\n",
       "      <td>0.577703</td>\n",
       "    </tr>\n",
       "    <tr>\n",
       "      <td>recall</td>\n",
       "      <td>0.364754</td>\n",
       "      <td>0.232323</td>\n",
       "      <td>0.634002</td>\n",
       "      <td>0.053763</td>\n",
       "      <td>0.789658</td>\n",
       "      <td>0.685950</td>\n",
       "      <td>0.116505</td>\n",
       "      <td>0.042781</td>\n",
       "      <td>0.842466</td>\n",
       "      <td>0.585335</td>\n",
       "      <td>0.418023</td>\n",
       "      <td>0.585335</td>\n",
       "    </tr>\n",
       "    <tr>\n",
       "      <td>f1-score</td>\n",
       "      <td>0.457584</td>\n",
       "      <td>0.343284</td>\n",
       "      <td>0.624056</td>\n",
       "      <td>0.098039</td>\n",
       "      <td>0.644723</td>\n",
       "      <td>0.664000</td>\n",
       "      <td>0.183908</td>\n",
       "      <td>0.078049</td>\n",
       "      <td>0.811881</td>\n",
       "      <td>0.585335</td>\n",
       "      <td>0.433947</td>\n",
       "      <td>0.546228</td>\n",
       "    </tr>\n",
       "    <tr>\n",
       "      <td>support</td>\n",
       "      <td>244.000000</td>\n",
       "      <td>99.000000</td>\n",
       "      <td>847.000000</td>\n",
       "      <td>93.000000</td>\n",
       "      <td>1141.000000</td>\n",
       "      <td>242.000000</td>\n",
       "      <td>206.000000</td>\n",
       "      <td>187.000000</td>\n",
       "      <td>146.000000</td>\n",
       "      <td>0.585335</td>\n",
       "      <td>3205.000000</td>\n",
       "      <td>3205.000000</td>\n",
       "    </tr>\n",
       "  </tbody>\n",
       "</table>\n",
       "</div>"
      ],
      "text/plain": [
       "               action  adventure      comedy      crime        drama  \\\n",
       "precision    0.613793   0.657143    0.614416   0.555556     0.544740   \n",
       "recall       0.364754   0.232323    0.634002   0.053763     0.789658   \n",
       "f1-score     0.457584   0.343284    0.624056   0.098039     0.644723   \n",
       "support    244.000000  99.000000  847.000000  93.000000  1141.000000   \n",
       "\n",
       "               horror     romance    thriller     western  accuracy  \\\n",
       "precision    0.643411    0.436364    0.444444    0.783439  0.585335   \n",
       "recall       0.685950    0.116505    0.042781    0.842466  0.585335   \n",
       "f1-score     0.664000    0.183908    0.078049    0.811881  0.585335   \n",
       "support    242.000000  206.000000  187.000000  146.000000  0.585335   \n",
       "\n",
       "             macro avg  weighted avg  \n",
       "precision     0.588145      0.577703  \n",
       "recall        0.418023      0.585335  \n",
       "f1-score      0.433947      0.546228  \n",
       "support    3205.000000   3205.000000  "
      ]
     },
     "execution_count": 22,
     "metadata": {},
     "output_type": "execute_result"
    }
   ],
   "source": [
    "y_preds = gs_clf.predict(X_test)\n",
    "print(metrics.accuracy_score(y_test,y_preds))\n",
    "metrics.f1_score(y_test,y_preds,average='weighted')\n",
    "pd.DataFrame(metrics.classification_report(y_test,y_preds,output_dict=True))"
   ]
  },
  {
   "cell_type": "markdown",
   "metadata": {},
   "source": [
    "GridSearch"
   ]
  },
  {
   "cell_type": "code",
   "execution_count": 28,
   "metadata": {},
   "outputs": [],
   "source": [
    "text_clf = Pipeline([\n",
    "    \n",
    "     ('vect', CountVectorizer()),\n",
    "     ('tfidf', TfidfTransformer()),\n",
    "     ('clf', SGDClassifier(loss='hinge',penalty='l2',\n",
    "                           alpha=1e-3, random_state=42,\n",
    "                           n_jobs=-1)),\n",
    " ])\n",
    "\n",
    "parameters = {\n",
    "     'vect__ngram_range': [(1, 1), (1, 2)],\n",
    "     'tfidf__use_idf': (True, False),\n",
    "     'clf__alpha': (1e-2, 1e-3),\n",
    " }\n",
    "\n",
    "gs_clf = GridSearchCV(text_clf, parameters, cv=5, n_jobs=-1,scoring=scorer)\n",
    "\n",
    "gs_clf = gs_clf.fit(X_train, y_train)\n",
    "\n",
    "y_preds = gs_clf.predict(X_test)"
   ]
  },
  {
   "cell_type": "code",
   "execution_count": 29,
   "metadata": {},
   "outputs": [
    {
     "name": "stdout",
     "output_type": "stream",
     "text": [
      "0.5853354134165366\n"
     ]
    },
    {
     "data": {
      "text/html": [
       "<div>\n",
       "<style scoped>\n",
       "    .dataframe tbody tr th:only-of-type {\n",
       "        vertical-align: middle;\n",
       "    }\n",
       "\n",
       "    .dataframe tbody tr th {\n",
       "        vertical-align: top;\n",
       "    }\n",
       "\n",
       "    .dataframe thead th {\n",
       "        text-align: right;\n",
       "    }\n",
       "</style>\n",
       "<table border=\"1\" class=\"dataframe\">\n",
       "  <thead>\n",
       "    <tr style=\"text-align: right;\">\n",
       "      <th></th>\n",
       "      <th>action</th>\n",
       "      <th>adventure</th>\n",
       "      <th>comedy</th>\n",
       "      <th>crime</th>\n",
       "      <th>drama</th>\n",
       "      <th>horror</th>\n",
       "      <th>romance</th>\n",
       "      <th>thriller</th>\n",
       "      <th>western</th>\n",
       "      <th>accuracy</th>\n",
       "      <th>macro avg</th>\n",
       "      <th>weighted avg</th>\n",
       "    </tr>\n",
       "  </thead>\n",
       "  <tbody>\n",
       "    <tr>\n",
       "      <td>precision</td>\n",
       "      <td>0.613793</td>\n",
       "      <td>0.657143</td>\n",
       "      <td>0.614416</td>\n",
       "      <td>0.555556</td>\n",
       "      <td>0.544740</td>\n",
       "      <td>0.643411</td>\n",
       "      <td>0.436364</td>\n",
       "      <td>0.444444</td>\n",
       "      <td>0.783439</td>\n",
       "      <td>0.585335</td>\n",
       "      <td>0.588145</td>\n",
       "      <td>0.577703</td>\n",
       "    </tr>\n",
       "    <tr>\n",
       "      <td>recall</td>\n",
       "      <td>0.364754</td>\n",
       "      <td>0.232323</td>\n",
       "      <td>0.634002</td>\n",
       "      <td>0.053763</td>\n",
       "      <td>0.789658</td>\n",
       "      <td>0.685950</td>\n",
       "      <td>0.116505</td>\n",
       "      <td>0.042781</td>\n",
       "      <td>0.842466</td>\n",
       "      <td>0.585335</td>\n",
       "      <td>0.418023</td>\n",
       "      <td>0.585335</td>\n",
       "    </tr>\n",
       "    <tr>\n",
       "      <td>f1-score</td>\n",
       "      <td>0.457584</td>\n",
       "      <td>0.343284</td>\n",
       "      <td>0.624056</td>\n",
       "      <td>0.098039</td>\n",
       "      <td>0.644723</td>\n",
       "      <td>0.664000</td>\n",
       "      <td>0.183908</td>\n",
       "      <td>0.078049</td>\n",
       "      <td>0.811881</td>\n",
       "      <td>0.585335</td>\n",
       "      <td>0.433947</td>\n",
       "      <td>0.546228</td>\n",
       "    </tr>\n",
       "    <tr>\n",
       "      <td>support</td>\n",
       "      <td>244.000000</td>\n",
       "      <td>99.000000</td>\n",
       "      <td>847.000000</td>\n",
       "      <td>93.000000</td>\n",
       "      <td>1141.000000</td>\n",
       "      <td>242.000000</td>\n",
       "      <td>206.000000</td>\n",
       "      <td>187.000000</td>\n",
       "      <td>146.000000</td>\n",
       "      <td>0.585335</td>\n",
       "      <td>3205.000000</td>\n",
       "      <td>3205.000000</td>\n",
       "    </tr>\n",
       "  </tbody>\n",
       "</table>\n",
       "</div>"
      ],
      "text/plain": [
       "               action  adventure      comedy      crime        drama  \\\n",
       "precision    0.613793   0.657143    0.614416   0.555556     0.544740   \n",
       "recall       0.364754   0.232323    0.634002   0.053763     0.789658   \n",
       "f1-score     0.457584   0.343284    0.624056   0.098039     0.644723   \n",
       "support    244.000000  99.000000  847.000000  93.000000  1141.000000   \n",
       "\n",
       "               horror     romance    thriller     western  accuracy  \\\n",
       "precision    0.643411    0.436364    0.444444    0.783439  0.585335   \n",
       "recall       0.685950    0.116505    0.042781    0.842466  0.585335   \n",
       "f1-score     0.664000    0.183908    0.078049    0.811881  0.585335   \n",
       "support    242.000000  206.000000  187.000000  146.000000  0.585335   \n",
       "\n",
       "             macro avg  weighted avg  \n",
       "precision     0.588145      0.577703  \n",
       "recall        0.418023      0.585335  \n",
       "f1-score      0.433947      0.546228  \n",
       "support    3205.000000   3205.000000  "
      ]
     },
     "execution_count": 29,
     "metadata": {},
     "output_type": "execute_result"
    }
   ],
   "source": [
    "y_preds = gs_clf.predict(X_test)\n",
    "print(metrics.accuracy_score(y_test,y_preds))\n",
    "metrics.f1_score(y_test,y_preds,average='weighted')\n",
    "pd.DataFrame(metrics.classification_report(y_test,y_preds,output_dict=True))"
   ]
  },
  {
   "cell_type": "code",
   "execution_count": 23,
   "metadata": {},
   "outputs": [],
   "source": [
    "import re, nltk, spacy, gensim"
   ]
  },
  {
   "cell_type": "code",
   "execution_count": 24,
   "metadata": {},
   "outputs": [],
   "source": [
    "# def doc_to_words(docs):\n",
    "#     for doc in docs:\n",
    "#         yield(gensim.utils.simple_preprocess(str(doc), deacc=True))\n",
    "        \n",
    "# def lemmatization(texts, allowed_postags=['NOUN', 'ADJ', 'VERB', 'ADV']):\n",
    "#     \"\"\"https://spacy.io/api/annotation\"\"\"\n",
    "#     texts_out = []\n",
    "#     nlp = spacy.load('en_core_web_sm', disable=['parser', 'ner'])\n",
    "#     for sent in texts:\n",
    "#         doc = nlp(\" \".join(sent)) \n",
    "#         texts_out.append(\" \".join([token.lemma_ if token.lemma_ not in ['-PRON-'] else '' for token in doc if token.pos_ in allowed_postags]))\n",
    "#     return texts_out\n",
    "\n",
    "# def pre_process(documents):\n",
    "#     return lemmatization(doc_to_words(documents))"
   ]
  },
  {
   "cell_type": "code",
   "execution_count": 27,
   "metadata": {},
   "outputs": [],
   "source": [
    "df['Processed_Plot'] = text.pre_process(df['Plot'])"
   ]
  },
  {
   "cell_type": "code",
   "execution_count": null,
   "metadata": {},
   "outputs": [],
   "source": [
    "## Trying the same thing again with a pre-processed corpus\n",
    "\n",
    "X = df['Processed_Plot']\n",
    "y = df['Genre']\n",
    "\n",
    "for train_index, test_index in skf.split(X, y):\n",
    "    X_train, X_test = X[train_index], X[test_index]\n",
    "    y_train, y_test = y[train_index], y[test_index]\n",
    "    \n",
    "text_clf = Pipeline([\n",
    "    \n",
    "     ('vect', CountVectorizer()),\n",
    "     ('tfidf', TfidfTransformer()),\n",
    "     ('clf', SGDClassifier(loss='hinge',penalty='l2',\n",
    "                           alpha=1e-3, random_state=42,\n",
    "                           n_jobs=-1)),\n",
    " ])\n",
    "\n",
    "parameters = {\n",
    "     'vect__ngram_range': [(1, 1), (1, 2)],\n",
    "     'tfidf__use_idf': (True, False),\n",
    "     'clf__alpha': (1e-2, 1e-3),\n",
    " }\n",
    "\n",
    "gs_clf = GridSearchCV(text_clf, parameters, cv=5, n_jobs=-1,scoring=scorer)\n",
    "\n",
    "gs_clf = gs_clf.fit(X_train, y_train)\n",
    "\n",
    "y_preds = gs_clf.predict(X_test)"
   ]
  },
  {
   "cell_type": "code",
   "execution_count": 30,
   "metadata": {},
   "outputs": [
    {
     "name": "stdout",
     "output_type": "stream",
     "text": [
      "0.5462277097245963\n"
     ]
    },
    {
     "data": {
      "text/plain": [
       "{'clf__alpha': 0.001, 'tfidf__use_idf': True, 'vect__ngram_range': (1, 2)}"
      ]
     },
     "execution_count": 30,
     "metadata": {},
     "output_type": "execute_result"
    }
   ],
   "source": [
    "print(metrics.f1_score(y_test,y_preds,average='weighted'))\n",
    "gs_clf.best_params_"
   ]
  },
  {
   "cell_type": "code",
   "execution_count": null,
   "metadata": {},
   "outputs": [],
   "source": []
  },
  {
   "cell_type": "code",
   "execution_count": 38,
   "metadata": {},
   "outputs": [],
   "source": [
    "from imblearn.pipeline import make_pipeline\n",
    "from imblearn.over_sampling import ADASYN, SMOTE, RandomOverSampler"
   ]
  },
  {
   "cell_type": "code",
   "execution_count": 40,
   "metadata": {},
   "outputs": [],
   "source": [
    "sm_pipeline = make_pipeline(CountVectorizer(),\n",
    "                            TfidfTransformer(),\n",
    "                            SMOTE(n_jobs=-1,random_state=42),\n",
    "                            SGDClassifier(n_jobs=-1,verbose=-1,random_state=42))\n",
    "\n",
    "sm_pipeline.named_steps"
   ]
  },
  {
   "cell_type": "code",
   "execution_count": 42,
   "metadata": {},
   "outputs": [],
   "source": [
    "sm_params = {\n",
    "    'countvectorizer__ngram_range':[(1,1),(1,2)],\n",
    "    'countvectorizer__max_df':[1,.9],\n",
    "    'countvectorizer__min_df':[1,.9],\n",
    "    'tfidftransformer__use_idf':[True,False],\n",
    "    'tfidftransformer__smooth_idf':[True,False],\n",
    "    'sgdclassifier__alpha':[.0001,.001],\n",
    "    'sgdclassifier__loss':['hinge','log']\n",
    "}"
   ]
  },
  {
   "cell_type": "code",
   "execution_count": 45,
   "metadata": {},
   "outputs": [],
   "source": [
    "sm_search = GridSearchCV(sm_pipeline,sm_params,cv=5,n_jobs=-1,scoring=scorer,verbose=3)"
   ]
  },
  {
   "cell_type": "code",
   "execution_count": 44,
   "metadata": {},
   "outputs": [],
   "source": [
    "def pipeline_cv(splits, X, Y, pipeline, average_method):\n",
    "    \n",
    "    kfold = StratifiedKFold(n_splits=splits, shuffle=True, random_state=777)\n",
    "    accuracy = []\n",
    "    precision = []\n",
    "    recall = []\n",
    "    f1 = []\n",
    "    for train, test in kfold.split(X, Y):\n",
    "        lr_fit = pipeline.fit(X[train], Y[train])\n",
    "        prediction = lr_fit.predict(X[test])\n",
    "        scores = lr_fit.score(X[test],Y[test])\n",
    "        \n",
    "        accuracy.append(scores * 100)\n",
    "        precision.append(precision_score(Y[test], prediction, average=average_method)*100)\n",
    "        #print('              negative    neutral     positive')\n",
    "        #print('precision:',precision_score(Y[test], prediction, average=None))\n",
    "        recall.append(recall_score(Y[test], prediction, average=average_method)*100)\n",
    "        #print('recall:   ',recall_score(Y[test], prediction, average=None))\n",
    "        f1.append(f1_score(Y[test], prediction, average=average_method)*100)\n",
    "        #print('f1 score: ',f1_score(Y[test], prediction, average=None))\n",
    "        #print('-'*50)\n",
    "        \n",
    "        display(pd.DataFrame(metrics.classification_report(Y[test],prediction,output_dict=True)))\n",
    "        \n",
    "\n",
    "    print(\"accuracy: %.2f%% (+/- %.2f%%)\" % (np.mean(accuracy), np.std(accuracy)))\n",
    "    print(\"precision: %.2f%% (+/- %.2f%%)\" % (np.mean(precision), np.std(precision)))\n",
    "    print(\"recall: %.2f%% (+/- %.2f%%)\" % (np.mean(recall), np.std(recall)))\n",
    "    print(\"f1 score: %.2f%% (+/- %.2f%%)\" % (np.mean(f1), np.std(f1)))"
   ]
  },
  {
   "cell_type": "code",
   "execution_count": 128,
   "metadata": {},
   "outputs": [
    {
     "name": "stderr",
     "output_type": "stream",
     "text": [
      "[Parallel(n_jobs=-1)]: Using backend ThreadingBackend with 12 concurrent workers.\n"
     ]
    },
    {
     "name": "stdout",
     "output_type": "stream",
     "text": [
      "Convergence after 8 epochs took 3.37 seconds\n",
      "Convergence after 9 epochs took 3.65 seconds\n"
     ]
    },
    {
     "name": "stderr",
     "output_type": "stream",
     "text": [
      "[Parallel(n_jobs=-1)]: Done   2 out of   9 | elapsed:    3.7s remaining:   12.8s\n"
     ]
    },
    {
     "name": "stdout",
     "output_type": "stream",
     "text": [
      "Convergence after 9 epochs took 3.93 seconds\n",
      "Convergence after 10 epochs took 4.23 seconds\n",
      "Convergence after 10 epochs took 4.23 seconds\n",
      "Convergence after 11 epochs took 4.31 seconds\n",
      "Convergence after 11 epochs took 4.37 seconds\n",
      "Convergence after 12 epochs took 4.40 seconds\n",
      "Convergence after 13 epochs took 4.42 seconds\n"
     ]
    },
    {
     "name": "stderr",
     "output_type": "stream",
     "text": [
      "[Parallel(n_jobs=-1)]: Done   9 out of   9 | elapsed:    4.5s finished\n"
     ]
    },
    {
     "name": "stdout",
     "output_type": "stream",
     "text": [
      "precision: [0.45308311 0.47663551 0.62628337 0.39285714 0.69858871 0.61460957\n",
      " 0.41111111 0.37142857 0.69642857]\n",
      "recall:    [0.6101083  0.46363636 0.67180617 0.3        0.55131265 0.87142857\n",
      " 0.51388889 0.22807018 0.89142857]\n",
      "f1 score:  [0.52       0.47004608 0.64824655 0.34020619 0.6162739  0.72082718\n",
      " 0.45679012 0.2826087  0.78195489]\n",
      "--------------------------------------------------\n"
     ]
    },
    {
     "data": {
      "text/html": [
       "<div>\n",
       "<style scoped>\n",
       "    .dataframe tbody tr th:only-of-type {\n",
       "        vertical-align: middle;\n",
       "    }\n",
       "\n",
       "    .dataframe tbody tr th {\n",
       "        vertical-align: top;\n",
       "    }\n",
       "\n",
       "    .dataframe thead th {\n",
       "        text-align: right;\n",
       "    }\n",
       "</style>\n",
       "<table border=\"1\" class=\"dataframe\">\n",
       "  <thead>\n",
       "    <tr style=\"text-align: right;\">\n",
       "      <th></th>\n",
       "      <th>action</th>\n",
       "      <th>adventure</th>\n",
       "      <th>comedy</th>\n",
       "      <th>crime</th>\n",
       "      <th>drama</th>\n",
       "      <th>horror</th>\n",
       "      <th>romance</th>\n",
       "      <th>thriller</th>\n",
       "      <th>western</th>\n",
       "      <th>accuracy</th>\n",
       "      <th>macro avg</th>\n",
       "      <th>weighted avg</th>\n",
       "    </tr>\n",
       "  </thead>\n",
       "  <tbody>\n",
       "    <tr>\n",
       "      <td>precision</td>\n",
       "      <td>0.453083</td>\n",
       "      <td>0.476636</td>\n",
       "      <td>0.626283</td>\n",
       "      <td>0.392857</td>\n",
       "      <td>0.698589</td>\n",
       "      <td>0.614610</td>\n",
       "      <td>0.411111</td>\n",
       "      <td>0.371429</td>\n",
       "      <td>0.696429</td>\n",
       "      <td>0.595058</td>\n",
       "      <td>0.526781</td>\n",
       "      <td>0.599660</td>\n",
       "    </tr>\n",
       "    <tr>\n",
       "      <td>recall</td>\n",
       "      <td>0.610108</td>\n",
       "      <td>0.463636</td>\n",
       "      <td>0.671806</td>\n",
       "      <td>0.300000</td>\n",
       "      <td>0.551313</td>\n",
       "      <td>0.871429</td>\n",
       "      <td>0.513889</td>\n",
       "      <td>0.228070</td>\n",
       "      <td>0.891429</td>\n",
       "      <td>0.595058</td>\n",
       "      <td>0.566853</td>\n",
       "      <td>0.595058</td>\n",
       "    </tr>\n",
       "    <tr>\n",
       "      <td>f1-score</td>\n",
       "      <td>0.520000</td>\n",
       "      <td>0.470046</td>\n",
       "      <td>0.648247</td>\n",
       "      <td>0.340206</td>\n",
       "      <td>0.616274</td>\n",
       "      <td>0.720827</td>\n",
       "      <td>0.456790</td>\n",
       "      <td>0.282609</td>\n",
       "      <td>0.781955</td>\n",
       "      <td>0.595058</td>\n",
       "      <td>0.537439</td>\n",
       "      <td>0.589218</td>\n",
       "    </tr>\n",
       "    <tr>\n",
       "      <td>support</td>\n",
       "      <td>277.000000</td>\n",
       "      <td>110.000000</td>\n",
       "      <td>908.000000</td>\n",
       "      <td>110.000000</td>\n",
       "      <td>1257.000000</td>\n",
       "      <td>280.000000</td>\n",
       "      <td>216.000000</td>\n",
       "      <td>228.000000</td>\n",
       "      <td>175.000000</td>\n",
       "      <td>0.595058</td>\n",
       "      <td>3561.000000</td>\n",
       "      <td>3561.000000</td>\n",
       "    </tr>\n",
       "  </tbody>\n",
       "</table>\n",
       "</div>"
      ],
      "text/plain": [
       "               action   adventure      comedy       crime        drama  \\\n",
       "precision    0.453083    0.476636    0.626283    0.392857     0.698589   \n",
       "recall       0.610108    0.463636    0.671806    0.300000     0.551313   \n",
       "f1-score     0.520000    0.470046    0.648247    0.340206     0.616274   \n",
       "support    277.000000  110.000000  908.000000  110.000000  1257.000000   \n",
       "\n",
       "               horror     romance    thriller     western  accuracy  \\\n",
       "precision    0.614610    0.411111    0.371429    0.696429  0.595058   \n",
       "recall       0.871429    0.513889    0.228070    0.891429  0.595058   \n",
       "f1-score     0.720827    0.456790    0.282609    0.781955  0.595058   \n",
       "support    280.000000  216.000000  228.000000  175.000000  0.595058   \n",
       "\n",
       "             macro avg  weighted avg  \n",
       "precision     0.526781      0.599660  \n",
       "recall        0.566853      0.595058  \n",
       "f1-score      0.537439      0.589218  \n",
       "support    3561.000000   3561.000000  "
      ]
     },
     "metadata": {},
     "output_type": "display_data"
    },
    {
     "name": "stderr",
     "output_type": "stream",
     "text": [
      "[Parallel(n_jobs=-1)]: Using backend ThreadingBackend with 12 concurrent workers.\n"
     ]
    },
    {
     "name": "stdout",
     "output_type": "stream",
     "text": [
      "Convergence after 8 epochs took 3.95 seconds\n",
      "Convergence after 9 epochs took 4.44 seconds\n",
      "Convergence after 9 epochs took 4.55 seconds\n"
     ]
    },
    {
     "name": "stderr",
     "output_type": "stream",
     "text": [
      "[Parallel(n_jobs=-1)]: Done   2 out of   9 | elapsed:    4.5s remaining:   15.7s\n"
     ]
    },
    {
     "name": "stdout",
     "output_type": "stream",
     "text": [
      "Convergence after 10 epochs took 4.92 seconds\n",
      "Convergence after 11 epochs took 5.07 seconds\n",
      "Convergence after 11 epochs took 5.12 seconds\n",
      "Convergence after 11 epochs took 5.11 seconds\n",
      "Convergence after 12 epochs took 5.21 seconds\n",
      "Convergence after 13 epochs took 5.28 seconds\n"
     ]
    },
    {
     "name": "stderr",
     "output_type": "stream",
     "text": [
      "[Parallel(n_jobs=-1)]: Done   9 out of   9 | elapsed:    5.3s finished\n"
     ]
    },
    {
     "name": "stdout",
     "output_type": "stream",
     "text": [
      "precision: [0.46991404 0.47272727 0.64912281 0.37179487 0.69223206 0.63002681\n",
      " 0.3465704  0.32544379 0.68949772]\n",
      "recall:    [0.5942029  0.46846847 0.69273128 0.26605505 0.56006364 0.83928571\n",
      " 0.44239631 0.24122807 0.86285714]\n",
      "f1 score:  [0.5248     0.47058824 0.67021843 0.31016043 0.61917326 0.71975498\n",
      " 0.38866397 0.27707809 0.76649746]\n",
      "--------------------------------------------------\n"
     ]
    },
    {
     "data": {
      "text/html": [
       "<div>\n",
       "<style scoped>\n",
       "    .dataframe tbody tr th:only-of-type {\n",
       "        vertical-align: middle;\n",
       "    }\n",
       "\n",
       "    .dataframe tbody tr th {\n",
       "        vertical-align: top;\n",
       "    }\n",
       "\n",
       "    .dataframe thead th {\n",
       "        text-align: right;\n",
       "    }\n",
       "</style>\n",
       "<table border=\"1\" class=\"dataframe\">\n",
       "  <thead>\n",
       "    <tr style=\"text-align: right;\">\n",
       "      <th></th>\n",
       "      <th>action</th>\n",
       "      <th>adventure</th>\n",
       "      <th>comedy</th>\n",
       "      <th>crime</th>\n",
       "      <th>drama</th>\n",
       "      <th>horror</th>\n",
       "      <th>romance</th>\n",
       "      <th>thriller</th>\n",
       "      <th>western</th>\n",
       "      <th>accuracy</th>\n",
       "      <th>macro avg</th>\n",
       "      <th>weighted avg</th>\n",
       "    </tr>\n",
       "  </thead>\n",
       "  <tbody>\n",
       "    <tr>\n",
       "      <td>precision</td>\n",
       "      <td>0.469914</td>\n",
       "      <td>0.472727</td>\n",
       "      <td>0.649123</td>\n",
       "      <td>0.371795</td>\n",
       "      <td>0.692232</td>\n",
       "      <td>0.630027</td>\n",
       "      <td>0.346570</td>\n",
       "      <td>0.325444</td>\n",
       "      <td>0.689498</td>\n",
       "      <td>0.593934</td>\n",
       "      <td>0.516370</td>\n",
       "      <td>0.597784</td>\n",
       "    </tr>\n",
       "    <tr>\n",
       "      <td>recall</td>\n",
       "      <td>0.594203</td>\n",
       "      <td>0.468468</td>\n",
       "      <td>0.692731</td>\n",
       "      <td>0.266055</td>\n",
       "      <td>0.560064</td>\n",
       "      <td>0.839286</td>\n",
       "      <td>0.442396</td>\n",
       "      <td>0.241228</td>\n",
       "      <td>0.862857</td>\n",
       "      <td>0.593934</td>\n",
       "      <td>0.551921</td>\n",
       "      <td>0.593934</td>\n",
       "    </tr>\n",
       "    <tr>\n",
       "      <td>f1-score</td>\n",
       "      <td>0.524800</td>\n",
       "      <td>0.470588</td>\n",
       "      <td>0.670218</td>\n",
       "      <td>0.310160</td>\n",
       "      <td>0.619173</td>\n",
       "      <td>0.719755</td>\n",
       "      <td>0.388664</td>\n",
       "      <td>0.277078</td>\n",
       "      <td>0.766497</td>\n",
       "      <td>0.593934</td>\n",
       "      <td>0.527437</td>\n",
       "      <td>0.589983</td>\n",
       "    </tr>\n",
       "    <tr>\n",
       "      <td>support</td>\n",
       "      <td>276.000000</td>\n",
       "      <td>111.000000</td>\n",
       "      <td>908.000000</td>\n",
       "      <td>109.000000</td>\n",
       "      <td>1257.000000</td>\n",
       "      <td>280.000000</td>\n",
       "      <td>217.000000</td>\n",
       "      <td>228.000000</td>\n",
       "      <td>175.000000</td>\n",
       "      <td>0.593934</td>\n",
       "      <td>3561.000000</td>\n",
       "      <td>3561.000000</td>\n",
       "    </tr>\n",
       "  </tbody>\n",
       "</table>\n",
       "</div>"
      ],
      "text/plain": [
       "               action   adventure      comedy       crime        drama  \\\n",
       "precision    0.469914    0.472727    0.649123    0.371795     0.692232   \n",
       "recall       0.594203    0.468468    0.692731    0.266055     0.560064   \n",
       "f1-score     0.524800    0.470588    0.670218    0.310160     0.619173   \n",
       "support    276.000000  111.000000  908.000000  109.000000  1257.000000   \n",
       "\n",
       "               horror     romance    thriller     western  accuracy  \\\n",
       "precision    0.630027    0.346570    0.325444    0.689498  0.593934   \n",
       "recall       0.839286    0.442396    0.241228    0.862857  0.593934   \n",
       "f1-score     0.719755    0.388664    0.277078    0.766497  0.593934   \n",
       "support    280.000000  217.000000  228.000000  175.000000  0.593934   \n",
       "\n",
       "             macro avg  weighted avg  \n",
       "precision     0.516370      0.597784  \n",
       "recall        0.551921      0.593934  \n",
       "f1-score      0.527437      0.589983  \n",
       "support    3561.000000   3561.000000  "
      ]
     },
     "metadata": {},
     "output_type": "display_data"
    },
    {
     "name": "stderr",
     "output_type": "stream",
     "text": [
      "[Parallel(n_jobs=-1)]: Using backend ThreadingBackend with 12 concurrent workers.\n"
     ]
    },
    {
     "name": "stdout",
     "output_type": "stream",
     "text": [
      "Convergence after 8 epochs took 3.16 seconds\n",
      "Convergence after 9 epochs took 3.83 seconds\n",
      "Convergence after 9 epochs took 3.97 seconds\n"
     ]
    },
    {
     "name": "stderr",
     "output_type": "stream",
     "text": [
      "[Parallel(n_jobs=-1)]: Done   2 out of   9 | elapsed:    3.9s remaining:   13.5s\n"
     ]
    },
    {
     "name": "stdout",
     "output_type": "stream",
     "text": [
      "Convergence after 10 epochs took 4.17 seconds\n",
      "Convergence after 10 epochs took 4.19 seconds\n",
      "Convergence after 11 epochs took 4.36 seconds\n",
      "Convergence after 12 epochs took 4.42 seconds\n",
      "Convergence after 12 epochs took 4.46 seconds\n",
      "Convergence after 13 epochs took 4.51 seconds\n"
     ]
    },
    {
     "name": "stderr",
     "output_type": "stream",
     "text": [
      "[Parallel(n_jobs=-1)]: Done   9 out of   9 | elapsed:    4.5s finished\n"
     ]
    },
    {
     "name": "stdout",
     "output_type": "stream",
     "text": [
      "precision: [0.45504087 0.45714286 0.60322256 0.4        0.69034995 0.60552764\n",
      " 0.35099338 0.31818182 0.75242718]\n",
      "recall:    [0.60288809 0.43636364 0.65969163 0.25688073 0.5183121  0.86071429\n",
      " 0.49074074 0.24454148 0.88571429]\n",
      "f1 score:  [0.51863354 0.44651163 0.63019463 0.31284916 0.59208731 0.71091445\n",
      " 0.40926641 0.27654321 0.81364829]\n",
      "--------------------------------------------------\n"
     ]
    },
    {
     "data": {
      "text/html": [
       "<div>\n",
       "<style scoped>\n",
       "    .dataframe tbody tr th:only-of-type {\n",
       "        vertical-align: middle;\n",
       "    }\n",
       "\n",
       "    .dataframe tbody tr th {\n",
       "        vertical-align: top;\n",
       "    }\n",
       "\n",
       "    .dataframe thead th {\n",
       "        text-align: right;\n",
       "    }\n",
       "</style>\n",
       "<table border=\"1\" class=\"dataframe\">\n",
       "  <thead>\n",
       "    <tr style=\"text-align: right;\">\n",
       "      <th></th>\n",
       "      <th>action</th>\n",
       "      <th>adventure</th>\n",
       "      <th>comedy</th>\n",
       "      <th>crime</th>\n",
       "      <th>drama</th>\n",
       "      <th>horror</th>\n",
       "      <th>romance</th>\n",
       "      <th>thriller</th>\n",
       "      <th>western</th>\n",
       "      <th>accuracy</th>\n",
       "      <th>macro avg</th>\n",
       "      <th>weighted avg</th>\n",
       "    </tr>\n",
       "  </thead>\n",
       "  <tbody>\n",
       "    <tr>\n",
       "      <td>precision</td>\n",
       "      <td>0.455041</td>\n",
       "      <td>0.457143</td>\n",
       "      <td>0.603223</td>\n",
       "      <td>0.400000</td>\n",
       "      <td>0.690350</td>\n",
       "      <td>0.605528</td>\n",
       "      <td>0.350993</td>\n",
       "      <td>0.318182</td>\n",
       "      <td>0.752427</td>\n",
       "      <td>0.576124</td>\n",
       "      <td>0.514765</td>\n",
       "      <td>0.585573</td>\n",
       "    </tr>\n",
       "    <tr>\n",
       "      <td>recall</td>\n",
       "      <td>0.602888</td>\n",
       "      <td>0.436364</td>\n",
       "      <td>0.659692</td>\n",
       "      <td>0.256881</td>\n",
       "      <td>0.518312</td>\n",
       "      <td>0.860714</td>\n",
       "      <td>0.490741</td>\n",
       "      <td>0.244541</td>\n",
       "      <td>0.885714</td>\n",
       "      <td>0.576124</td>\n",
       "      <td>0.550650</td>\n",
       "      <td>0.576124</td>\n",
       "    </tr>\n",
       "    <tr>\n",
       "      <td>f1-score</td>\n",
       "      <td>0.518634</td>\n",
       "      <td>0.446512</td>\n",
       "      <td>0.630195</td>\n",
       "      <td>0.312849</td>\n",
       "      <td>0.592087</td>\n",
       "      <td>0.710914</td>\n",
       "      <td>0.409266</td>\n",
       "      <td>0.276543</td>\n",
       "      <td>0.813648</td>\n",
       "      <td>0.576124</td>\n",
       "      <td>0.523405</td>\n",
       "      <td>0.571891</td>\n",
       "    </tr>\n",
       "    <tr>\n",
       "      <td>support</td>\n",
       "      <td>277.000000</td>\n",
       "      <td>110.000000</td>\n",
       "      <td>908.000000</td>\n",
       "      <td>109.000000</td>\n",
       "      <td>1256.000000</td>\n",
       "      <td>280.000000</td>\n",
       "      <td>216.000000</td>\n",
       "      <td>229.000000</td>\n",
       "      <td>175.000000</td>\n",
       "      <td>0.576124</td>\n",
       "      <td>3560.000000</td>\n",
       "      <td>3560.000000</td>\n",
       "    </tr>\n",
       "  </tbody>\n",
       "</table>\n",
       "</div>"
      ],
      "text/plain": [
       "               action   adventure      comedy       crime        drama  \\\n",
       "precision    0.455041    0.457143    0.603223    0.400000     0.690350   \n",
       "recall       0.602888    0.436364    0.659692    0.256881     0.518312   \n",
       "f1-score     0.518634    0.446512    0.630195    0.312849     0.592087   \n",
       "support    277.000000  110.000000  908.000000  109.000000  1256.000000   \n",
       "\n",
       "               horror     romance    thriller     western  accuracy  \\\n",
       "precision    0.605528    0.350993    0.318182    0.752427  0.576124   \n",
       "recall       0.860714    0.490741    0.244541    0.885714  0.576124   \n",
       "f1-score     0.710914    0.409266    0.276543    0.813648  0.576124   \n",
       "support    280.000000  216.000000  229.000000  175.000000  0.576124   \n",
       "\n",
       "             macro avg  weighted avg  \n",
       "precision     0.514765      0.585573  \n",
       "recall        0.550650      0.576124  \n",
       "f1-score      0.523405      0.571891  \n",
       "support    3560.000000   3560.000000  "
      ]
     },
     "metadata": {},
     "output_type": "display_data"
    },
    {
     "name": "stdout",
     "output_type": "stream",
     "text": [
      "accuracy: 58.84% (+/- 0.87%)\n",
      "precision: 59.43% (+/- 0.62%)\n",
      "recall: 58.84% (+/- 0.87%)\n",
      "f1 score: 58.37% (+/- 0.84%)\n"
     ]
    }
   ],
   "source": [
    "pipeline_cv(3,X,y,sm_search,'weighted')"
   ]
  },
  {
   "cell_type": "code",
   "execution_count": null,
   "metadata": {},
   "outputs": [],
   "source": []
  },
  {
   "cell_type": "code",
   "execution_count": 47,
   "metadata": {},
   "outputs": [],
   "source": [
    "from sklearn.ensemble import RandomForestClassifier"
   ]
  },
  {
   "cell_type": "code",
   "execution_count": 49,
   "metadata": {},
   "outputs": [
    {
     "data": {
      "text/plain": [
       "{'countvectorizer': CountVectorizer(analyzer='word', binary=False, decode_error='strict',\n",
       "                 dtype=<class 'numpy.int64'>, encoding='utf-8', input='content',\n",
       "                 lowercase=True, max_df=1.0, max_features=None, min_df=1,\n",
       "                 ngram_range=(1, 1), preprocessor=None, stop_words=None,\n",
       "                 strip_accents=None, token_pattern='(?u)\\\\b\\\\w\\\\w+\\\\b',\n",
       "                 tokenizer=None, vocabulary=None),\n",
       " 'tfidftransformer': TfidfTransformer(norm='l2', smooth_idf=True, sublinear_tf=False, use_idf=True),\n",
       " 'smote': SMOTE(k_neighbors=5, n_jobs=-1, random_state=42, sampling_strategy='auto'),\n",
       " 'randomforestclassifier': RandomForestClassifier(bootstrap=True, ccp_alpha=0.0, class_weight=None,\n",
       "                        criterion='gini', max_depth=None, max_features='auto',\n",
       "                        max_leaf_nodes=None, max_samples=None,\n",
       "                        min_impurity_decrease=0.0, min_impurity_split=None,\n",
       "                        min_samples_leaf=1, min_samples_split=2,\n",
       "                        min_weight_fraction_leaf=0.0, n_estimators=100,\n",
       "                        n_jobs=None, oob_score=False, random_state=42, verbose=0,\n",
       "                        warm_start=False)}"
      ]
     },
     "execution_count": 49,
     "metadata": {},
     "output_type": "execute_result"
    }
   ],
   "source": [
    "rf_sm_pipeline = make_pipeline(CountVectorizer(),\n",
    "                            TfidfTransformer(),\n",
    "                            SMOTE(n_jobs=-1,random_state=42),\n",
    "                            RandomForestClassifier(random_state=42))\n",
    "\n",
    "rf_sm_pipeline.named_steps"
   ]
  },
  {
   "cell_type": "code",
   "execution_count": 54,
   "metadata": {},
   "outputs": [],
   "source": [
    "rf_sm_params = {\n",
    "    'countvectorizer__ngram_range':[(1,2),(2,3)],\n",
    "    'countvectorizer__max_df':[.8,.9],\n",
    "    'countvectorizer__min_df':[1,.9],\n",
    "    'tfidftransformer__use_idf':[True,False],\n",
    "    'tfidftransformer__smooth_idf':[True,False],\n",
    "    'randomforestclassifier__criterion':['gini','entropy'],\n",
    "    'randomforestclassifier__max_depth':[None,10]\n",
    "}\n",
    "\n",
    "rf_sm_search = GridSearchCV(rf_sm_pipeline,rf_sm_params,cv=5,n_jobs=-1,scoring=scorer,verbose=3)"
   ]
  },
  {
   "cell_type": "code",
   "execution_count": null,
   "metadata": {},
   "outputs": [
    {
     "name": "stdout",
     "output_type": "stream",
     "text": [
      "Fitting 5 folds for each of 128 candidates, totalling 640 fits\n"
     ]
    },
    {
     "name": "stderr",
     "output_type": "stream",
     "text": [
      "[Parallel(n_jobs=-1)]: Using backend LokyBackend with 12 concurrent workers.\n"
     ]
    }
   ],
   "source": [
    "pipeline_cv(3,X,y,rf_sm_search,'weighted')"
   ]
  },
  {
   "cell_type": "code",
   "execution_count": null,
   "metadata": {},
   "outputs": [],
   "source": []
  }
 ],
 "metadata": {
  "kernelspec": {
   "display_name": "Python 3",
   "language": "python",
   "name": "python3"
  },
  "language_info": {
   "codemirror_mode": {
    "name": "ipython",
    "version": 3
   },
   "file_extension": ".py",
   "mimetype": "text/x-python",
   "name": "python",
   "nbconvert_exporter": "python",
   "pygments_lexer": "ipython3",
   "version": "3.7.3"
  }
 },
 "nbformat": 4,
 "nbformat_minor": 2
}
